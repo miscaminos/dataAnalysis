{
  "nbformat": 4,
  "nbformat_minor": 0,
  "metadata": {
    "colab": {
      "name": "CreditCardFraudDetection_modeling1.ipynb",
      "provenance": [],
      "collapsed_sections": []
    },
    "kernelspec": {
      "name": "python3",
      "display_name": "Python 3"
    },
    "language_info": {
      "name": "python"
    }
  },
  "cells": [
    {
      "cell_type": "markdown",
      "metadata": {
        "id": "iBLFrbGN5e7n"
      },
      "source": [
        "# Credit card fraud detection problem\n",
        "\n",
        "Kaggle dataset & problem description: https://www.kaggle.com/mlg-ulb/creditcardfraud"
      ]
    },
    {
      "cell_type": "markdown",
      "metadata": {
        "id": "cPiTFRgmTit8"
      },
      "source": [
        "## Dataset"
      ]
    },
    {
      "cell_type": "code",
      "metadata": {
        "colab": {
          "base_uri": "https://localhost:8080/"
        },
        "id": "JG81xaJ_qR_j",
        "outputId": "bf38f057-d331-4b9c-8877-01b2e5f3c5b3"
      },
      "source": [
        "from google.colab import drive\n",
        "drive.mount('/content/gdrive/')"
      ],
      "execution_count": 1,
      "outputs": [
        {
          "output_type": "stream",
          "text": [
            "Mounted at /content/gdrive/\n"
          ],
          "name": "stdout"
        }
      ]
    },
    {
      "cell_type": "code",
      "metadata": {
        "id": "sYSYUuyDqjix"
      },
      "source": [
        "import pandas as pd\n",
        "import numpy as np"
      ],
      "execution_count": 2,
      "outputs": []
    },
    {
      "cell_type": "code",
      "metadata": {
        "id": "qH51EgDrsDz9"
      },
      "source": [
        "data_df = pd.read_csv('/content/gdrive/MyDrive/creditcard.csv')"
      ],
      "execution_count": 3,
      "outputs": []
    },
    {
      "cell_type": "code",
      "metadata": {
        "colab": {
          "base_uri": "https://localhost:8080/"
        },
        "id": "en6v4IySsIHe",
        "outputId": "41336fd0-80b4-4da4-839c-c5ad51fde53c"
      },
      "source": [
        "data_df.shape"
      ],
      "execution_count": 4,
      "outputs": [
        {
          "output_type": "execute_result",
          "data": {
            "text/plain": [
              "(284807, 31)"
            ]
          },
          "metadata": {
            "tags": []
          },
          "execution_count": 4
        }
      ]
    },
    {
      "cell_type": "code",
      "metadata": {
        "colab": {
          "base_uri": "https://localhost:8080/"
        },
        "id": "xLUR_OhftHzI",
        "outputId": "5a3ba1a9-5f14-42e8-ee0b-db3e75199f22"
      },
      "source": [
        "data_df.info()"
      ],
      "execution_count": 5,
      "outputs": [
        {
          "output_type": "stream",
          "text": [
            "<class 'pandas.core.frame.DataFrame'>\n",
            "RangeIndex: 284807 entries, 0 to 284806\n",
            "Data columns (total 31 columns):\n",
            " #   Column  Non-Null Count   Dtype  \n",
            "---  ------  --------------   -----  \n",
            " 0   Time    284807 non-null  float64\n",
            " 1   V1      284807 non-null  float64\n",
            " 2   V2      284807 non-null  float64\n",
            " 3   V3      284807 non-null  float64\n",
            " 4   V4      284807 non-null  float64\n",
            " 5   V5      284807 non-null  float64\n",
            " 6   V6      284807 non-null  float64\n",
            " 7   V7      284807 non-null  float64\n",
            " 8   V8      284807 non-null  float64\n",
            " 9   V9      284807 non-null  float64\n",
            " 10  V10     284807 non-null  float64\n",
            " 11  V11     284807 non-null  float64\n",
            " 12  V12     284807 non-null  float64\n",
            " 13  V13     284807 non-null  float64\n",
            " 14  V14     284807 non-null  float64\n",
            " 15  V15     284807 non-null  float64\n",
            " 16  V16     284807 non-null  float64\n",
            " 17  V17     284807 non-null  float64\n",
            " 18  V18     284807 non-null  float64\n",
            " 19  V19     284807 non-null  float64\n",
            " 20  V20     284807 non-null  float64\n",
            " 21  V21     284807 non-null  float64\n",
            " 22  V22     284807 non-null  float64\n",
            " 23  V23     284807 non-null  float64\n",
            " 24  V24     284807 non-null  float64\n",
            " 25  V25     284807 non-null  float64\n",
            " 26  V26     284807 non-null  float64\n",
            " 27  V27     284807 non-null  float64\n",
            " 28  V28     284807 non-null  float64\n",
            " 29  Amount  284807 non-null  float64\n",
            " 30  Class   284807 non-null  int64  \n",
            "dtypes: float64(30), int64(1)\n",
            "memory usage: 67.4 MB\n"
          ],
          "name": "stdout"
        }
      ]
    },
    {
      "cell_type": "markdown",
      "metadata": {
        "id": "ORvWBl1rVbeD"
      },
      "source": [
        "## Data preprocessing"
      ]
    },
    {
      "cell_type": "markdown",
      "metadata": {
        "id": "OEKoPPFgSSiJ"
      },
      "source": [
        "### Outliers treatment\n",
        "\n",
        "#### - trimming\n",
        "\n",
        "1. use z-score treatment"
      ]
    },
    {
      "cell_type": "code",
      "metadata": {
        "id": "vcukB5L6SPlN"
      },
      "source": [
        "from scipy import stats"
      ],
      "execution_count": 7,
      "outputs": []
    },
    {
      "cell_type": "code",
      "metadata": {
        "colab": {
          "base_uri": "https://localhost:8080/",
          "height": 317
        },
        "id": "A7xHEQxIBvwP",
        "outputId": "d427926e-8da8-4d4e-ac6e-26b428d9c7f3"
      },
      "source": [
        "data_df.describe()"
      ],
      "execution_count": 8,
      "outputs": [
        {
          "output_type": "execute_result",
          "data": {
            "text/html": [
              "<div>\n",
              "<style scoped>\n",
              "    .dataframe tbody tr th:only-of-type {\n",
              "        vertical-align: middle;\n",
              "    }\n",
              "\n",
              "    .dataframe tbody tr th {\n",
              "        vertical-align: top;\n",
              "    }\n",
              "\n",
              "    .dataframe thead th {\n",
              "        text-align: right;\n",
              "    }\n",
              "</style>\n",
              "<table border=\"1\" class=\"dataframe\">\n",
              "  <thead>\n",
              "    <tr style=\"text-align: right;\">\n",
              "      <th></th>\n",
              "      <th>Time</th>\n",
              "      <th>V1</th>\n",
              "      <th>V2</th>\n",
              "      <th>V3</th>\n",
              "      <th>V4</th>\n",
              "      <th>V5</th>\n",
              "      <th>V6</th>\n",
              "      <th>V7</th>\n",
              "      <th>V8</th>\n",
              "      <th>V9</th>\n",
              "      <th>V10</th>\n",
              "      <th>V11</th>\n",
              "      <th>V12</th>\n",
              "      <th>V13</th>\n",
              "      <th>V14</th>\n",
              "      <th>V15</th>\n",
              "      <th>V16</th>\n",
              "      <th>V17</th>\n",
              "      <th>V18</th>\n",
              "      <th>V19</th>\n",
              "      <th>V20</th>\n",
              "      <th>V21</th>\n",
              "      <th>V22</th>\n",
              "      <th>V23</th>\n",
              "      <th>V24</th>\n",
              "      <th>V25</th>\n",
              "      <th>V26</th>\n",
              "      <th>V27</th>\n",
              "      <th>V28</th>\n",
              "      <th>Amount</th>\n",
              "      <th>Class</th>\n",
              "    </tr>\n",
              "  </thead>\n",
              "  <tbody>\n",
              "    <tr>\n",
              "      <th>count</th>\n",
              "      <td>284807.000000</td>\n",
              "      <td>2.848070e+05</td>\n",
              "      <td>2.848070e+05</td>\n",
              "      <td>2.848070e+05</td>\n",
              "      <td>2.848070e+05</td>\n",
              "      <td>2.848070e+05</td>\n",
              "      <td>2.848070e+05</td>\n",
              "      <td>2.848070e+05</td>\n",
              "      <td>2.848070e+05</td>\n",
              "      <td>2.848070e+05</td>\n",
              "      <td>2.848070e+05</td>\n",
              "      <td>2.848070e+05</td>\n",
              "      <td>2.848070e+05</td>\n",
              "      <td>2.848070e+05</td>\n",
              "      <td>2.848070e+05</td>\n",
              "      <td>2.848070e+05</td>\n",
              "      <td>2.848070e+05</td>\n",
              "      <td>2.848070e+05</td>\n",
              "      <td>2.848070e+05</td>\n",
              "      <td>2.848070e+05</td>\n",
              "      <td>2.848070e+05</td>\n",
              "      <td>2.848070e+05</td>\n",
              "      <td>2.848070e+05</td>\n",
              "      <td>2.848070e+05</td>\n",
              "      <td>2.848070e+05</td>\n",
              "      <td>2.848070e+05</td>\n",
              "      <td>2.848070e+05</td>\n",
              "      <td>2.848070e+05</td>\n",
              "      <td>2.848070e+05</td>\n",
              "      <td>284807.000000</td>\n",
              "      <td>284807.000000</td>\n",
              "    </tr>\n",
              "    <tr>\n",
              "      <th>mean</th>\n",
              "      <td>94813.859575</td>\n",
              "      <td>3.919560e-15</td>\n",
              "      <td>5.688174e-16</td>\n",
              "      <td>-8.769071e-15</td>\n",
              "      <td>2.782312e-15</td>\n",
              "      <td>-1.552563e-15</td>\n",
              "      <td>2.010663e-15</td>\n",
              "      <td>-1.694249e-15</td>\n",
              "      <td>-1.927028e-16</td>\n",
              "      <td>-3.137024e-15</td>\n",
              "      <td>1.768627e-15</td>\n",
              "      <td>9.170318e-16</td>\n",
              "      <td>-1.810658e-15</td>\n",
              "      <td>1.693438e-15</td>\n",
              "      <td>1.479045e-15</td>\n",
              "      <td>3.482336e-15</td>\n",
              "      <td>1.392007e-15</td>\n",
              "      <td>-7.528491e-16</td>\n",
              "      <td>4.328772e-16</td>\n",
              "      <td>9.049732e-16</td>\n",
              "      <td>5.085503e-16</td>\n",
              "      <td>1.537294e-16</td>\n",
              "      <td>7.959909e-16</td>\n",
              "      <td>5.367590e-16</td>\n",
              "      <td>4.458112e-15</td>\n",
              "      <td>1.453003e-15</td>\n",
              "      <td>1.699104e-15</td>\n",
              "      <td>-3.660161e-16</td>\n",
              "      <td>-1.206049e-16</td>\n",
              "      <td>88.349619</td>\n",
              "      <td>0.001727</td>\n",
              "    </tr>\n",
              "    <tr>\n",
              "      <th>std</th>\n",
              "      <td>47488.145955</td>\n",
              "      <td>1.958696e+00</td>\n",
              "      <td>1.651309e+00</td>\n",
              "      <td>1.516255e+00</td>\n",
              "      <td>1.415869e+00</td>\n",
              "      <td>1.380247e+00</td>\n",
              "      <td>1.332271e+00</td>\n",
              "      <td>1.237094e+00</td>\n",
              "      <td>1.194353e+00</td>\n",
              "      <td>1.098632e+00</td>\n",
              "      <td>1.088850e+00</td>\n",
              "      <td>1.020713e+00</td>\n",
              "      <td>9.992014e-01</td>\n",
              "      <td>9.952742e-01</td>\n",
              "      <td>9.585956e-01</td>\n",
              "      <td>9.153160e-01</td>\n",
              "      <td>8.762529e-01</td>\n",
              "      <td>8.493371e-01</td>\n",
              "      <td>8.381762e-01</td>\n",
              "      <td>8.140405e-01</td>\n",
              "      <td>7.709250e-01</td>\n",
              "      <td>7.345240e-01</td>\n",
              "      <td>7.257016e-01</td>\n",
              "      <td>6.244603e-01</td>\n",
              "      <td>6.056471e-01</td>\n",
              "      <td>5.212781e-01</td>\n",
              "      <td>4.822270e-01</td>\n",
              "      <td>4.036325e-01</td>\n",
              "      <td>3.300833e-01</td>\n",
              "      <td>250.120109</td>\n",
              "      <td>0.041527</td>\n",
              "    </tr>\n",
              "    <tr>\n",
              "      <th>min</th>\n",
              "      <td>0.000000</td>\n",
              "      <td>-5.640751e+01</td>\n",
              "      <td>-7.271573e+01</td>\n",
              "      <td>-4.832559e+01</td>\n",
              "      <td>-5.683171e+00</td>\n",
              "      <td>-1.137433e+02</td>\n",
              "      <td>-2.616051e+01</td>\n",
              "      <td>-4.355724e+01</td>\n",
              "      <td>-7.321672e+01</td>\n",
              "      <td>-1.343407e+01</td>\n",
              "      <td>-2.458826e+01</td>\n",
              "      <td>-4.797473e+00</td>\n",
              "      <td>-1.868371e+01</td>\n",
              "      <td>-5.791881e+00</td>\n",
              "      <td>-1.921433e+01</td>\n",
              "      <td>-4.498945e+00</td>\n",
              "      <td>-1.412985e+01</td>\n",
              "      <td>-2.516280e+01</td>\n",
              "      <td>-9.498746e+00</td>\n",
              "      <td>-7.213527e+00</td>\n",
              "      <td>-5.449772e+01</td>\n",
              "      <td>-3.483038e+01</td>\n",
              "      <td>-1.093314e+01</td>\n",
              "      <td>-4.480774e+01</td>\n",
              "      <td>-2.836627e+00</td>\n",
              "      <td>-1.029540e+01</td>\n",
              "      <td>-2.604551e+00</td>\n",
              "      <td>-2.256568e+01</td>\n",
              "      <td>-1.543008e+01</td>\n",
              "      <td>0.000000</td>\n",
              "      <td>0.000000</td>\n",
              "    </tr>\n",
              "    <tr>\n",
              "      <th>25%</th>\n",
              "      <td>54201.500000</td>\n",
              "      <td>-9.203734e-01</td>\n",
              "      <td>-5.985499e-01</td>\n",
              "      <td>-8.903648e-01</td>\n",
              "      <td>-8.486401e-01</td>\n",
              "      <td>-6.915971e-01</td>\n",
              "      <td>-7.682956e-01</td>\n",
              "      <td>-5.540759e-01</td>\n",
              "      <td>-2.086297e-01</td>\n",
              "      <td>-6.430976e-01</td>\n",
              "      <td>-5.354257e-01</td>\n",
              "      <td>-7.624942e-01</td>\n",
              "      <td>-4.055715e-01</td>\n",
              "      <td>-6.485393e-01</td>\n",
              "      <td>-4.255740e-01</td>\n",
              "      <td>-5.828843e-01</td>\n",
              "      <td>-4.680368e-01</td>\n",
              "      <td>-4.837483e-01</td>\n",
              "      <td>-4.988498e-01</td>\n",
              "      <td>-4.562989e-01</td>\n",
              "      <td>-2.117214e-01</td>\n",
              "      <td>-2.283949e-01</td>\n",
              "      <td>-5.423504e-01</td>\n",
              "      <td>-1.618463e-01</td>\n",
              "      <td>-3.545861e-01</td>\n",
              "      <td>-3.171451e-01</td>\n",
              "      <td>-3.269839e-01</td>\n",
              "      <td>-7.083953e-02</td>\n",
              "      <td>-5.295979e-02</td>\n",
              "      <td>5.600000</td>\n",
              "      <td>0.000000</td>\n",
              "    </tr>\n",
              "    <tr>\n",
              "      <th>50%</th>\n",
              "      <td>84692.000000</td>\n",
              "      <td>1.810880e-02</td>\n",
              "      <td>6.548556e-02</td>\n",
              "      <td>1.798463e-01</td>\n",
              "      <td>-1.984653e-02</td>\n",
              "      <td>-5.433583e-02</td>\n",
              "      <td>-2.741871e-01</td>\n",
              "      <td>4.010308e-02</td>\n",
              "      <td>2.235804e-02</td>\n",
              "      <td>-5.142873e-02</td>\n",
              "      <td>-9.291738e-02</td>\n",
              "      <td>-3.275735e-02</td>\n",
              "      <td>1.400326e-01</td>\n",
              "      <td>-1.356806e-02</td>\n",
              "      <td>5.060132e-02</td>\n",
              "      <td>4.807155e-02</td>\n",
              "      <td>6.641332e-02</td>\n",
              "      <td>-6.567575e-02</td>\n",
              "      <td>-3.636312e-03</td>\n",
              "      <td>3.734823e-03</td>\n",
              "      <td>-6.248109e-02</td>\n",
              "      <td>-2.945017e-02</td>\n",
              "      <td>6.781943e-03</td>\n",
              "      <td>-1.119293e-02</td>\n",
              "      <td>4.097606e-02</td>\n",
              "      <td>1.659350e-02</td>\n",
              "      <td>-5.213911e-02</td>\n",
              "      <td>1.342146e-03</td>\n",
              "      <td>1.124383e-02</td>\n",
              "      <td>22.000000</td>\n",
              "      <td>0.000000</td>\n",
              "    </tr>\n",
              "    <tr>\n",
              "      <th>75%</th>\n",
              "      <td>139320.500000</td>\n",
              "      <td>1.315642e+00</td>\n",
              "      <td>8.037239e-01</td>\n",
              "      <td>1.027196e+00</td>\n",
              "      <td>7.433413e-01</td>\n",
              "      <td>6.119264e-01</td>\n",
              "      <td>3.985649e-01</td>\n",
              "      <td>5.704361e-01</td>\n",
              "      <td>3.273459e-01</td>\n",
              "      <td>5.971390e-01</td>\n",
              "      <td>4.539234e-01</td>\n",
              "      <td>7.395934e-01</td>\n",
              "      <td>6.182380e-01</td>\n",
              "      <td>6.625050e-01</td>\n",
              "      <td>4.931498e-01</td>\n",
              "      <td>6.488208e-01</td>\n",
              "      <td>5.232963e-01</td>\n",
              "      <td>3.996750e-01</td>\n",
              "      <td>5.008067e-01</td>\n",
              "      <td>4.589494e-01</td>\n",
              "      <td>1.330408e-01</td>\n",
              "      <td>1.863772e-01</td>\n",
              "      <td>5.285536e-01</td>\n",
              "      <td>1.476421e-01</td>\n",
              "      <td>4.395266e-01</td>\n",
              "      <td>3.507156e-01</td>\n",
              "      <td>2.409522e-01</td>\n",
              "      <td>9.104512e-02</td>\n",
              "      <td>7.827995e-02</td>\n",
              "      <td>77.165000</td>\n",
              "      <td>0.000000</td>\n",
              "    </tr>\n",
              "    <tr>\n",
              "      <th>max</th>\n",
              "      <td>172792.000000</td>\n",
              "      <td>2.454930e+00</td>\n",
              "      <td>2.205773e+01</td>\n",
              "      <td>9.382558e+00</td>\n",
              "      <td>1.687534e+01</td>\n",
              "      <td>3.480167e+01</td>\n",
              "      <td>7.330163e+01</td>\n",
              "      <td>1.205895e+02</td>\n",
              "      <td>2.000721e+01</td>\n",
              "      <td>1.559499e+01</td>\n",
              "      <td>2.374514e+01</td>\n",
              "      <td>1.201891e+01</td>\n",
              "      <td>7.848392e+00</td>\n",
              "      <td>7.126883e+00</td>\n",
              "      <td>1.052677e+01</td>\n",
              "      <td>8.877742e+00</td>\n",
              "      <td>1.731511e+01</td>\n",
              "      <td>9.253526e+00</td>\n",
              "      <td>5.041069e+00</td>\n",
              "      <td>5.591971e+00</td>\n",
              "      <td>3.942090e+01</td>\n",
              "      <td>2.720284e+01</td>\n",
              "      <td>1.050309e+01</td>\n",
              "      <td>2.252841e+01</td>\n",
              "      <td>4.584549e+00</td>\n",
              "      <td>7.519589e+00</td>\n",
              "      <td>3.517346e+00</td>\n",
              "      <td>3.161220e+01</td>\n",
              "      <td>3.384781e+01</td>\n",
              "      <td>25691.160000</td>\n",
              "      <td>1.000000</td>\n",
              "    </tr>\n",
              "  </tbody>\n",
              "</table>\n",
              "</div>"
            ],
            "text/plain": [
              "                Time            V1  ...         Amount          Class\n",
              "count  284807.000000  2.848070e+05  ...  284807.000000  284807.000000\n",
              "mean    94813.859575  3.919560e-15  ...      88.349619       0.001727\n",
              "std     47488.145955  1.958696e+00  ...     250.120109       0.041527\n",
              "min         0.000000 -5.640751e+01  ...       0.000000       0.000000\n",
              "25%     54201.500000 -9.203734e-01  ...       5.600000       0.000000\n",
              "50%     84692.000000  1.810880e-02  ...      22.000000       0.000000\n",
              "75%    139320.500000  1.315642e+00  ...      77.165000       0.000000\n",
              "max    172792.000000  2.454930e+00  ...   25691.160000       1.000000\n",
              "\n",
              "[8 rows x 31 columns]"
            ]
          },
          "metadata": {
            "tags": []
          },
          "execution_count": 8
        }
      ]
    },
    {
      "cell_type": "code",
      "metadata": {
        "id": "nwihQQcaAOHP"
      },
      "source": [
        "z = np.abs(stats.zscore(data_df))"
      ],
      "execution_count": 10,
      "outputs": []
    },
    {
      "cell_type": "code",
      "metadata": {
        "colab": {
          "base_uri": "https://localhost:8080/"
        },
        "id": "UzBbxmGNAOSJ",
        "outputId": "7bce1061-7c2b-4c05-8c20-3d32cc59ec35"
      },
      "source": [
        "z.shape"
      ],
      "execution_count": 12,
      "outputs": [
        {
          "output_type": "execute_result",
          "data": {
            "text/plain": [
              "(284807, 31)"
            ]
          },
          "metadata": {
            "tags": []
          },
          "execution_count": 12
        }
      ]
    },
    {
      "cell_type": "code",
      "metadata": {
        "colab": {
          "base_uri": "https://localhost:8080/"
        },
        "id": "z9AdGPRCAObP",
        "outputId": "495d25fa-4b6e-46bf-e6da-0ef0c99afe0e"
      },
      "source": [
        "threshold = 3\n",
        "print(np.where(z > 3))"
      ],
      "execution_count": 13,
      "outputs": [
        {
          "output_type": "stream",
          "text": [
            "(array([     2,      7,      7, ..., 284802, 284802, 284805]), array([16,  8, 28, ..., 10, 14, 19]))\n"
          ],
          "name": "stdout"
        }
      ]
    },
    {
      "cell_type": "code",
      "metadata": {
        "colab": {
          "background_save": true
        },
        "id": "OVnKeDV0AOjT"
      },
      "source": [
        "data_df_o = data_df[(z < 3).all(axis=1)]"
      ],
      "execution_count": null,
      "outputs": []
    },
    {
      "cell_type": "markdown",
      "metadata": {
        "id": "0m8l5niaUa3N"
      },
      "source": [
        "==> 위와 같이 간단하게 data_df전체를 대상으로 z-score 기반 trimming이 가능하지만. data_df['Class]열에는 적합하지않다."
      ]
    },
    {
      "cell_type": "markdown",
      "metadata": {
        "id": "3K9FZR7y9qLz"
      },
      "source": [
        "2. use normal distribution 3-sigma boundary"
      ]
    },
    {
      "cell_type": "code",
      "metadata": {
        "id": "q1zvn77GHSTT"
      },
      "source": [
        "# Class column을 제외한 모든 column에 outlier제거 조건을 지정해준다.\n",
        "threshold_h = []\n",
        "threshold_l = []\n",
        "for c in data_df.columns:\n",
        "  threshold_h.append(data_df[c].mean() + 3*data_df[c].std())\n",
        "  threshold_l.append(data_df[c].mean() - 3*data_df[c].std())"
      ],
      "execution_count": 14,
      "outputs": []
    },
    {
      "cell_type": "code",
      "metadata": {
        "colab": {
          "base_uri": "https://localhost:8080/"
        },
        "id": "ZYcGxjCfIrJZ",
        "outputId": "7cb326b5-8f1e-427d-f189-6f58b14699a8"
      },
      "source": [
        "threshold_l.pop()\n",
        "threshold_h.pop()"
      ],
      "execution_count": 15,
      "outputs": [
        {
          "output_type": "execute_result",
          "data": {
            "text/plain": [
              "0.12630905453740562"
            ]
          },
          "metadata": {
            "tags": []
          },
          "execution_count": 15
        }
      ]
    },
    {
      "cell_type": "code",
      "metadata": {
        "colab": {
          "base_uri": "https://localhost:8080/"
        },
        "id": "KaB5NZvLR2IV",
        "outputId": "3e37f9b3-7d0b-4c31-b51d-82406f1b37a6"
      },
      "source": [
        "threshold_l.pop(0)\n",
        "threshold_h.pop(0)"
      ],
      "execution_count": 16,
      "outputs": [
        {
          "output_type": "execute_result",
          "data": {
            "text/plain": [
              "237278.29743877816"
            ]
          },
          "metadata": {
            "tags": []
          },
          "execution_count": 16
        }
      ]
    },
    {
      "cell_type": "code",
      "metadata": {
        "colab": {
          "base_uri": "https://localhost:8080/"
        },
        "id": "xEUDlAvoIra5",
        "outputId": "6d4d4c99-debc-4de1-8321-41251aa516c9"
      },
      "source": [
        "len(threshold_h)"
      ],
      "execution_count": 17,
      "outputs": [
        {
          "output_type": "execute_result",
          "data": {
            "text/plain": [
              "29"
            ]
          },
          "metadata": {
            "tags": []
          },
          "execution_count": 17
        }
      ]
    },
    {
      "cell_type": "code",
      "metadata": {
        "colab": {
          "base_uri": "https://localhost:8080/"
        },
        "id": "fXDH9lk3IrwX",
        "outputId": "a3bdac1e-4af0-428e-b0fd-0798a75e3b24"
      },
      "source": [
        "columns_list = data_df.columns[1:-1]\n",
        "columns_list"
      ],
      "execution_count": 18,
      "outputs": [
        {
          "output_type": "execute_result",
          "data": {
            "text/plain": [
              "Index(['V1', 'V2', 'V3', 'V4', 'V5', 'V6', 'V7', 'V8', 'V9', 'V10', 'V11',\n",
              "       'V12', 'V13', 'V14', 'V15', 'V16', 'V17', 'V18', 'V19', 'V20', 'V21',\n",
              "       'V22', 'V23', 'V24', 'V25', 'V26', 'V27', 'V28', 'Amount'],\n",
              "      dtype='object')"
            ]
          },
          "metadata": {
            "tags": []
          },
          "execution_count": 18
        }
      ]
    },
    {
      "cell_type": "code",
      "metadata": {
        "colab": {
          "background_save": true
        },
        "id": "WXz2cCgqGq5q"
      },
      "source": [
        "for m in zip(columns_list, threshold_h, threshold_l):\n",
        "  print(m)"
      ],
      "execution_count": null,
      "outputs": []
    },
    {
      "cell_type": "code",
      "metadata": {
        "id": "bfFKngt2QlPq"
      },
      "source": [
        "for m in zip(columns_list, threshold_h, threshold_l):\n",
        "  data_df_o_sigma = data_df[(data_df[m[0]] < m[1]) & (data_df[m[0]] > m[2])]"
      ],
      "execution_count": 19,
      "outputs": []
    },
    {
      "cell_type": "code",
      "metadata": {
        "colab": {
          "base_uri": "https://localhost:8080/"
        },
        "id": "4iIrSFpZC0l9",
        "outputId": "a5440a7a-e6e3-4266-f8f7-5944a435ebb8"
      },
      "source": [
        "data_df_o_sigma.shape"
      ],
      "execution_count": 20,
      "outputs": [
        {
          "output_type": "execute_result",
          "data": {
            "text/plain": [
              "(280731, 31)"
            ]
          },
          "metadata": {
            "tags": []
          },
          "execution_count": 20
        }
      ]
    },
    {
      "cell_type": "code",
      "metadata": {
        "colab": {
          "base_uri": "https://localhost:8080/"
        },
        "id": "1EW8G7-jC05S",
        "outputId": "38c70f1c-4563-43f0-ce73-3b5929068cfe"
      },
      "source": [
        "data_df_o_sigma['Class'].unique()"
      ],
      "execution_count": 21,
      "outputs": [
        {
          "output_type": "execute_result",
          "data": {
            "text/plain": [
              "array([0, 1])"
            ]
          },
          "metadata": {
            "tags": []
          },
          "execution_count": 21
        }
      ]
    },
    {
      "cell_type": "code",
      "metadata": {
        "colab": {
          "base_uri": "https://localhost:8080/",
          "height": 317
        },
        "id": "FYpS59QvVr6b",
        "outputId": "d5ed58b0-b7ec-4427-ec89-6a3e78ab699b"
      },
      "source": [
        "data_df_o_sigma.describe()"
      ],
      "execution_count": 22,
      "outputs": [
        {
          "output_type": "execute_result",
          "data": {
            "text/html": [
              "<div>\n",
              "<style scoped>\n",
              "    .dataframe tbody tr th:only-of-type {\n",
              "        vertical-align: middle;\n",
              "    }\n",
              "\n",
              "    .dataframe tbody tr th {\n",
              "        vertical-align: top;\n",
              "    }\n",
              "\n",
              "    .dataframe thead th {\n",
              "        text-align: right;\n",
              "    }\n",
              "</style>\n",
              "<table border=\"1\" class=\"dataframe\">\n",
              "  <thead>\n",
              "    <tr style=\"text-align: right;\">\n",
              "      <th></th>\n",
              "      <th>Time</th>\n",
              "      <th>V1</th>\n",
              "      <th>V2</th>\n",
              "      <th>V3</th>\n",
              "      <th>V4</th>\n",
              "      <th>V5</th>\n",
              "      <th>V6</th>\n",
              "      <th>V7</th>\n",
              "      <th>V8</th>\n",
              "      <th>V9</th>\n",
              "      <th>V10</th>\n",
              "      <th>V11</th>\n",
              "      <th>V12</th>\n",
              "      <th>V13</th>\n",
              "      <th>V14</th>\n",
              "      <th>V15</th>\n",
              "      <th>V16</th>\n",
              "      <th>V17</th>\n",
              "      <th>V18</th>\n",
              "      <th>V19</th>\n",
              "      <th>V20</th>\n",
              "      <th>V21</th>\n",
              "      <th>V22</th>\n",
              "      <th>V23</th>\n",
              "      <th>V24</th>\n",
              "      <th>V25</th>\n",
              "      <th>V26</th>\n",
              "      <th>V27</th>\n",
              "      <th>V28</th>\n",
              "      <th>Amount</th>\n",
              "      <th>Class</th>\n",
              "    </tr>\n",
              "  </thead>\n",
              "  <tbody>\n",
              "    <tr>\n",
              "      <th>count</th>\n",
              "      <td>280731.000000</td>\n",
              "      <td>280731.000000</td>\n",
              "      <td>280731.000000</td>\n",
              "      <td>280731.000000</td>\n",
              "      <td>280731.000000</td>\n",
              "      <td>280731.000000</td>\n",
              "      <td>280731.000000</td>\n",
              "      <td>280731.000000</td>\n",
              "      <td>280731.000000</td>\n",
              "      <td>280731.000000</td>\n",
              "      <td>280731.000000</td>\n",
              "      <td>280731.000000</td>\n",
              "      <td>280731.000000</td>\n",
              "      <td>280731.000000</td>\n",
              "      <td>280731.000000</td>\n",
              "      <td>280731.000000</td>\n",
              "      <td>280731.000000</td>\n",
              "      <td>280731.000000</td>\n",
              "      <td>280731.000000</td>\n",
              "      <td>280731.000000</td>\n",
              "      <td>280731.000000</td>\n",
              "      <td>280731.000000</td>\n",
              "      <td>280731.000000</td>\n",
              "      <td>280731.000000</td>\n",
              "      <td>280731.000000</td>\n",
              "      <td>280731.000000</td>\n",
              "      <td>280731.000000</td>\n",
              "      <td>280731.000000</td>\n",
              "      <td>280731.000000</td>\n",
              "      <td>280731.000000</td>\n",
              "      <td>280731.000000</td>\n",
              "    </tr>\n",
              "    <tr>\n",
              "      <th>mean</th>\n",
              "      <td>94835.913918</td>\n",
              "      <td>0.038681</td>\n",
              "      <td>0.071357</td>\n",
              "      <td>0.030186</td>\n",
              "      <td>-0.013448</td>\n",
              "      <td>0.041307</td>\n",
              "      <td>-0.022102</td>\n",
              "      <td>-0.043336</td>\n",
              "      <td>0.011578</td>\n",
              "      <td>0.003900</td>\n",
              "      <td>0.009684</td>\n",
              "      <td>-0.000559</td>\n",
              "      <td>0.000930</td>\n",
              "      <td>-0.000299</td>\n",
              "      <td>-0.004002</td>\n",
              "      <td>-0.000098</td>\n",
              "      <td>-0.001169</td>\n",
              "      <td>-0.000679</td>\n",
              "      <td>-0.001180</td>\n",
              "      <td>0.003873</td>\n",
              "      <td>-0.025994</td>\n",
              "      <td>-0.007442</td>\n",
              "      <td>0.005542</td>\n",
              "      <td>0.006926</td>\n",
              "      <td>-0.000696</td>\n",
              "      <td>0.002372</td>\n",
              "      <td>-0.000280</td>\n",
              "      <td>-0.000423</td>\n",
              "      <td>-0.000944</td>\n",
              "      <td>66.955683</td>\n",
              "      <td>0.001713</td>\n",
              "    </tr>\n",
              "    <tr>\n",
              "      <th>std</th>\n",
              "      <td>47504.281691</td>\n",
              "      <td>1.882536</td>\n",
              "      <td>1.439827</td>\n",
              "      <td>1.478298</td>\n",
              "      <td>1.401818</td>\n",
              "      <td>1.255481</td>\n",
              "      <td>1.280068</td>\n",
              "      <td>1.077211</td>\n",
              "      <td>1.178021</td>\n",
              "      <td>1.094350</td>\n",
              "      <td>1.082742</td>\n",
              "      <td>1.020336</td>\n",
              "      <td>0.999414</td>\n",
              "      <td>0.995636</td>\n",
              "      <td>0.958326</td>\n",
              "      <td>0.913830</td>\n",
              "      <td>0.870573</td>\n",
              "      <td>0.850227</td>\n",
              "      <td>0.834530</td>\n",
              "      <td>0.810123</td>\n",
              "      <td>0.604041</td>\n",
              "      <td>0.715015</td>\n",
              "      <td>0.718322</td>\n",
              "      <td>0.490275</td>\n",
              "      <td>0.604706</td>\n",
              "      <td>0.513508</td>\n",
              "      <td>0.480214</td>\n",
              "      <td>0.381132</td>\n",
              "      <td>0.296640</td>\n",
              "      <td>116.026593</td>\n",
              "      <td>0.041358</td>\n",
              "    </tr>\n",
              "    <tr>\n",
              "      <th>min</th>\n",
              "      <td>0.000000</td>\n",
              "      <td>-46.855047</td>\n",
              "      <td>-47.429676</td>\n",
              "      <td>-33.680984</td>\n",
              "      <td>-5.683171</td>\n",
              "      <td>-23.669726</td>\n",
              "      <td>-23.496714</td>\n",
              "      <td>-43.557242</td>\n",
              "      <td>-73.216718</td>\n",
              "      <td>-13.434066</td>\n",
              "      <td>-24.588262</td>\n",
              "      <td>-4.797473</td>\n",
              "      <td>-18.683715</td>\n",
              "      <td>-5.791881</td>\n",
              "      <td>-19.214325</td>\n",
              "      <td>-4.498945</td>\n",
              "      <td>-14.129855</td>\n",
              "      <td>-25.162799</td>\n",
              "      <td>-9.498746</td>\n",
              "      <td>-4.932733</td>\n",
              "      <td>-23.420173</td>\n",
              "      <td>-34.830382</td>\n",
              "      <td>-8.887017</td>\n",
              "      <td>-36.666000</td>\n",
              "      <td>-2.836627</td>\n",
              "      <td>-7.495741</td>\n",
              "      <td>-2.068561</td>\n",
              "      <td>-22.565679</td>\n",
              "      <td>-11.710896</td>\n",
              "      <td>0.000000</td>\n",
              "      <td>0.000000</td>\n",
              "    </tr>\n",
              "    <tr>\n",
              "      <th>25%</th>\n",
              "      <td>54253.500000</td>\n",
              "      <td>-0.898036</td>\n",
              "      <td>-0.566137</td>\n",
              "      <td>-0.853485</td>\n",
              "      <td>-0.854982</td>\n",
              "      <td>-0.665084</td>\n",
              "      <td>-0.773231</td>\n",
              "      <td>-0.561860</td>\n",
              "      <td>-0.202424</td>\n",
              "      <td>-0.636215</td>\n",
              "      <td>-0.526402</td>\n",
              "      <td>-0.762073</td>\n",
              "      <td>-0.402314</td>\n",
              "      <td>-0.649235</td>\n",
              "      <td>-0.428542</td>\n",
              "      <td>-0.582048</td>\n",
              "      <td>-0.466623</td>\n",
              "      <td>-0.484710</td>\n",
              "      <td>-0.497547</td>\n",
              "      <td>-0.450235</td>\n",
              "      <td>-0.212670</td>\n",
              "      <td>-0.229609</td>\n",
              "      <td>-0.537605</td>\n",
              "      <td>-0.157270</td>\n",
              "      <td>-0.355190</td>\n",
              "      <td>-0.314983</td>\n",
              "      <td>-0.326278</td>\n",
              "      <td>-0.068648</td>\n",
              "      <td>-0.053046</td>\n",
              "      <td>5.380000</td>\n",
              "      <td>0.000000</td>\n",
              "    </tr>\n",
              "    <tr>\n",
              "      <th>50%</th>\n",
              "      <td>84733.000000</td>\n",
              "      <td>0.042222</td>\n",
              "      <td>0.080514</td>\n",
              "      <td>0.198825</td>\n",
              "      <td>-0.028632</td>\n",
              "      <td>-0.040038</td>\n",
              "      <td>-0.283231</td>\n",
              "      <td>0.029240</td>\n",
              "      <td>0.026086</td>\n",
              "      <td>-0.048429</td>\n",
              "      <td>-0.088635</td>\n",
              "      <td>-0.033639</td>\n",
              "      <td>0.141755</td>\n",
              "      <td>-0.013130</td>\n",
              "      <td>0.047165</td>\n",
              "      <td>0.049492</td>\n",
              "      <td>0.066130</td>\n",
              "      <td>-0.067747</td>\n",
              "      <td>-0.005017</td>\n",
              "      <td>0.006774</td>\n",
              "      <td>-0.065376</td>\n",
              "      <td>-0.032751</td>\n",
              "      <td>0.010483</td>\n",
              "      <td>-0.009623</td>\n",
              "      <td>0.040413</td>\n",
              "      <td>0.018225</td>\n",
              "      <td>-0.051343</td>\n",
              "      <td>0.002398</td>\n",
              "      <td>0.010657</td>\n",
              "      <td>20.930000</td>\n",
              "      <td>0.000000</td>\n",
              "    </tr>\n",
              "    <tr>\n",
              "      <th>75%</th>\n",
              "      <td>139347.000000</td>\n",
              "      <td>1.324954</td>\n",
              "      <td>0.814508</td>\n",
              "      <td>1.039821</td>\n",
              "      <td>0.728814</td>\n",
              "      <td>0.621964</td>\n",
              "      <td>0.375802</td>\n",
              "      <td>0.550716</td>\n",
              "      <td>0.331667</td>\n",
              "      <td>0.597482</td>\n",
              "      <td>0.459919</td>\n",
              "      <td>0.738816</td>\n",
              "      <td>0.618459</td>\n",
              "      <td>0.663109</td>\n",
              "      <td>0.487912</td>\n",
              "      <td>0.649517</td>\n",
              "      <td>0.520420</td>\n",
              "      <td>0.397529</td>\n",
              "      <td>0.497041</td>\n",
              "      <td>0.460981</td>\n",
              "      <td>0.124439</td>\n",
              "      <td>0.178992</td>\n",
              "      <td>0.531709</td>\n",
              "      <td>0.147257</td>\n",
              "      <td>0.438370</td>\n",
              "      <td>0.351520</td>\n",
              "      <td>0.239589</td>\n",
              "      <td>0.091220</td>\n",
              "      <td>0.075070</td>\n",
              "      <td>73.390000</td>\n",
              "      <td>0.000000</td>\n",
              "    </tr>\n",
              "    <tr>\n",
              "      <th>max</th>\n",
              "      <td>172792.000000</td>\n",
              "      <td>2.454930</td>\n",
              "      <td>22.057729</td>\n",
              "      <td>9.382558</td>\n",
              "      <td>13.129143</td>\n",
              "      <td>34.099309</td>\n",
              "      <td>16.614054</td>\n",
              "      <td>15.661716</td>\n",
              "      <td>20.007208</td>\n",
              "      <td>15.594995</td>\n",
              "      <td>23.745136</td>\n",
              "      <td>12.018913</td>\n",
              "      <td>7.848392</td>\n",
              "      <td>4.569009</td>\n",
              "      <td>10.526766</td>\n",
              "      <td>5.825654</td>\n",
              "      <td>6.442798</td>\n",
              "      <td>9.253526</td>\n",
              "      <td>4.295648</td>\n",
              "      <td>5.591971</td>\n",
              "      <td>16.756448</td>\n",
              "      <td>27.202839</td>\n",
              "      <td>10.503090</td>\n",
              "      <td>22.083545</td>\n",
              "      <td>4.022866</td>\n",
              "      <td>7.519589</td>\n",
              "      <td>3.517346</td>\n",
              "      <td>8.708972</td>\n",
              "      <td>22.620072</td>\n",
              "      <td>838.700000</td>\n",
              "      <td>1.000000</td>\n",
              "    </tr>\n",
              "  </tbody>\n",
              "</table>\n",
              "</div>"
            ],
            "text/plain": [
              "                Time             V1  ...         Amount          Class\n",
              "count  280731.000000  280731.000000  ...  280731.000000  280731.000000\n",
              "mean    94835.913918       0.038681  ...      66.955683       0.001713\n",
              "std     47504.281691       1.882536  ...     116.026593       0.041358\n",
              "min         0.000000     -46.855047  ...       0.000000       0.000000\n",
              "25%     54253.500000      -0.898036  ...       5.380000       0.000000\n",
              "50%     84733.000000       0.042222  ...      20.930000       0.000000\n",
              "75%    139347.000000       1.324954  ...      73.390000       0.000000\n",
              "max    172792.000000       2.454930  ...     838.700000       1.000000\n",
              "\n",
              "[8 rows x 31 columns]"
            ]
          },
          "metadata": {
            "tags": []
          },
          "execution_count": 22
        }
      ]
    },
    {
      "cell_type": "markdown",
      "metadata": {
        "id": "cDOOiXN2E1k8"
      },
      "source": [
        "3. use IQR score trimming"
      ]
    },
    {
      "cell_type": "code",
      "metadata": {
        "id": "99jPjBlqC1BD"
      },
      "source": [
        "Q1 = data_df.quantile(0.25)\n",
        "Q3 = data_df.quantile(0.75)"
      ],
      "execution_count": 23,
      "outputs": []
    },
    {
      "cell_type": "code",
      "metadata": {
        "colab": {
          "base_uri": "https://localhost:8080/"
        },
        "id": "rCi8pFg-bEI0",
        "outputId": "380f0664-b977-4b15-fb6d-d14432908cf1"
      },
      "source": [
        "Q1 = Q1[1:-1]\n",
        "Q1"
      ],
      "execution_count": 25,
      "outputs": [
        {
          "output_type": "execute_result",
          "data": {
            "text/plain": [
              "V1       -0.920373\n",
              "V2       -0.598550\n",
              "V3       -0.890365\n",
              "V4       -0.848640\n",
              "V5       -0.691597\n",
              "V6       -0.768296\n",
              "V7       -0.554076\n",
              "V8       -0.208630\n",
              "V9       -0.643098\n",
              "V10      -0.535426\n",
              "V11      -0.762494\n",
              "V12      -0.405571\n",
              "V13      -0.648539\n",
              "V14      -0.425574\n",
              "V15      -0.582884\n",
              "V16      -0.468037\n",
              "V17      -0.483748\n",
              "V18      -0.498850\n",
              "V19      -0.456299\n",
              "V20      -0.211721\n",
              "V21      -0.228395\n",
              "V22      -0.542350\n",
              "V23      -0.161846\n",
              "V24      -0.354586\n",
              "V25      -0.317145\n",
              "V26      -0.326984\n",
              "V27      -0.070840\n",
              "V28      -0.052960\n",
              "Amount    5.600000\n",
              "Name: 0.25, dtype: float64"
            ]
          },
          "metadata": {
            "tags": []
          },
          "execution_count": 25
        }
      ]
    },
    {
      "cell_type": "code",
      "metadata": {
        "id": "UGAkyyfQbDvJ"
      },
      "source": [
        "Q3 = Q3[1:-1]"
      ],
      "execution_count": 26,
      "outputs": []
    },
    {
      "cell_type": "code",
      "metadata": {
        "colab": {
          "base_uri": "https://localhost:8080/"
        },
        "id": "He_HA_mgbyA7",
        "outputId": "e1094de7-f505-42ea-a413-1669b476fec0"
      },
      "source": [
        "IQR = Q3 - Q1\n",
        "print(IQR)"
      ],
      "execution_count": 27,
      "outputs": [
        {
          "output_type": "stream",
          "text": [
            "V1         2.236015\n",
            "V2         1.402274\n",
            "V3         1.917560\n",
            "V4         1.591981\n",
            "V5         1.303524\n",
            "V6         1.166861\n",
            "V7         1.124512\n",
            "V8         0.535976\n",
            "V9         1.240237\n",
            "V10        0.989349\n",
            "V11        1.502088\n",
            "V12        1.023810\n",
            "V13        1.311044\n",
            "V14        0.918724\n",
            "V15        1.231705\n",
            "V16        0.991333\n",
            "V17        0.883423\n",
            "V18        0.999657\n",
            "V19        0.915248\n",
            "V20        0.344762\n",
            "V21        0.414772\n",
            "V22        1.070904\n",
            "V23        0.309488\n",
            "V24        0.794113\n",
            "V25        0.667861\n",
            "V26        0.567936\n",
            "V27        0.161885\n",
            "V28        0.131240\n",
            "Amount    71.565000\n",
            "dtype: float64\n"
          ],
          "name": "stdout"
        }
      ]
    },
    {
      "cell_type": "code",
      "metadata": {
        "colab": {
          "background_save": true
        },
        "id": "82oi9sCVC1Pf"
      },
      "source": [
        "# 한줄로 IQR기반 필터가능하지만, Class=0,1 열에 적절하지 못함.\n",
        "data_df_o_iqr = data_df[~((data_df < (Q1 - 1.5 * IQR)) |(data_df > (Q3 + 1.5 * IQR))).any(axis=1)]"
      ],
      "execution_count": null,
      "outputs": []
    },
    {
      "cell_type": "code",
      "metadata": {
        "colab": {
          "background_save": true
        },
        "id": "SlBPTECebeqO"
      },
      "source": [
        "for m in zip(columns_list, Q1, Q3, IQR):\n",
        "  print(m)"
      ],
      "execution_count": null,
      "outputs": []
    },
    {
      "cell_type": "code",
      "metadata": {
        "id": "XaVrR7yiZz0x"
      },
      "source": [
        "# 다음과 같이 Time, Class 열을 제외하고 IQR기반 필터링 진행:\n",
        "for m in zip(columns_list, Q1, Q3, IQR):\n",
        "  data_df_o_iqr = data_df[(data_df[m[0]] > (m[1] - 1.5 * m[3])) & (data_df[m[0]] < (m[2] + 1.5 * m[3]))]"
      ],
      "execution_count": 28,
      "outputs": []
    },
    {
      "cell_type": "code",
      "metadata": {
        "colab": {
          "base_uri": "https://localhost:8080/"
        },
        "id": "_azPBVpFdKXA",
        "outputId": "5075d33d-68ac-4f87-bf49-65374284f4ca"
      },
      "source": [
        "data_df_o_iqr.shape"
      ],
      "execution_count": 29,
      "outputs": [
        {
          "output_type": "execute_result",
          "data": {
            "text/plain": [
              "(252903, 31)"
            ]
          },
          "metadata": {
            "tags": []
          },
          "execution_count": 29
        }
      ]
    },
    {
      "cell_type": "code",
      "metadata": {
        "colab": {
          "base_uri": "https://localhost:8080/",
          "height": 317
        },
        "id": "kC7mJti0WA2g",
        "outputId": "166c8803-ec7f-416d-815a-fcecf87c8ae9"
      },
      "source": [
        "data_df_o_iqr.describe()"
      ],
      "execution_count": 30,
      "outputs": [
        {
          "output_type": "execute_result",
          "data": {
            "text/html": [
              "<div>\n",
              "<style scoped>\n",
              "    .dataframe tbody tr th:only-of-type {\n",
              "        vertical-align: middle;\n",
              "    }\n",
              "\n",
              "    .dataframe tbody tr th {\n",
              "        vertical-align: top;\n",
              "    }\n",
              "\n",
              "    .dataframe thead th {\n",
              "        text-align: right;\n",
              "    }\n",
              "</style>\n",
              "<table border=\"1\" class=\"dataframe\">\n",
              "  <thead>\n",
              "    <tr style=\"text-align: right;\">\n",
              "      <th></th>\n",
              "      <th>Time</th>\n",
              "      <th>V1</th>\n",
              "      <th>V2</th>\n",
              "      <th>V3</th>\n",
              "      <th>V4</th>\n",
              "      <th>V5</th>\n",
              "      <th>V6</th>\n",
              "      <th>V7</th>\n",
              "      <th>V8</th>\n",
              "      <th>V9</th>\n",
              "      <th>V10</th>\n",
              "      <th>V11</th>\n",
              "      <th>V12</th>\n",
              "      <th>V13</th>\n",
              "      <th>V14</th>\n",
              "      <th>V15</th>\n",
              "      <th>V16</th>\n",
              "      <th>V17</th>\n",
              "      <th>V18</th>\n",
              "      <th>V19</th>\n",
              "      <th>V20</th>\n",
              "      <th>V21</th>\n",
              "      <th>V22</th>\n",
              "      <th>V23</th>\n",
              "      <th>V24</th>\n",
              "      <th>V25</th>\n",
              "      <th>V26</th>\n",
              "      <th>V27</th>\n",
              "      <th>V28</th>\n",
              "      <th>Amount</th>\n",
              "      <th>Class</th>\n",
              "    </tr>\n",
              "  </thead>\n",
              "  <tbody>\n",
              "    <tr>\n",
              "      <th>count</th>\n",
              "      <td>252903.000000</td>\n",
              "      <td>252903.000000</td>\n",
              "      <td>252903.000000</td>\n",
              "      <td>252903.000000</td>\n",
              "      <td>252903.000000</td>\n",
              "      <td>252903.000000</td>\n",
              "      <td>252903.000000</td>\n",
              "      <td>252903.000000</td>\n",
              "      <td>252903.000000</td>\n",
              "      <td>252903.000000</td>\n",
              "      <td>252903.000000</td>\n",
              "      <td>252903.000000</td>\n",
              "      <td>252903.000000</td>\n",
              "      <td>252903.000000</td>\n",
              "      <td>252903.000000</td>\n",
              "      <td>252903.000000</td>\n",
              "      <td>252903.000000</td>\n",
              "      <td>252903.000000</td>\n",
              "      <td>252903.000000</td>\n",
              "      <td>252903.000000</td>\n",
              "      <td>252903.000000</td>\n",
              "      <td>252903.000000</td>\n",
              "      <td>252903.000000</td>\n",
              "      <td>252903.000000</td>\n",
              "      <td>252903.000000</td>\n",
              "      <td>252903.000000</td>\n",
              "      <td>252903.000000</td>\n",
              "      <td>252903.000000</td>\n",
              "      <td>252903.000000</td>\n",
              "      <td>252903.000000</td>\n",
              "      <td>252903.000000</td>\n",
              "    </tr>\n",
              "    <tr>\n",
              "      <th>mean</th>\n",
              "      <td>94986.492228</td>\n",
              "      <td>0.094504</td>\n",
              "      <td>0.230435</td>\n",
              "      <td>0.060689</td>\n",
              "      <td>-0.019030</td>\n",
              "      <td>0.116567</td>\n",
              "      <td>-0.059286</td>\n",
              "      <td>-0.083767</td>\n",
              "      <td>0.024857</td>\n",
              "      <td>0.008731</td>\n",
              "      <td>0.024355</td>\n",
              "      <td>0.004205</td>\n",
              "      <td>-0.003704</td>\n",
              "      <td>0.005142</td>\n",
              "      <td>-0.004651</td>\n",
              "      <td>0.009038</td>\n",
              "      <td>0.017282</td>\n",
              "      <td>-0.004268</td>\n",
              "      <td>-0.009348</td>\n",
              "      <td>0.009024</td>\n",
              "      <td>-0.058020</td>\n",
              "      <td>-0.018557</td>\n",
              "      <td>0.002675</td>\n",
              "      <td>0.006637</td>\n",
              "      <td>0.001982</td>\n",
              "      <td>0.002301</td>\n",
              "      <td>-0.001892</td>\n",
              "      <td>0.002238</td>\n",
              "      <td>-0.001567</td>\n",
              "      <td>34.974887</td>\n",
              "      <td>0.001586</td>\n",
              "    </tr>\n",
              "    <tr>\n",
              "      <th>std</th>\n",
              "      <td>47594.978003</td>\n",
              "      <td>1.820271</td>\n",
              "      <td>1.293522</td>\n",
              "      <td>1.471043</td>\n",
              "      <td>1.393801</td>\n",
              "      <td>1.214682</td>\n",
              "      <td>1.264431</td>\n",
              "      <td>1.038737</td>\n",
              "      <td>1.156919</td>\n",
              "      <td>1.081381</td>\n",
              "      <td>1.085583</td>\n",
              "      <td>1.020414</td>\n",
              "      <td>1.003506</td>\n",
              "      <td>1.001200</td>\n",
              "      <td>0.965117</td>\n",
              "      <td>0.907461</td>\n",
              "      <td>0.847545</td>\n",
              "      <td>0.850821</td>\n",
              "      <td>0.817479</td>\n",
              "      <td>0.801149</td>\n",
              "      <td>0.511708</td>\n",
              "      <td>0.705072</td>\n",
              "      <td>0.714132</td>\n",
              "      <td>0.433929</td>\n",
              "      <td>0.602656</td>\n",
              "      <td>0.505696</td>\n",
              "      <td>0.469089</td>\n",
              "      <td>0.371147</td>\n",
              "      <td>0.266247</td>\n",
              "      <td>42.172250</td>\n",
              "      <td>0.039788</td>\n",
              "    </tr>\n",
              "    <tr>\n",
              "      <th>min</th>\n",
              "      <td>0.000000</td>\n",
              "      <td>-40.470142</td>\n",
              "      <td>-47.429676</td>\n",
              "      <td>-33.680984</td>\n",
              "      <td>-5.683171</td>\n",
              "      <td>-23.669726</td>\n",
              "      <td>-23.496714</td>\n",
              "      <td>-43.557242</td>\n",
              "      <td>-41.484823</td>\n",
              "      <td>-13.434066</td>\n",
              "      <td>-24.588262</td>\n",
              "      <td>-4.797473</td>\n",
              "      <td>-18.683715</td>\n",
              "      <td>-4.008640</td>\n",
              "      <td>-19.214325</td>\n",
              "      <td>-4.498945</td>\n",
              "      <td>-14.129855</td>\n",
              "      <td>-25.162799</td>\n",
              "      <td>-9.498746</td>\n",
              "      <td>-4.932733</td>\n",
              "      <td>-22.838548</td>\n",
              "      <td>-22.797604</td>\n",
              "      <td>-8.887017</td>\n",
              "      <td>-36.666000</td>\n",
              "      <td>-2.836627</td>\n",
              "      <td>-7.495741</td>\n",
              "      <td>-1.732008</td>\n",
              "      <td>-9.895244</td>\n",
              "      <td>-8.478686</td>\n",
              "      <td>0.000000</td>\n",
              "      <td>0.000000</td>\n",
              "    </tr>\n",
              "    <tr>\n",
              "      <th>25%</th>\n",
              "      <td>54533.500000</td>\n",
              "      <td>-0.859648</td>\n",
              "      <td>-0.397907</td>\n",
              "      <td>-0.816557</td>\n",
              "      <td>-0.850251</td>\n",
              "      <td>-0.567459</td>\n",
              "      <td>-0.793053</td>\n",
              "      <td>-0.576955</td>\n",
              "      <td>-0.196253</td>\n",
              "      <td>-0.615814</td>\n",
              "      <td>-0.512250</td>\n",
              "      <td>-0.755431</td>\n",
              "      <td>-0.401127</td>\n",
              "      <td>-0.647624</td>\n",
              "      <td>-0.429866</td>\n",
              "      <td>-0.567863</td>\n",
              "      <td>-0.442342</td>\n",
              "      <td>-0.491763</td>\n",
              "      <td>-0.495915</td>\n",
              "      <td>-0.437231</td>\n",
              "      <td>-0.219412</td>\n",
              "      <td>-0.237517</td>\n",
              "      <td>-0.544744</td>\n",
              "      <td>-0.141823</td>\n",
              "      <td>-0.355170</td>\n",
              "      <td>-0.314581</td>\n",
              "      <td>-0.322206</td>\n",
              "      <td>-0.063949</td>\n",
              "      <td>-0.054103</td>\n",
              "      <td>4.490000</td>\n",
              "      <td>0.000000</td>\n",
              "    </tr>\n",
              "    <tr>\n",
              "      <th>50%</th>\n",
              "      <td>85041.000000</td>\n",
              "      <td>0.035238</td>\n",
              "      <td>0.165842</td>\n",
              "      <td>0.225603</td>\n",
              "      <td>-0.024476</td>\n",
              "      <td>0.021158</td>\n",
              "      <td>-0.318741</td>\n",
              "      <td>0.016034</td>\n",
              "      <td>0.029424</td>\n",
              "      <td>-0.045243</td>\n",
              "      <td>-0.083998</td>\n",
              "      <td>-0.032767</td>\n",
              "      <td>0.141635</td>\n",
              "      <td>-0.007785</td>\n",
              "      <td>0.048047</td>\n",
              "      <td>0.060567</td>\n",
              "      <td>0.078694</td>\n",
              "      <td>-0.076318</td>\n",
              "      <td>-0.014379</td>\n",
              "      <td>0.011344</td>\n",
              "      <td>-0.082561</td>\n",
              "      <td>-0.047347</td>\n",
              "      <td>0.005992</td>\n",
              "      <td>-0.005033</td>\n",
              "      <td>0.040299</td>\n",
              "      <td>0.012927</td>\n",
              "      <td>-0.041085</td>\n",
              "      <td>0.006947</td>\n",
              "      <td>0.008817</td>\n",
              "      <td>16.000000</td>\n",
              "      <td>0.000000</td>\n",
              "    </tr>\n",
              "    <tr>\n",
              "      <th>75%</th>\n",
              "      <td>139586.000000</td>\n",
              "      <td>1.356675</td>\n",
              "      <td>0.878353</td>\n",
              "      <td>1.067617</td>\n",
              "      <td>0.717123</td>\n",
              "      <td>0.666514</td>\n",
              "      <td>0.311231</td>\n",
              "      <td>0.515631</td>\n",
              "      <td>0.335343</td>\n",
              "      <td>0.583818</td>\n",
              "      <td>0.451343</td>\n",
              "      <td>0.741247</td>\n",
              "      <td>0.616089</td>\n",
              "      <td>0.673130</td>\n",
              "      <td>0.487014</td>\n",
              "      <td>0.655213</td>\n",
              "      <td>0.522708</td>\n",
              "      <td>0.390921</td>\n",
              "      <td>0.476231</td>\n",
              "      <td>0.458440</td>\n",
              "      <td>0.080236</td>\n",
              "      <td>0.158554</td>\n",
              "      <td>0.528770</td>\n",
              "      <td>0.141507</td>\n",
              "      <td>0.439066</td>\n",
              "      <td>0.349265</td>\n",
              "      <td>0.229586</td>\n",
              "      <td>0.096233</td>\n",
              "      <td>0.072347</td>\n",
              "      <td>49.990000</td>\n",
              "      <td>0.000000</td>\n",
              "    </tr>\n",
              "    <tr>\n",
              "      <th>max</th>\n",
              "      <td>172788.000000</td>\n",
              "      <td>2.454930</td>\n",
              "      <td>22.057729</td>\n",
              "      <td>4.226108</td>\n",
              "      <td>12.114672</td>\n",
              "      <td>34.099309</td>\n",
              "      <td>8.933762</td>\n",
              "      <td>6.491054</td>\n",
              "      <td>20.007208</td>\n",
              "      <td>10.392889</td>\n",
              "      <td>15.331742</td>\n",
              "      <td>12.018913</td>\n",
              "      <td>4.846452</td>\n",
              "      <td>4.569009</td>\n",
              "      <td>7.692209</td>\n",
              "      <td>5.685899</td>\n",
              "      <td>5.720320</td>\n",
              "      <td>9.253526</td>\n",
              "      <td>4.295648</td>\n",
              "      <td>5.591971</td>\n",
              "      <td>11.059004</td>\n",
              "      <td>27.202839</td>\n",
              "      <td>8.361985</td>\n",
              "      <td>22.083545</td>\n",
              "      <td>4.022866</td>\n",
              "      <td>7.519589</td>\n",
              "      <td>3.463246</td>\n",
              "      <td>8.254376</td>\n",
              "      <td>22.620072</td>\n",
              "      <td>184.500000</td>\n",
              "      <td>1.000000</td>\n",
              "    </tr>\n",
              "  </tbody>\n",
              "</table>\n",
              "</div>"
            ],
            "text/plain": [
              "                Time             V1  ...         Amount          Class\n",
              "count  252903.000000  252903.000000  ...  252903.000000  252903.000000\n",
              "mean    94986.492228       0.094504  ...      34.974887       0.001586\n",
              "std     47594.978003       1.820271  ...      42.172250       0.039788\n",
              "min         0.000000     -40.470142  ...       0.000000       0.000000\n",
              "25%     54533.500000      -0.859648  ...       4.490000       0.000000\n",
              "50%     85041.000000       0.035238  ...      16.000000       0.000000\n",
              "75%    139586.000000       1.356675  ...      49.990000       0.000000\n",
              "max    172788.000000       2.454930  ...     184.500000       1.000000\n",
              "\n",
              "[8 rows x 31 columns]"
            ]
          },
          "metadata": {
            "tags": []
          },
          "execution_count": 30
        }
      ]
    },
    {
      "cell_type": "markdown",
      "metadata": {
        "id": "XD4hOxGUVcxy"
      },
      "source": [
        "==> 3sigma boundary보다 IQR 기반의 trimming 방식으로 더 많은 outlier처리가 가능했다. 이 후의 data balancing 및 example modeling은 IQR 기반으로 outlier 제거가된 data_df_o_iqr로 진행했다."
      ]
    },
    {
      "cell_type": "code",
      "metadata": {
        "id": "CLiDEEHlc3Rb"
      },
      "source": [
        "y_iqr = data_df_o_iqr[\"Class\"]\n",
        "X_iqr = data_df_o_iqr.copy().drop(\"Class\",axis=1)"
      ],
      "execution_count": 32,
      "outputs": []
    },
    {
      "cell_type": "markdown",
      "metadata": {
        "id": "HRG3LhS4SHMg"
      },
      "source": [
        "### data balancing:\n",
        "\n",
        "#### SMOTE (Synthetic Minority Oversampling Technique)"
      ]
    },
    {
      "cell_type": "code",
      "metadata": {
        "colab": {
          "base_uri": "https://localhost:8080/"
        },
        "id": "ae_I1wjs6YMw",
        "outputId": "c5c9de0a-91f1-4cba-95c2-87e353de112a"
      },
      "source": [
        "# Oversample with SMOTE and random undersample for imbalanced dataset\n",
        "from collections import Counter\n",
        "from sklearn.datasets import make_classification\n",
        "from imblearn.over_sampling import SMOTE\n",
        "from imblearn.under_sampling import RandomUnderSampler\n",
        "from imblearn.pipeline import Pipeline\n",
        "from matplotlib import pyplot\n",
        "from numpy import where"
      ],
      "execution_count": 33,
      "outputs": [
        {
          "output_type": "stream",
          "text": [
            "/usr/local/lib/python3.7/dist-packages/sklearn/externals/six.py:31: FutureWarning: The module is deprecated in version 0.21 and will be removed in version 0.23 since we've dropped support for Python 2.7. Please rely on the official version of six (https://pypi.org/project/six/).\n",
            "  \"(https://pypi.org/project/six/).\", FutureWarning)\n",
            "/usr/local/lib/python3.7/dist-packages/sklearn/utils/deprecation.py:144: FutureWarning: The sklearn.neighbors.base module is  deprecated in version 0.22 and will be removed in version 0.24. The corresponding classes / functions should instead be imported from sklearn.neighbors. Anything that cannot be imported from sklearn.neighbors is now part of the private API.\n",
            "  warnings.warn(message, FutureWarning)\n"
          ],
          "name": "stderr"
        }
      ]
    },
    {
      "cell_type": "code",
      "metadata": {
        "colab": {
          "base_uri": "https://localhost:8080/"
        },
        "id": "k_caysn-dDvu",
        "outputId": "ee858f48-8d73-4e04-a00e-e0215253d92a"
      },
      "source": [
        "# check the imbalanced class distribution before balancing\n",
        "counter = Counter(y_iqr)\n",
        "print(counter)"
      ],
      "execution_count": 35,
      "outputs": [
        {
          "output_type": "stream",
          "text": [
            "Counter({0: 252502, 1: 401})\n"
          ],
          "name": "stdout"
        }
      ]
    },
    {
      "cell_type": "code",
      "metadata": {
        "id": "jvDkO5ze6YeQ",
        "colab": {
          "base_uri": "https://localhost:8080/"
        },
        "outputId": "20cff00a-291f-4a11-b2e5-343771f18364"
      },
      "source": [
        "# SMOTE resampling strategy 비율 조정하여 X_balanced_iqr, y_balanced_iqr 생성\n",
        "\n",
        "over = SMOTE(sampling_strategy=0.1)\n",
        "under = RandomUnderSampler(sampling_strategy=0.5)\n",
        "steps = [('o', over), ('u', under)]\n",
        "# define pipeline\n",
        "pipeline = Pipeline(steps=steps)\n",
        "\n",
        "X_balanced_iqr, y_balanced_iqr = pipeline.fit_resample(X_iqr, y_iqr)\n",
        "# summarize the new class distribution\n",
        "counter = Counter(y_balanced_iqr)\n",
        "print(counter)"
      ],
      "execution_count": 36,
      "outputs": [
        {
          "output_type": "stream",
          "text": [
            "/usr/local/lib/python3.7/dist-packages/sklearn/utils/deprecation.py:87: FutureWarning: Function safe_indexing is deprecated; safe_indexing is deprecated in version 0.22 and will be removed in version 0.24.\n",
            "  warnings.warn(msg, category=FutureWarning)\n"
          ],
          "name": "stderr"
        },
        {
          "output_type": "stream",
          "text": [
            "Counter({0: 50500, 1: 25250})\n"
          ],
          "name": "stdout"
        },
        {
          "output_type": "stream",
          "text": [
            "/usr/local/lib/python3.7/dist-packages/sklearn/utils/deprecation.py:87: FutureWarning: Function safe_indexing is deprecated; safe_indexing is deprecated in version 0.22 and will be removed in version 0.24.\n",
            "  warnings.warn(msg, category=FutureWarning)\n"
          ],
          "name": "stderr"
        }
      ]
    },
    {
      "cell_type": "code",
      "metadata": {
        "colab": {
          "base_uri": "https://localhost:8080/",
          "height": 265
        },
        "id": "HYdPImWQ6YuX",
        "outputId": "99c541f9-9950-4970-c055-2126b528cb42"
      },
      "source": [
        "# scatter plot of examples by class label\n",
        "for label, _ in counter.items():\n",
        "\trow_ix = where(y_balanced_iqr == label)[0]\n",
        "\tpyplot.scatter(X_balanced_iqr[row_ix, 0], X_balanced_iqr[row_ix, 1], label=str(label))\n",
        "pyplot.legend()\n",
        "pyplot.show()"
      ],
      "execution_count": 37,
      "outputs": [
        {
          "output_type": "display_data",
          "data": {
            "image/png": "[encoded data removed]",
            "text/plain": [
              "<Figure size 432x288 with 1 Axes>"
            ]
          },
          "metadata": {
            "tags": [],
            "needs_background": "light"
          }
        }
      ]
    },
    {
      "cell_type": "code",
      "metadata": {
        "colab": {
          "base_uri": "https://localhost:8080/"
        },
        "id": "vh9d5QDO6Y3w",
        "outputId": "76b64af5-eb20-4fad-8a10-22a329947542"
      },
      "source": [
        "X_balanced_iqr.shape"
      ],
      "execution_count": 38,
      "outputs": [
        {
          "output_type": "execute_result",
          "data": {
            "text/plain": [
              "(75750, 30)"
            ]
          },
          "metadata": {
            "tags": []
          },
          "execution_count": 38
        }
      ]
    },
    {
      "cell_type": "code",
      "metadata": {
        "colab": {
          "base_uri": "https://localhost:8080/"
        },
        "id": "4LreQGxk_E2S",
        "outputId": "d53abf63-d1ed-45bd-8503-cfe0f14264c2"
      },
      "source": [
        "y_balanced_iqr.shape"
      ],
      "execution_count": 39,
      "outputs": [
        {
          "output_type": "execute_result",
          "data": {
            "text/plain": [
              "(75750,)"
            ]
          },
          "metadata": {
            "tags": []
          },
          "execution_count": 39
        }
      ]
    },
    {
      "cell_type": "markdown",
      "metadata": {
        "id": "uipu-qvlHYVn"
      },
      "source": [
        "#### sklearn의 model selection train_test_split\n",
        "\n",
        "shuffle=True설정 후 9:1로 split"
      ]
    },
    {
      "cell_type": "code",
      "metadata": {
        "id": "GgaAZBHZeaKg"
      },
      "source": [
        "from sklearn.model_selection import train_test_split\n",
        "\n",
        "X_b_train_iqr, X_b_test_iqr, y_b_train_iqr, y_b_test_iqr = train_test_split(X_balanced_iqr, y_balanced_iqr,\n",
        "    shuffle=True, random_state=42, test_size=0.1)"
      ],
      "execution_count": 40,
      "outputs": []
    },
    {
      "cell_type": "code",
      "metadata": {
        "colab": {
          "base_uri": "https://localhost:8080/"
        },
        "id": "sGU_yMIKG2bN",
        "outputId": "169e72d7-7eac-4da3-eb48-bc27d2f53ea8"
      },
      "source": [
        "X_b_train_iqr.shape"
      ],
      "execution_count": 41,
      "outputs": [
        {
          "output_type": "execute_result",
          "data": {
            "text/plain": [
              "(68175, 30)"
            ]
          },
          "metadata": {
            "tags": []
          },
          "execution_count": 41
        }
      ]
    },
    {
      "cell_type": "code",
      "metadata": {
        "colab": {
          "base_uri": "https://localhost:8080/"
        },
        "id": "ske5x1DZG2Q0",
        "outputId": "de342f1f-da95-4d64-ca9b-bafded38f22d"
      },
      "source": [
        "X_b_test_iqr.shape"
      ],
      "execution_count": 42,
      "outputs": [
        {
          "output_type": "execute_result",
          "data": {
            "text/plain": [
              "(7575, 30)"
            ]
          },
          "metadata": {
            "tags": []
          },
          "execution_count": 42
        }
      ]
    },
    {
      "cell_type": "code",
      "metadata": {
        "colab": {
          "base_uri": "https://localhost:8080/"
        },
        "id": "uXKSIurLG2Gm",
        "outputId": "2f8a6159-07db-4669-c3db-150199c08b8d"
      },
      "source": [
        "y_b_train_iqr.shape"
      ],
      "execution_count": 43,
      "outputs": [
        {
          "output_type": "execute_result",
          "data": {
            "text/plain": [
              "(68175,)"
            ]
          },
          "metadata": {
            "tags": []
          },
          "execution_count": 43
        }
      ]
    },
    {
      "cell_type": "code",
      "metadata": {
        "colab": {
          "base_uri": "https://localhost:8080/"
        },
        "id": "vyPHSsrMG14o",
        "outputId": "1ccc5250-6f53-4dd8-a888-4092079c5058"
      },
      "source": [
        "y_b_test_iqr.shape"
      ],
      "execution_count": 44,
      "outputs": [
        {
          "output_type": "execute_result",
          "data": {
            "text/plain": [
              "(7575,)"
            ]
          },
          "metadata": {
            "tags": []
          },
          "execution_count": 44
        }
      ]
    },
    {
      "cell_type": "markdown",
      "metadata": {
        "id": "CI4C5GEwHicx"
      },
      "source": [
        "## Modeling & Evaluation\n",
        "\n",
        "### 1. SGDClassifier"
      ]
    },
    {
      "cell_type": "code",
      "metadata": {
        "colab": {
          "base_uri": "https://localhost:8080/"
        },
        "id": "2T76KnTCepEe",
        "outputId": "6a890785-1ae0-4272-ebdd-4608cad08af1"
      },
      "source": [
        "from sklearn.linear_model import SGDClassifier\n",
        "from sklearn.model_selection import cross_val_score\n",
        "\n",
        "sgd_clf = SGDClassifier(max_iter=5000, tol=1e-3, random_state=42)\n",
        "sgd_clf.fit(X_b_train_iqr, y_b_train_iqr)\n",
        "cross_val_score(sgd_clf, X_b_train_iqr, y_b_train_iqr, cv=3, scoring=\"accuracy\")"
      ],
      "execution_count": 46,
      "outputs": [
        {
          "output_type": "execute_result",
          "data": {
            "text/plain": [
              "array([0.82556656, 0.33478548, 0.3669967 ])"
            ]
          },
          "metadata": {
            "tags": []
          },
          "execution_count": 46
        }
      ]
    },
    {
      "cell_type": "markdown",
      "metadata": {
        "id": "OTjcLBK9ZLT2"
      },
      "source": [
        "#### 평가 \n",
        "\n",
        "score값으로 보아 평가 결과가 좋지 않을것이다. 오차행렬로 예측 내용을 상세확인 할 수 있다.\n",
        "\n",
        "**오차행렬=confusion_matrix**\n",
        "\n",
        "confusion_matrix(2 by 2) for binary classifications: row=클래스 구분 / col=예측한 값\n",
        "\n",
        "1st row = 음성 클래스\n",
        "\n",
        "2nd row = 양성 클래스 \n",
        "\n",
        "1st col = 음성 클래스를 예측한 값\n",
        "\n",
        "2nd col = 양성 클래스를 예측한 값 "
      ]
    },
    {
      "cell_type": "code",
      "metadata": {
        "colab": {
          "base_uri": "https://localhost:8080/"
        },
        "id": "9IoxXwsxYot4",
        "outputId": "512b46c0-109a-4524-b63b-b6c73cda29b3"
      },
      "source": [
        "from sklearn.metrics import confusion_matrix \n",
        "from sklearn.model_selection import cross_val_predict\n",
        "\n",
        "y_b_train_pred_iqr = cross_val_predict(sgd_clf, X_b_train_iqr, y_b_train_iqr, cv=3)\n",
        "cm = confusion_matrix(y_b_train_iqr, y_b_train_pred_iqr)\n",
        "cm"
      ],
      "execution_count": 47,
      "outputs": [
        {
          "output_type": "execute_result",
          "data": {
            "text/plain": [
              "array([[16011, 29516],\n",
              "       [ 3950, 18698]])"
            ]
          },
          "metadata": {
            "tags": []
          },
          "execution_count": 47
        }
      ]
    },
    {
      "cell_type": "code",
      "metadata": {
        "colab": {
          "base_uri": "https://localhost:8080/"
        },
        "id": "y4W7sWlAHV4U",
        "outputId": "cbacfc0b-3345-43d1-a467-25cba17283ac"
      },
      "source": [
        "from sklearn.metrics import precision_score, recall_score\n",
        "\n",
        "#정밀도\n",
        "#TP/(FP+TP) FP가 큰 경우라서 정밀도가 낮음\n",
        "precision_score(y_b_train_iqr, y_b_train_pred_iqr)"
      ],
      "execution_count": 48,
      "outputs": [
        {
          "output_type": "execute_result",
          "data": {
            "text/plain": [
              "0.3878126685195172"
            ]
          },
          "metadata": {
            "tags": []
          },
          "execution_count": 48
        }
      ]
    },
    {
      "cell_type": "code",
      "metadata": {
        "colab": {
          "base_uri": "https://localhost:8080/"
        },
        "id": "MfIGwP5yLyrS",
        "outputId": "5c8cd62e-2e18-425c-a365-4c4730b1e5e6"
      },
      "source": [
        "#재현율\n",
        "#TP/(FN+TP)\n",
        "recall_score(y_b_train_iqr, y_b_train_pred_iqr)"
      ],
      "execution_count": 50,
      "outputs": [
        {
          "output_type": "execute_result",
          "data": {
            "text/plain": [
              "0.825591663723066"
            ]
          },
          "metadata": {
            "tags": []
          },
          "execution_count": 50
        }
      ]
    },
    {
      "cell_type": "code",
      "metadata": {
        "colab": {
          "base_uri": "https://localhost:8080/"
        },
        "id": "L0OTlTX-NLP8",
        "outputId": "fe39aa3b-1af2-4230-fbd4-f00dfb74980b"
      },
      "source": [
        "from sklearn.metrics import f1_score\n",
        "\n",
        "f1_score(y_b_train_iqr, y_b_train_pred_iqr)"
      ],
      "execution_count": 51,
      "outputs": [
        {
          "output_type": "execute_result",
          "data": {
            "text/plain": [
              "0.527729953995089"
            ]
          },
          "metadata": {
            "tags": []
          },
          "execution_count": 51
        }
      ]
    },
    {
      "cell_type": "markdown",
      "metadata": {
        "id": "DSUDofoJa-qx"
      },
      "source": [
        "### 2. DecisionTree Classifier"
      ]
    },
    {
      "cell_type": "code",
      "metadata": {
        "colab": {
          "base_uri": "https://localhost:8080/"
        },
        "id": "fFCxGKVDN5Qm",
        "outputId": "c30e2bb4-0fa8-40f5-9223-69861a50f89a"
      },
      "source": [
        "from sklearn.tree import DecisionTreeClassifier\n",
        "\n",
        "tree_c = DecisionTreeClassifier(random_state=42, min_samples_leaf=0.05) #min_samples_leaf 규제 적용\n",
        "tree_c.fit(X_b_train_iqr, y_b_train_iqr)"
      ],
      "execution_count": 53,
      "outputs": [
        {
          "output_type": "execute_result",
          "data": {
            "text/plain": [
              "DecisionTreeClassifier(ccp_alpha=0.0, class_weight=None, criterion='gini',\n",
              "                       max_depth=None, max_features=None, max_leaf_nodes=None,\n",
              "                       min_impurity_decrease=0.0, min_impurity_split=None,\n",
              "                       min_samples_leaf=0.05, min_samples_split=2,\n",
              "                       min_weight_fraction_leaf=0.0, presort='deprecated',\n",
              "                       random_state=42, splitter='best')"
            ]
          },
          "metadata": {
            "tags": []
          },
          "execution_count": 53
        }
      ]
    },
    {
      "cell_type": "code",
      "metadata": {
        "colab": {
          "base_uri": "https://localhost:8080/"
        },
        "id": "CsrQoiCPpPZt",
        "outputId": "19cdfd3f-1d37-4101-ac36-42b178fadd84"
      },
      "source": [
        "from sklearn.metrics import confusion_matrix \n",
        "from sklearn.model_selection import cross_val_predict\n",
        "\n",
        "y_train_pred_dct= cross_val_predict(tree_c, X_b_train_iqr, y_b_train_iqr, cv=3)\n",
        "cm = confusion_matrix(y_b_train_iqr, y_train_pred_dct)\n",
        "cm"
      ],
      "execution_count": 54,
      "outputs": [
        {
          "output_type": "execute_result",
          "data": {
            "text/plain": [
              "array([[44851,   676],\n",
              "       [ 2170, 20478]])"
            ]
          },
          "metadata": {
            "tags": []
          },
          "execution_count": 54
        }
      ]
    },
    {
      "cell_type": "markdown",
      "metadata": {
        "id": "Sc3HUObZbyZZ"
      },
      "source": [
        "양성(fraud) 인데, 음성(valid)로 잘못 예측하는 결과가 아직 높은 편이다.\n",
        "\n",
        "실제 test data로 확인 시, 95.7% 수준의 정확도와 93.5%의 f1_score 값이 확인된다. 개선의 여지가 있다."
      ]
    },
    {
      "cell_type": "code",
      "metadata": {
        "colab": {
          "base_uri": "https://localhost:8080/"
        },
        "id": "diAoaEDH6h7l",
        "outputId": "3aed5022-d9b2-422a-b0eb-e5614328f889"
      },
      "source": [
        "y_pred_dct = tree_c.predict(X_b_test_iqr)\n",
        "np.sum(y_b_test_iqr == y_pred_dct) / len(y_b_test_iqr) "
      ],
      "execution_count": 55,
      "outputs": [
        {
          "output_type": "execute_result",
          "data": {
            "text/plain": [
              "0.9573597359735974"
            ]
          },
          "metadata": {
            "tags": []
          },
          "execution_count": 55
        }
      ]
    },
    {
      "cell_type": "code",
      "metadata": {
        "colab": {
          "base_uri": "https://localhost:8080/"
        },
        "id": "K6DqKFTO7EY8",
        "outputId": "54fa8ac5-6367-44a9-f2bb-29eb328fd049"
      },
      "source": [
        "from sklearn.metrics import precision_score, recall_score, f1_score\n",
        "\n",
        "f1_score(y_b_train_iqr, y_train_pred_dct)"
      ],
      "execution_count": 56,
      "outputs": [
        {
          "output_type": "execute_result",
          "data": {
            "text/plain": [
              "0.9350257979087713"
            ]
          },
          "metadata": {
            "tags": []
          },
          "execution_count": 56
        }
      ]
    },
    {
      "cell_type": "markdown",
      "metadata": {
        "id": "rX7jTMGymwoR"
      },
      "source": [
        "### 3. RandomForestClassifier"
      ]
    },
    {
      "cell_type": "code",
      "metadata": {
        "colab": {
          "base_uri": "https://localhost:8080/"
        },
        "id": "MmjOZElCjFav",
        "outputId": "fd7b12d5-77cb-4a0b-d2db-f7dd93726e73"
      },
      "source": [
        "from sklearn.ensemble import RandomForestClassifier\n",
        "\n",
        "rnd_clf = RandomForestClassifier(n_estimators=500, max_leaf_nodes=16, random_state=42)\n",
        "rnd_clf.fit(X_b_train_iqr, y_b_train_iqr)\n",
        "\n",
        "y_pred_rf = rnd_clf.predict(X_b_test_iqr)\n",
        "y_pred_rf"
      ],
      "execution_count": 57,
      "outputs": [
        {
          "output_type": "execute_result",
          "data": {
            "text/plain": [
              "array([0, 0, 1, ..., 0, 0, 0])"
            ]
          },
          "metadata": {
            "tags": []
          },
          "execution_count": 57
        }
      ]
    },
    {
      "cell_type": "code",
      "metadata": {
        "colab": {
          "base_uri": "https://localhost:8080/"
        },
        "id": "ixRqXTrBnnPo",
        "outputId": "52e01b63-9e69-4973-93a8-d69e04683b6f"
      },
      "source": [
        "y_b_train_pred_iqr = cross_val_predict(rnd_clf, X_b_train_iqr, y_b_train_iqr, cv=3)\n",
        "cm = confusion_matrix(y_b_train_iqr, y_b_train_pred_iqr)\n",
        "cm"
      ],
      "execution_count": 58,
      "outputs": [
        {
          "output_type": "execute_result",
          "data": {
            "text/plain": [
              "array([[45430,    97],\n",
              "       [ 1435, 21213]])"
            ]
          },
          "metadata": {
            "tags": []
          },
          "execution_count": 58
        }
      ]
    },
    {
      "cell_type": "code",
      "metadata": {
        "colab": {
          "base_uri": "https://localhost:8080/"
        },
        "id": "nsHbxX9jnnHJ",
        "outputId": "e15dac9b-74b8-440a-cb5c-8f4ee52d96ba"
      },
      "source": [
        "precision_score(y_b_train_iqr, y_b_train_pred_iqr)"
      ],
      "execution_count": 59,
      "outputs": [
        {
          "output_type": "execute_result",
          "data": {
            "text/plain": [
              "0.9954481464101361"
            ]
          },
          "metadata": {
            "tags": []
          },
          "execution_count": 59
        }
      ]
    },
    {
      "cell_type": "code",
      "metadata": {
        "colab": {
          "base_uri": "https://localhost:8080/"
        },
        "id": "Xbg2dMplo-Zx",
        "outputId": "90535b65-7154-46e9-b7fc-558309cdc703"
      },
      "source": [
        "recall_score(y_b_train_iqr, y_b_train_pred_iqr)"
      ],
      "execution_count": 60,
      "outputs": [
        {
          "output_type": "execute_result",
          "data": {
            "text/plain": [
              "0.9366389968209113"
            ]
          },
          "metadata": {
            "tags": []
          },
          "execution_count": 60
        }
      ]
    },
    {
      "cell_type": "code",
      "metadata": {
        "colab": {
          "base_uri": "https://localhost:8080/"
        },
        "id": "GzdwfdWZo-A8",
        "outputId": "1ddaf73e-2b94-496d-dd56-ee837dbb0eb5"
      },
      "source": [
        "f1_score(y_b_train_iqr, y_b_train_pred_iqr)"
      ],
      "execution_count": 61,
      "outputs": [
        {
          "output_type": "execute_result",
          "data": {
            "text/plain": [
              "0.9651485508894854"
            ]
          },
          "metadata": {
            "tags": []
          },
          "execution_count": 61
        }
      ]
    },
    {
      "cell_type": "code",
      "metadata": {
        "colab": {
          "base_uri": "https://localhost:8080/"
        },
        "id": "mQQ1FQ1QpNPh",
        "outputId": "8ef52e22-50d8-4793-ebbd-62f654af6b35"
      },
      "source": [
        "np.sum(y_b_test_iqr == y_pred_rf) / len(y_b_test_iqr) "
      ],
      "execution_count": 62,
      "outputs": [
        {
          "output_type": "execute_result",
          "data": {
            "text/plain": [
              "0.9767656765676568"
            ]
          },
          "metadata": {
            "tags": []
          },
          "execution_count": 62
        }
      ]
    },
    {
      "cell_type": "markdown",
      "metadata": {
        "id": "UHZLbn2rtkVV"
      },
      "source": [
        "RandomForest로 더 개선된 97.7% 수준의 정확도가 확보된다.\n",
        "\n",
        "random forest 모델의 변수중 feature_importances_를 통해 각 특성의 중요도를 확인할 수 있다."
      ]
    },
    {
      "cell_type": "code",
      "metadata": {
        "colab": {
          "base_uri": "https://localhost:8080/"
        },
        "id": "k5QFtM6AjFjK",
        "outputId": "f3b95ac1-f77a-4df9-f5ae-cf0f162deebf"
      },
      "source": [
        "for score in zip(rnd_clf.feature_importances_):\n",
        "    print(score)"
      ],
      "execution_count": 63,
      "outputs": [
        {
          "output_type": "stream",
          "text": [
            "(0.0008327950778195999,)\n",
            "(0.002482219145432791,)\n",
            "(0.030219677536404383,)\n",
            "(0.06712808034610274,)\n",
            "(0.09530417909993094,)\n",
            "(0.005661179750300118,)\n",
            "(0.007610311600928697,)\n",
            "(0.03766937580900821,)\n",
            "(0.0012076431359261109,)\n",
            "(0.019064892897770032,)\n",
            "(0.14826155336392763,)\n",
            "(0.0918924797404028,)\n",
            "(0.11847278009385989,)\n",
            "(0.0004293264394976653,)\n",
            "(0.21115646667936286,)\n",
            "(0.00037273219343943604,)\n",
            "(0.03807368394925987,)\n",
            "(0.09191161808639839,)\n",
            "(0.005667295322615926,)\n",
            "(0.0010169086725474988,)\n",
            "(0.0013511565789650465,)\n",
            "(0.01514265222544161,)\n",
            "(0.0005144067332058397,)\n",
            "(0.00028213727409311936,)\n",
            "(0.00016683229239820833,)\n",
            "(0.0002846518020279179,)\n",
            "(0.0002521420178445201,)\n",
            "(0.0031374625646348043,)\n",
            "(0.0040794372116388766,)\n",
            "(0.0003539223588146436,)\n"
          ],
          "name": "stdout"
        }
      ]
    }
  ]
}