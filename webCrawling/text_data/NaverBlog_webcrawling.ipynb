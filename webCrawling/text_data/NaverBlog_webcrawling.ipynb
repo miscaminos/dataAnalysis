{
 "cells": [
  {
   "cell_type": "markdown",
   "id": "c80a5abc",
   "metadata": {},
   "source": [
    "### Naver 블로그 \n",
    "\n",
    "블로그 텍스트 데이터 웹 크롤링 using selenium"
   ]
  },
  {
   "cell_type": "code",
   "execution_count": null,
   "id": "48e2613e",
   "metadata": {},
   "outputs": [],
   "source": [
    "#환경 setup - 필수 모듈, 라이브러리 로드\n",
    "from bs4 import BeautifulSoup\n",
    "from selenium import webdriver\n",
    "import requests\n",
    "import time"
   ]
  },
  {
   "cell_type": "code",
   "execution_count": null,
   "id": "20a34f83",
   "metadata": {},
   "outputs": [],
   "source": [
    "# 크롬 웹브라우저 실행\n",
    "path = 'C:/SJL/GyeonggidoData_Course/Teamproject/Chrome/chromedriver.exe'\n",
    "\n",
    "driver = webdriver.Chrome(path)\n",
    "url_list = []\n",
    "content_list = \"\"\n",
    "\n",
    "def naverblog_crawler(query,startDate,endDate):\n",
    "\n",
    "    # 해당기간 검색결과 갯수 확인\n",
    "    url_initial='https://section.blog.naver.com/Search/Post.naver?pageNo=1&rangeType=PERIOD&orderBy=sim&startDate='+startDate+'&endDate='+endDate+'&keyword='+query\n",
    "    driver.get(url_initial)\n",
    "    totCount = driver.find_element_by_xpath('/html/body/ui-view/div/main/div/div/section/div[1]/div[2]/span/span/em').text\n",
    "    totalCount = int(totCount[:-1].replace(',',''))\n",
    "    print(totalCount)\n",
    "\n",
    "    if totalCount%10:\n",
    "        lastPage = int(totalCount/10) + 1\n",
    "    else:\n",
    "        lastPage = int(totalCount/10)\n",
    "    print(lastPage)\n",
    "\n",
    "    for page in range(1,lastPage+1):  \n",
    "        url = 'https://section.blog.naver.com/Search/Post.naver?pageNo='+page+'&rangeType=PERIOD&orderBy=sim&startDate='+startDate+'&endDate='+endDate+'&keyword='+query\n",
    "        driver.get(url)\n",
    "        time.sleep(0.5)\n",
    "\n",
    "        for j in range(1, 11): # 각 블로그 주소 저장\n",
    "            urls = driver.find_element_by_xpath('/html/body/ui-view/div/main/div/div/section/div[2]/div['+str(j)+']/div/div[1]/div[1]/a[1]')\n",
    "            url = titles.get_attribute('href')\n",
    "            url_list.append(url)\n",
    "\n",
    "    print(\"url 수집 끝, 해당 url 데이터 크롤링\")\n",
    "\n",
    "    for url in url_list: # 수집한 url 만큼 반복\n",
    "        driver.get(url) # 해당 url로 이동\n",
    "\n",
    "        driver.switch_to.frame('mainFrame')\n",
    "        overlays = \".se-component.se-text.se-l-default\" # 내용 크롤링\n",
    "        contents = driver.find_elements_by_css_selector(overlays)\n",
    "\n",
    "        for content in contents:\n",
    "            content_list = content_list + content.text # content_list 라는 값에 + 하면서 점점 누적\n"
   ]
  },
  {
   "cell_type": "code",
   "execution_count": null,
   "id": "db3adfee",
   "metadata": {},
   "outputs": [],
   "source": [
    "# 기간설정 format: 2021-08-15\n",
    "startDate='2020-08-15'\n",
    "endDate='2021-08-15'\n",
    "# 검색할 주제어\n",
    "query='친환경 세제'\n",
    "\n",
    "naverblog_crawler(query,startDate,endDate)"
   ]
  }
 ],
 "metadata": {
  "kernelspec": {
   "display_name": "miniprojects",
   "language": "python",
   "name": "miniprojects"
  },
  "language_info": {
   "codemirror_mode": {
    "name": "ipython",
    "version": 3
   },
   "file_extension": ".py",
   "mimetype": "text/x-python",
   "name": "python",
   "nbconvert_exporter": "python",
   "pygments_lexer": "ipython3",
   "version": "3.8.11"
  }
 },
 "nbformat": 4,
 "nbformat_minor": 5
}
