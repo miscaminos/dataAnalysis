{
 "cells": [
  {
   "cell_type": "markdown",
   "metadata": {
    "id": "KZ5wursIwIFd"
   },
   "source": [
    "### 환경 setup"
   ]
  },
  {
   "cell_type": "code",
   "execution_count": null,
   "metadata": {},
   "outputs": [],
   "source": [
    "!apt-get install g++ openjdk-8-jdk python3-dev python3-pip curl"
   ]
  },
  {
   "cell_type": "code",
   "execution_count": null,
   "metadata": {},
   "outputs": [],
   "source": [
    "!python3 -m pip install --upgrade pip"
   ]
  },
  {
   "cell_type": "code",
   "execution_count": null,
   "metadata": {},
   "outputs": [],
   "source": [
    "!python3 -m pip install konlpy"
   ]
  },
  {
   "cell_type": "code",
   "execution_count": 4,
   "metadata": {
    "id": "FUuqSGul54iE"
   },
   "outputs": [],
   "source": [
    "from konlpy.tag import Okt\n",
    "okt = Okt()"
   ]
  },
  {
   "cell_type": "code",
   "execution_count": null,
   "metadata": {
    "id": "xs4G6mpVwz5n"
   },
   "outputs": [],
   "source": [
    "import re\n",
    "import pandas as pd"
   ]
  },
  {
   "cell_type": "markdown",
   "metadata": {
    "id": "nOvKxmWPwOjG"
   },
   "source": [
    "### 클롤링 데이터 load"
   ]
  },
  {
   "cell_type": "code",
   "execution_count": 5,
   "metadata": {
    "colab": {
     "base_uri": "https://localhost:8080/",
     "height": 242
    },
    "id": "Ns9e0HoxOG_G",
    "outputId": "e1d21bb9-89b7-4b29-e5e5-084587b64d2f"
   },
   "outputs": [
    {
     "data": {
      "text/html": [
       "<div>\n",
       "<style scoped>\n",
       "    .dataframe tbody tr th:only-of-type {\n",
       "        vertical-align: middle;\n",
       "    }\n",
       "\n",
       "    .dataframe tbody tr th {\n",
       "        vertical-align: top;\n",
       "    }\n",
       "\n",
       "    .dataframe thead th {\n",
       "        text-align: right;\n",
       "    }\n",
       "</style>\n",
       "<table border=\"1\" class=\"dataframe\">\n",
       "  <thead>\n",
       "    <tr style=\"text-align: right;\">\n",
       "      <th></th>\n",
       "      <th>URL</th>\n",
       "      <th>Date</th>\n",
       "      <th>Like</th>\n",
       "      <th>Content</th>\n",
       "      <th>Hashtag</th>\n",
       "    </tr>\n",
       "  </thead>\n",
       "  <tbody>\n",
       "    <tr>\n",
       "      <th>0</th>\n",
       "      <td>https://blog.naver.com/yesemi/222452707130</td>\n",
       "      <td>2021. 7. 31. 23:59</td>\n",
       "      <td>114.0</td>\n",
       "      <td>2021년 7월 24일 토요일 &lt; 오늘 배출된 플라스틱 &gt; 어묵 2, 빼빼로 1, ...</td>\n",
       "      <td>#제로웨이스트 #제로웨이스터 #zerowaste #plastic #plasticdi...</td>\n",
       "    </tr>\n",
       "    <tr>\n",
       "      <th>1</th>\n",
       "      <td>https://blog.naver.com/ddoni89/222452706700</td>\n",
       "      <td>2021. 7. 31. 23:59</td>\n",
       "      <td>10.0</td>\n",
       "      <td>안녕하세요? 또니입니다! 오늘은 육아 중 실천할 수 있는 제로웨이스트 활동을 찾아볼...</td>\n",
       "      <td>#제로웨이스터 #제로웨이스트 #일회용품줄이기 #중고거래 #제로웨이스트육아</td>\n",
       "    </tr>\n",
       "    <tr>\n",
       "      <th>2</th>\n",
       "      <td>https://blog.naver.com/answn986123/222452705706</td>\n",
       "      <td>2021. 7. 31. 23:58</td>\n",
       "      <td>1.0</td>\n",
       "      <td>어느새 7월도 훌쩍_.  게 눈 감추듯 흘러갔다. 미루고 미루다 결국 단벌 감상은 ...</td>\n",
       "      <td>NaN</td>\n",
       "    </tr>\n",
       "  </tbody>\n",
       "</table>\n",
       "</div>"
      ],
      "text/plain": [
       "                                               URL  ...                                            Hashtag\n",
       "0       https://blog.naver.com/yesemi/222452707130  ...  #제로웨이스트 #제로웨이스터 #zerowaste #plastic #plasticdi...\n",
       "1      https://blog.naver.com/ddoni89/222452706700  ...           #제로웨이스터 #제로웨이스트 #일회용품줄이기 #중고거래 #제로웨이스트육아\n",
       "2  https://blog.naver.com/answn986123/222452705706  ...                                                NaN\n",
       "\n",
       "[3 rows x 5 columns]"
      ]
     },
     "execution_count": 5,
     "metadata": {},
     "output_type": "execute_result"
    }
   ],
   "source": [
    "df = pd.read_csv('/content/sample_data/naverblogs_crawling_selenium_Jul15-31.csv')\n",
    "df.head(3)"
   ]
  },
  {
   "cell_type": "code",
   "execution_count": 6,
   "metadata": {
    "colab": {
     "base_uri": "https://localhost:8080/"
    },
    "id": "ooXyENhU6byO",
    "outputId": "218582a7-5e54-42af-880b-18d27d1341b3"
   },
   "outputs": [
    {
     "data": {
      "text/plain": [
       "(2827, 5)"
      ]
     },
     "execution_count": 6,
     "metadata": {},
     "output_type": "execute_result"
    }
   ],
   "source": [
    "df.shape"
   ]
  },
  {
   "cell_type": "markdown",
   "metadata": {
    "id": "xKHM6B-AwVBe"
   },
   "source": [
    "### Content 컬럼이 missing value인 row 처리"
   ]
  },
  {
   "cell_type": "code",
   "execution_count": null,
   "metadata": {
    "colab": {
     "base_uri": "https://localhost:8080/"
    },
    "id": "WtvBupqj54kg",
    "outputId": "67979a54-507f-4abc-a443-5300b63be055"
   },
   "outputs": [
    {
     "data": {
      "text/plain": [
       "URL          0\n",
       "Date        80\n",
       "Like       150\n",
       "Content    113\n",
       "Hashtag    261\n",
       "dtype: int64"
      ]
     },
     "execution_count": 11,
     "metadata": {
      "tags": []
     },
     "output_type": "execute_result"
    }
   ],
   "source": [
    "df.isnull().sum()"
   ]
  },
  {
   "cell_type": "code",
   "execution_count": 22,
   "metadata": {
    "id": "fd0OBKLh54mg"
   },
   "outputs": [],
   "source": [
    "dataframe = df.copy()"
   ]
  },
  {
   "cell_type": "code",
   "execution_count": 23,
   "metadata": {
    "id": "woiS5VPJ62GR"
   },
   "outputs": [],
   "source": [
    "dataframe = dataframe.dropna(subset=['Content'])\n",
    "dataframe.reset_index(drop=True, inplace=True)"
   ]
  },
  {
   "cell_type": "code",
   "execution_count": 9,
   "metadata": {
    "colab": {
     "base_uri": "https://localhost:8080/"
    },
    "id": "VOCrpPMb54ou",
    "outputId": "8b2d2a46-1562-4001-e1d3-5ed97518e1b5"
   },
   "outputs": [
    {
     "data": {
      "text/plain": [
       "URL          0\n",
       "Date         1\n",
       "Like       159\n",
       "Content      0\n",
       "Hashtag    261\n",
       "dtype: int64"
      ]
     },
     "execution_count": 9,
     "metadata": {},
     "output_type": "execute_result"
    }
   ],
   "source": [
    "dataframe.isnull().sum()"
   ]
  },
  {
   "cell_type": "code",
   "execution_count": 42,
   "metadata": {
    "colab": {
     "base_uri": "https://localhost:8080/"
    },
    "id": "PDkDiLBb2fIv",
    "outputId": "8c13c37b-8d76-4c05-c381-fee0eda5fcd1"
   },
   "outputs": [
    {
     "name": "stdout",
     "output_type": "stream",
     "text": [
      "<class 'pandas.core.frame.DataFrame'>\n",
      "RangeIndex: 2698 entries, 0 to 2697\n",
      "Data columns (total 5 columns):\n",
      " #   Column   Non-Null Count  Dtype  \n",
      "---  ------   --------------  -----  \n",
      " 0   URL      2698 non-null   object \n",
      " 1   Date     2697 non-null   object \n",
      " 2   Like     2539 non-null   float64\n",
      " 3   Content  2698 non-null   object \n",
      " 4   Hashtag  2437 non-null   object \n",
      "dtypes: float64(1), object(4)\n",
      "memory usage: 105.5+ KB\n"
     ]
    }
   ],
   "source": [
    "dataframe.info()"
   ]
  },
  {
   "cell_type": "code",
   "execution_count": 25,
   "metadata": {
    "colab": {
     "base_uri": "https://localhost:8080/",
     "height": 371
    },
    "id": "lBqz1tQnuyIX",
    "outputId": "6761c1c1-2abd-4901-f3bf-2eb674366375"
   },
   "outputs": [
    {
     "data": {
      "text/html": [
       "<div>\n",
       "<style scoped>\n",
       "    .dataframe tbody tr th:only-of-type {\n",
       "        vertical-align: middle;\n",
       "    }\n",
       "\n",
       "    .dataframe tbody tr th {\n",
       "        vertical-align: top;\n",
       "    }\n",
       "\n",
       "    .dataframe thead th {\n",
       "        text-align: right;\n",
       "    }\n",
       "</style>\n",
       "<table border=\"1\" class=\"dataframe\">\n",
       "  <thead>\n",
       "    <tr style=\"text-align: right;\">\n",
       "      <th></th>\n",
       "      <th>URL</th>\n",
       "      <th>Date</th>\n",
       "      <th>Like</th>\n",
       "      <th>Content</th>\n",
       "      <th>Hashtag</th>\n",
       "    </tr>\n",
       "  </thead>\n",
       "  <tbody>\n",
       "    <tr>\n",
       "      <th>0</th>\n",
       "      <td>https://blog.naver.com/yesemi/222452707130</td>\n",
       "      <td>2021. 7. 31. 23:59</td>\n",
       "      <td>114.0</td>\n",
       "      <td>2021년 7월 24일 토요일 &lt; 오늘 배출된 플라스틱 &gt; 어묵 2, 빼빼로 1, ...</td>\n",
       "      <td>#제로웨이스트 #제로웨이스터 #zerowaste #plastic #plasticdi...</td>\n",
       "    </tr>\n",
       "    <tr>\n",
       "      <th>1</th>\n",
       "      <td>https://blog.naver.com/ddoni89/222452706700</td>\n",
       "      <td>2021. 7. 31. 23:59</td>\n",
       "      <td>10.0</td>\n",
       "      <td>안녕하세요? 또니입니다! 오늘은 육아 중 실천할 수 있는 제로웨이스트 활동을 찾아볼...</td>\n",
       "      <td>#제로웨이스터 #제로웨이스트 #일회용품줄이기 #중고거래 #제로웨이스트육아</td>\n",
       "    </tr>\n",
       "    <tr>\n",
       "      <th>2</th>\n",
       "      <td>https://blog.naver.com/answn986123/222452705706</td>\n",
       "      <td>2021. 7. 31. 23:58</td>\n",
       "      <td>1.0</td>\n",
       "      <td>어느새 7월도 훌쩍_.  게 눈 감추듯 흘러갔다. 미루고 미루다 결국 단벌 감상은 ...</td>\n",
       "      <td>NaN</td>\n",
       "    </tr>\n",
       "    <tr>\n",
       "      <th>3</th>\n",
       "      <td>https://blog.naver.com/sms965/222452694793</td>\n",
       "      <td>2021. 7. 31. 23:47</td>\n",
       "      <td>3.0</td>\n",
       "      <td>#챌린저스 #올바른분리수거실천하기 #02요즘에는 아이스팩 안에 순수 물이 들어 있어...</td>\n",
       "      <td>#챌린저스 #올바른분리수거실천하기 #02 #아이스팩버리기 #페트병분리 #분리수거 #...</td>\n",
       "    </tr>\n",
       "    <tr>\n",
       "      <th>4</th>\n",
       "      <td>https://blog.naver.com/crazyelis/222452690732</td>\n",
       "      <td>2021. 7. 31. 23:43</td>\n",
       "      <td>0.0</td>\n",
       "      <td>코로나가 계속 지속되면서 도시락싸서 다니시는 분들 많을 것 같아요. (이젠 코로나 ...</td>\n",
       "      <td>#파룸체험단 #락앤락 #락앤락도시락 #도시락싸바싸바 #직장인도시락 #도시락 #다이어...</td>\n",
       "    </tr>\n",
       "  </tbody>\n",
       "</table>\n",
       "</div>"
      ],
      "text/plain": [
       "                                               URL  ...                                            Hashtag\n",
       "0       https://blog.naver.com/yesemi/222452707130  ...  #제로웨이스트 #제로웨이스터 #zerowaste #plastic #plasticdi...\n",
       "1      https://blog.naver.com/ddoni89/222452706700  ...           #제로웨이스터 #제로웨이스트 #일회용품줄이기 #중고거래 #제로웨이스트육아\n",
       "2  https://blog.naver.com/answn986123/222452705706  ...                                                NaN\n",
       "3       https://blog.naver.com/sms965/222452694793  ...  #챌린저스 #올바른분리수거실천하기 #02 #아이스팩버리기 #페트병분리 #분리수거 #...\n",
       "4    https://blog.naver.com/crazyelis/222452690732  ...  #파룸체험단 #락앤락 #락앤락도시락 #도시락싸바싸바 #직장인도시락 #도시락 #다이어...\n",
       "\n",
       "[5 rows x 5 columns]"
      ]
     },
     "execution_count": 25,
     "metadata": {},
     "output_type": "execute_result"
    }
   ],
   "source": [
    "dataframe.head()"
   ]
  },
  {
   "cell_type": "markdown",
   "metadata": {
    "id": "VPDbd5pgwg3_"
   },
   "source": [
    "### 첫번째 content로 test해보기"
   ]
  },
  {
   "cell_type": "code",
   "execution_count": 11,
   "metadata": {
    "id": "JMvifeDk3hVk"
   },
   "outputs": [],
   "source": [
    "text = dataframe['Content'][0]"
   ]
  },
  {
   "cell_type": "code",
   "execution_count": 12,
   "metadata": {
    "colab": {
     "base_uri": "https://localhost:8080/",
     "height": 106
    },
    "id": "8B_ohFmN9EWy",
    "outputId": "7561c4cc-0be0-4963-9506-6539f81ca213"
   },
   "outputs": [
    {
     "data": {
      "application/vnd.google.colaboratory.intrinsic+json": {
       "type": "string"
      },
      "text/plain": [
       "'2021년 7월 24일 토요일 < 오늘 배출된 플라스틱 > 어묵 2, 빼빼로 1, 사과즙 2, 유산균 1, 인공누액 2.모닝 사과즙. 아이가 좋아하는 어묵으로 반찬도 하고 국도 끓이고. 마트에서 그냥 빠져나오지 못하고 집어든 빼빼로 한 봉지. 그리고 유산균과 인공누액 두개. 소소하고 평범한 하루에 배출된 소소하지 않은 쓰레기들. 오늘 플라스틱 일기, 끝.#제로웨이스트 #제로웨이스터 #zerowaste #plastic #plasticdiary #eco #earthday #플라스틱일기 #플라스틱일기챌린지 #챌린지 #쓰레기일기 #매일기록하기 #나먼저변화하기 #오늘부터 #함께해요 #어스데이 #지구의날 #환경 #기후 #일기 #쓰레기 #줄이기 #실천하기 #분리배출 #분리수거 #플라스틱 #비닐 #소소한하루 #소소하지않은쓰레기들'"
      ]
     },
     "execution_count": 12,
     "metadata": {},
     "output_type": "execute_result"
    }
   ],
   "source": [
    "text"
   ]
  },
  {
   "cell_type": "code",
   "execution_count": 13,
   "metadata": {
    "id": "Xsur9uIy3hXe"
   },
   "outputs": [],
   "source": [
    "def apply_regular_expression(text):\n",
    "    hangul = re.compile('[^ ㄱ-ㅣ 가-힣]')  # 한글 추출 규칙: 띄어 쓰기(1 개)를 포함한 한글\n",
    "    result = hangul.sub('', text)  # 위에 설정한 \"hangul\"규칙을 \"text\"에 적용(.sub)시킴\n",
    "    return result"
   ]
  },
  {
   "cell_type": "code",
   "execution_count": 14,
   "metadata": {
    "id": "S7PGm6NI8ipR"
   },
   "outputs": [],
   "source": [
    "re_result = apply_regular_expression(text)"
   ]
  },
  {
   "cell_type": "code",
   "execution_count": 15,
   "metadata": {
    "colab": {
     "base_uri": "https://localhost:8080/",
     "height": 106
    },
    "id": "sdfWfKRb3hZ0",
    "outputId": "fd16aafc-5b12-4f12-be13-b7323b0f2ef6"
   },
   "outputs": [
    {
     "data": {
      "application/vnd.google.colaboratory.intrinsic+json": {
       "type": "string"
      },
      "text/plain": [
       "'년 월 일 토요일  오늘 배출된 플라스틱  어묵  빼빼로  사과즙  유산균  인공누액 모닝 사과즙 아이가 좋아하는 어묵으로 반찬도 하고 국도 끓이고 마트에서 그냥 빠져나오지 못하고 집어든 빼빼로 한 봉지 그리고 유산균과 인공누액 두개 소소하고 평범한 하루에 배출된 소소하지 않은 쓰레기들 오늘 플라스틱 일기 끝제로웨이스트 제로웨이스터      플라스틱일기 플라스틱일기챌린지 챌린지 쓰레기일기 매일기록하기 나먼저변화하기 오늘부터 함께해요 어스데이 지구의날 환경 기후 일기 쓰레기 줄이기 실천하기 분리배출 분리수거 플라스틱 비닐 소소한하루 소소하지않은쓰레기들'"
      ]
     },
     "execution_count": 15,
     "metadata": {},
     "output_type": "execute_result"
    }
   ],
   "source": [
    "re_result"
   ]
  },
  {
   "cell_type": "code",
   "execution_count": 16,
   "metadata": {
    "id": "zEkre9hv9JYK"
   },
   "outputs": [],
   "source": [
    "from konlpy.tag import Okt\n",
    "from collections import Counter"
   ]
  },
  {
   "cell_type": "code",
   "execution_count": 20,
   "metadata": {
    "id": "crKX8S449JcT"
   },
   "outputs": [],
   "source": [
    "okt = Okt()\n",
    "nouns = okt.nouns(re_result)"
   ]
  },
  {
   "cell_type": "markdown",
   "metadata": {
    "id": "1qJYAXSDpfPu"
   },
   "source": [
    "### 광고성글 제외시키기"
   ]
  },
  {
   "cell_type": "code",
   "execution_count": 19,
   "metadata": {
    "id": "w7ugxzaspeZa"
   },
   "outputs": [],
   "source": [
    "exclude= ['원고료', '광고', '홍보', '협찬','협찬받아', '무상', '지원받아', '제공받아','제공받고','당첨','이벤트','당첨 후']"
   ]
  },
  {
   "cell_type": "code",
   "execution_count": 43,
   "metadata": {
    "id": "Kuvmr1rCpecp"
   },
   "outputs": [],
   "source": [
    "dfcopy = dataframe.copy()\n",
    "\n",
    "for idx in dfcopy.index:\n",
    "    hangul = re.compile('[^ ㄱ-ㅣ 가-힣]')\n",
    "    result = hangul.sub('', str(dfcopy.loc[idx,'Content']))\n",
    "    words_row = result.split(\" \")\n",
    "    for x in words_row:\n",
    "        if x in exclude: \n",
    "            dfcopy = dfcopy.drop([idx])\n",
    "            break  "
   ]
  },
  {
   "cell_type": "code",
   "execution_count": 44,
   "metadata": {
    "colab": {
     "base_uri": "https://localhost:8080/"
    },
    "id": "yXDRkslUp6CL",
    "outputId": "d2028462-5e00-4176-be12-fe1cdf8ab684"
   },
   "outputs": [
    {
     "name": "stdout",
     "output_type": "stream",
     "text": [
      "<class 'pandas.core.frame.DataFrame'>\n",
      "Int64Index: 2445 entries, 0 to 2697\n",
      "Data columns (total 5 columns):\n",
      " #   Column   Non-Null Count  Dtype  \n",
      "---  ------   --------------  -----  \n",
      " 0   URL      2445 non-null   object \n",
      " 1   Date     2444 non-null   object \n",
      " 2   Like     2301 non-null   float64\n",
      " 3   Content  2445 non-null   object \n",
      " 4   Hashtag  2202 non-null   object \n",
      "dtypes: float64(1), object(4)\n",
      "memory usage: 194.6+ KB\n"
     ]
    }
   ],
   "source": [
    "dfcopy.info() # 광고성 단어 포함된 글 삭제 후, contents개수 2698 --> 2445로 감소"
   ]
  },
  {
   "cell_type": "markdown",
   "metadata": {
    "id": "u2rSCVquxIFZ"
   },
   "source": [
    "### 말뭉치 생성 및 명사 추출"
   ]
  },
  {
   "cell_type": "code",
   "execution_count": 45,
   "metadata": {
    "id": "PX9jmNoM9Jed"
   },
   "outputs": [],
   "source": [
    "# 말뭉치 생성\n",
    "\n",
    "#corpus = \"\".join(dfcopy['Content'].tolist())\n",
    "\n",
    "dfcopy['Content'] = dfcopy['Content'].astype(str)\n",
    "\n",
    "corpus=\"\"\n",
    "for idx in dfcopy.index:\n",
    "    corpus += (\" \" + str(dfcopy.loc[idx, 'Content']))"
   ]
  },
  {
   "cell_type": "code",
   "execution_count": 46,
   "metadata": {
    "id": "gR5EjW2G9Ji_"
   },
   "outputs": [],
   "source": [
    "re_corpus = apply_regular_expression(corpus)"
   ]
  },
  {
   "cell_type": "code",
   "execution_count": 66,
   "metadata": {
    "id": "5HTJ6xHs9Jla"
   },
   "outputs": [],
   "source": [
    "noun_corpus = okt.nouns(re_corpus)"
   ]
  },
  {
   "cell_type": "code",
   "execution_count": 67,
   "metadata": {
    "colab": {
     "base_uri": "https://localhost:8080/"
    },
    "id": "Z2826z6U9Jnj",
    "outputId": "c28e8115-8742-4900-9cf4-25a441dd2523"
   },
   "outputs": [
    {
     "data": {
      "text/plain": [
       "613334"
      ]
     },
     "execution_count": 67,
     "metadata": {},
     "output_type": "execute_result"
    }
   ],
   "source": [
    "len(noun_corpus) # 총 명사갯수: 613,334개"
   ]
  },
  {
   "cell_type": "code",
   "execution_count": 68,
   "metadata": {
    "colab": {
     "base_uri": "https://localhost:8080/"
    },
    "id": "XTrBJXYdIezG",
    "outputId": "9a69d32c-cd1a-4c83-de4d-621a99ee49b0"
   },
   "outputs": [
    {
     "data": {
      "text/plain": [
       "26499"
      ]
     },
     "execution_count": 68,
     "metadata": {},
     "output_type": "execute_result"
    }
   ],
   "source": [
    "noun_corpus_unique = set(noun_corpus)\n",
    "len(noun_corpus_unique) # 중복없이, noun_corpus_unique는 26,499 종류의 명사 존재함."
   ]
  },
  {
   "cell_type": "markdown",
   "metadata": {
    "id": "WxqHboej-E1z"
   },
   "source": [
    "### stopword제거 없이 빈도수 확인시 발생하는 문제 확인"
   ]
  },
  {
   "cell_type": "code",
   "execution_count": 41,
   "metadata": {
    "colab": {
     "base_uri": "https://localhost:8080/"
    },
    "id": "jHSW1Psz9Jp1",
    "outputId": "be6925af-5a10-45f1-c4a1-9196421f6ee2"
   },
   "outputs": [
    {
     "data": {
      "text/plain": [
       "것      7009\n",
       "수      6765\n",
       "사용     6444\n",
       "제로     5587\n",
       "웨      5237\n",
       "이스트    5166\n",
       "제품     3403\n",
       "때      3327\n",
       "환경     3206\n",
       "생각     3190\n",
       "dtype: int64"
      ]
     },
     "execution_count": 41,
     "metadata": {},
     "output_type": "execute_result"
    }
   ],
   "source": [
    "# stopword 제거 없이 빈도수 보면 다음과 같이 불필요한 단어가 높은 순위에 있음\n",
    "freq = pd.Series(noun_corpus).value_counts()\n",
    "freq[:10]"
   ]
  },
  {
   "cell_type": "code",
   "execution_count": null,
   "metadata": {
    "colab": {
     "base_uri": "https://localhost:8080/"
    },
    "id": "G6T1uDQAC1w7",
    "outputId": "76e92f8a-a5b5-494f-964f-d39c4db2aaf7"
   },
   "outputs": [
    {
     "data": {
      "text/plain": [
       "[('것', 6634),\n",
       " ('수', 6387),\n",
       " ('사용', 6040),\n",
       " ('제로', 4981),\n",
       " ('웨', 4657),\n",
       " ('이스트', 4596),\n",
       " ('제품', 3303),\n",
       " ('때', 3100),\n",
       " ('환경', 3098),\n",
       " ('생각', 2943)]"
      ]
     },
     "execution_count": 42,
     "metadata": {
      "tags": []
     },
     "output_type": "execute_result"
    }
   ],
   "source": [
    "counter = Counter(noun_corpus)\n",
    "counter.most_common(10)"
   ]
  },
  {
   "cell_type": "code",
   "execution_count": null,
   "metadata": {
    "colab": {
     "base_uri": "https://localhost:8080/"
    },
    "id": "1kBvbsFLC1z0",
    "outputId": "bad77c82-b4eb-4c0b-f3a3-237a96e49fe7"
   },
   "outputs": [
    {
     "data": {
      "text/plain": [
       "[('사용', 6040),\n",
       " ('제로', 4981),\n",
       " ('이스트', 4596),\n",
       " ('제품', 3303),\n",
       " ('환경', 3098),\n",
       " ('생각', 2943),\n",
       " ('플라스틱', 2743),\n",
       " ('비누', 2645),\n",
       " ('쓰레기', 2236),\n",
       " ('친환경', 2105)]"
      ]
     },
     "execution_count": 43,
     "metadata": {
      "tags": []
     },
     "output_type": "execute_result"
    }
   ],
   "source": [
    "#다음과 같이 추가적으로 stopwords를 더해서 '제로 웨이스트'와 같은 단어들은 제외되어야한다.\n",
    "available_counter = Counter({x:counter[x] for x in counter if len(x)>1})\n",
    "available_counter.most_common(10) "
   ]
  },
  {
   "cell_type": "markdown",
   "metadata": {
    "id": "m-jc_fKQJtqV"
   },
   "source": [
    "### stopwords 처리로, 문제 해결"
   ]
  },
  {
   "cell_type": "code",
   "execution_count": 59,
   "metadata": {
    "colab": {
     "base_uri": "https://localhost:8080/"
    },
    "id": "osZcRQ_ZC12t",
    "outputId": "a9d800c2-b4fb-46f5-c43f-4fcaf9631196"
   },
   "outputs": [
    {
     "data": {
      "text/plain": [
       "[['휴'],\n",
       " ['아이구'],\n",
       " ['아이쿠'],\n",
       " ['아이고'],\n",
       " ['어'],\n",
       " ['나'],\n",
       " ['우리'],\n",
       " ['저희'],\n",
       " ['따라'],\n",
       " ['의해']]"
      ]
     },
     "execution_count": 59,
     "metadata": {},
     "output_type": "execute_result"
    }
   ],
   "source": [
    "stopwords = pd.read_csv(\"https://raw.githubusercontent.com/yoonkt200/FastCampusDataset/master/korean_stopwords.txt\").values.tolist()\n",
    "stopwords[:10]"
   ]
  },
  {
   "cell_type": "markdown",
   "metadata": {
    "id": "n2FPKx3vHN0O"
   },
   "source": [
    "TODO: stopwords에서 '우리', '저희', '함께' 는 빼야하는것같다. 검색 주제의 공동체 성격을 유지하기위해서."
   ]
  },
  {
   "cell_type": "code",
   "execution_count": 60,
   "metadata": {
    "colab": {
     "base_uri": "https://localhost:8080/"
    },
    "id": "cUtFUqPuHioa",
    "outputId": "519f0d47-6c97-43d0-bc9e-fcd0cfe6e4d6"
   },
   "outputs": [
    {
     "data": {
      "text/plain": [
       "list"
      ]
     },
     "execution_count": 60,
     "metadata": {},
     "output_type": "execute_result"
    }
   ],
   "source": [
    "type(stopwords)"
   ]
  },
  {
   "cell_type": "code",
   "execution_count": 62,
   "metadata": {
    "id": "xFr55EkuHifI"
   },
   "outputs": [],
   "source": [
    "stopwords.remove(['우리'])"
   ]
  },
  {
   "cell_type": "code",
   "execution_count": 63,
   "metadata": {
    "id": "5M1XF0LMIuoJ"
   },
   "outputs": [],
   "source": [
    "stopwords.remove(['저희'])"
   ]
  },
  {
   "cell_type": "code",
   "execution_count": null,
   "metadata": {},
   "outputs": [],
   "source": [
    "stopwords.remove(['함께'])"
   ]
  },
  {
   "cell_type": "code",
   "execution_count": 71,
   "metadata": {
    "colab": {
     "base_uri": "https://localhost:8080/"
    },
    "id": "n9I8zyy0Kj6M",
    "outputId": "362d2a71-b542-4558-be65-b9b5f27c00fc"
   },
   "outputs": [
    {
     "data": {
      "text/plain": [
       "[['휴'], ['아이구'], ['아이쿠'], ['아이고'], ['어'], ['따라'], ['의해'], ['을'], ['를'], ['에']]"
      ]
     },
     "execution_count": 71,
     "metadata": {},
     "output_type": "execute_result"
    }
   ],
   "source": [
    "stopwords[:10]"
   ]
  },
  {
   "cell_type": "code",
   "execution_count": 72,
   "metadata": {
    "id": "MY3nQ-PZC16B"
   },
   "outputs": [],
   "source": [
    "zerowaste_stopwords = ['제로','웨','이스트','이스터','제로 웨이스트','제로웨이스트',\\\n",
    "                       '제로 웨이스터','제로웨이스터']"
   ]
  },
  {
   "cell_type": "code",
   "execution_count": 73,
   "metadata": {
    "id": "i-oOFxCUC184"
   },
   "outputs": [],
   "source": [
    "for word in zerowaste_stopwords: stopwords.append(word)"
   ]
  },
  {
   "cell_type": "code",
   "execution_count": 74,
   "metadata": {
    "id": "6O4FJ6lsFK5v"
   },
   "outputs": [],
   "source": [
    "# 한글자 키워드 제거\n",
    "noun_corpus = [x for x in noun_corpus if len(x)>1]"
   ]
  },
  {
   "cell_type": "code",
   "execution_count": 75,
   "metadata": {
    "id": "YID5zJ0UFK8I"
   },
   "outputs": [],
   "source": [
    "# 불용어 제거\n",
    "noun_corpus = [x for x in noun_corpus if x not in stopwords]"
   ]
  },
  {
   "cell_type": "code",
   "execution_count": 76,
   "metadata": {
    "colab": {
     "base_uri": "https://localhost:8080/"
    },
    "id": "E8wKahB49Jsa",
    "outputId": "55c9ce20-0387-4572-c550-6df574914c29"
   },
   "outputs": [
    {
     "data": {
      "text/plain": [
       "사용      6364\n",
       "제품      3354\n",
       "환경      3164\n",
       "생각      3155\n",
       "플라스틱    3062\n",
       "비누      2926\n",
       "쓰레기     2503\n",
       "친환경     2154\n",
       "실천      2010\n",
       "우리      1945\n",
       "dtype: int64"
      ]
     },
     "execution_count": 76,
     "metadata": {},
     "output_type": "execute_result"
    }
   ],
   "source": [
    "freq = pd.Series(noun_corpus).value_counts()\n",
    "freq[:10]"
   ]
  }
 ],
 "metadata": {
  "colab": {
   "collapsed_sections": [],
   "name": "NaverBlog_txtdata_preprocessing.ipynb",
   "provenance": []
  },
  "kernelspec": {
   "display_name": "Python 3",
   "language": "python",
   "name": "python3"
  },
  "language_info": {
   "codemirror_mode": {
    "name": "ipython",
    "version": 3
   },
   "file_extension": ".py",
   "mimetype": "text/x-python",
   "name": "python",
   "nbconvert_exporter": "python",
   "pygments_lexer": "ipython3",
   "version": "3.8.8"
  }
 },
 "nbformat": 4,
 "nbformat_minor": 1
}
