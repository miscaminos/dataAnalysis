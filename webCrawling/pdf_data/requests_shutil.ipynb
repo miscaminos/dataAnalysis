{
 "cells": [
  {
   "cell_type": "markdown",
   "id": "c5c7afbc",
   "metadata": {},
   "source": [
    "## 실습4. pdf data 추출 - requests활용\n",
    "goole 사이트에서 특정 키워드로 검색한 후 pdf 파일로 제공되는 파일을 지정한 폴더로 다운로드 받는 크롤러 만든다.(지정한 폴더가 존재하지 않으면 생성하여 파일을 다운로드한다)"
   ]
  },
  {
   "cell_type": "code",
   "execution_count": null,
   "id": "a0f8d8bd",
   "metadata": {},
   "outputs": [],
   "source": [
    "#환경 setup - 필수 모듈, 라이브러리 로드\n",
    "from bs4 import BeautifulSoup\n",
    "from selenium import webdriver\n",
    "import time\n",
    "import os\n",
    "\n",
    "#검색단어, 검색건수, 검색결과 저장 디렉토리명\n",
    "search_word = \"빅데이터 분석pdf\"\n",
    "search_num = 10\n",
    "result_dir = ('C:\\\\Study\\\\Python\\\\notebook\\\\data3\\\\{}\\\\'.format(search_word))\n",
    "\n",
    "#저장할 디렉토리 생성\n",
    "if os.path.isdir(result_dir):\n",
    "    print('입력하신 경로가 존재하여  %s 폴더에 저장하겠습니다' %result_dir)\n",
    "else:\n",
    "    os.makedirs(result_dir)\n",
    "    print('입력하신 경로가 존재하지 않아 %s 폴더를 생성했습니다' %result_dir)\n",
    "\n",
    "#driver 생성 및 브라우져 열어서 검색 웹사이트 조회 및 검색단어 키인\n",
    "path = 'C:/Study/Python/datadown/chromedriver.exe'\n",
    "driver = webdriver.Chrome(path)\n",
    "\n",
    "url=\"https://www.google.com\"\n",
    "driver.get(url)\n",
    "time.sleep(2)    \n",
    "\n",
    "element = driver.find_element_by_name(\"q\")\n",
    "element.send_keys(search_word)\n",
    "element.send_keys(\"\\n\")\n",
    "\n",
    "html = driver.page_source\n",
    "soup = BeautifulSoup(html, 'html.parser')"
   ]
  },
  {
   "cell_type": "code",
   "execution_count": null,
   "id": "f72ad332",
   "metadata": {
    "scrolled": true
   },
   "outputs": [],
   "source": [
    "time.sleep(2)\n",
    "pdf_src = soup.select(\"div.yuRUbf > a\")\n",
    "pdf_src\n",
    "\n",
    "if search_num > len(pdf_src):\n",
    "    search_num = len(pdf_src)\n",
    "    \n",
    "print(search_num)\n",
    "#pdf_src"
   ]
  },
  {
   "cell_type": "code",
   "execution_count": null,
   "id": "d4cbc6bd",
   "metadata": {},
   "outputs": [],
   "source": [
    "import requests\n",
    "import shutil\n",
    "\n",
    "file_no =0\n",
    "pdf_src_list=[]\n",
    "os.chdir(result_dir)\n",
    "\n",
    "for i in pdf_src:\n",
    "    try:\n",
    "        pdf_src1 = i['href']\n",
    "        pdf_src_list.append(pdf_src1)\n",
    "    except Exception as e:\n",
    "        print(e)\n",
    "        \n",
    "print(len(pdf_src_list))\n",
    "pdf_src_list[:]"
   ]
  },
  {
   "cell_type": "code",
   "execution_count": null,
   "id": "118bc0a5",
   "metadata": {},
   "outputs": [],
   "source": [
    "for i in range(len(pdf_src_list)):\n",
    "    \n",
    "    file_no+=1\n",
    "    if i == search_num:\n",
    "        break\n",
    "    try:\n",
    "        res = requests.get(pdf_src_list[i], stream = True)\n",
    "        with open(str(file_no)+'.pdf','wb') as f:\n",
    "            res.raw.decode_content = True\n",
    "            shutil.copyfileobj(res.raw,f)\n",
    "        \n",
    "    except Exception as e:\n",
    "        print(e)\n",
    "        continue\n",
    "        \n",
    "    time.sleep(0.5)\n",
    "    print(f\"{file_no}번째 pdf 저장중입니다.=======================================\")\n",
    "\n",
    "\n",
    "print(\"=\"*80)\n",
    "print(f\"파일이 저장된 폴더명:{result_dir}\")\n",
    "\n",
    "driver.close()"
   ]
  },
  {
   "cell_type": "code",
   "execution_count": null,
   "id": "8cdae22e",
   "metadata": {},
   "outputs": [],
   "source": []
  }
 ],
 "metadata": {
  "kernelspec": {
   "display_name": "pydata",
   "language": "python",
   "name": "pydata"
  },
  "language_info": {
   "codemirror_mode": {
    "name": "ipython",
    "version": 3
   },
   "file_extension": ".py",
   "mimetype": "text/x-python",
   "name": "python",
   "nbconvert_exporter": "python",
   "pygments_lexer": "ipython3",
   "version": "3.7.10"
  }
 },
 "nbformat": 4,
 "nbformat_minor": 5
}
