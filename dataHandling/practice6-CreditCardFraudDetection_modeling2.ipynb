{
  "nbformat": 4,
  "nbformat_minor": 0,
  "metadata": {
    "colab": {
      "name": "CreditCardFraudDetection_modeling2.ipynb",
      "provenance": [],
      "collapsed_sections": []
    },
    "kernelspec": {
      "name": "python3",
      "display_name": "Python 3"
    },
    "language_info": {
      "name": "python"
    }
  },
  "cells": [
    {
      "cell_type": "markdown",
      "metadata": {
        "id": "iBLFrbGN5e7n"
      },
      "source": [
        "# Credit card fraud detection problem\n",
        "\n",
        "Kaggle dataset & problem description: https://www.kaggle.com/mlg-ulb/creditcardfraud"
      ]
    },
    {
      "cell_type": "markdown",
      "metadata": {
        "id": "cPiTFRgmTit8"
      },
      "source": [
        "## Dataset"
      ]
    },
    {
      "cell_type": "code",
      "metadata": {
        "colab": {
          "base_uri": "https://localhost:8080/"
        },
        "id": "JG81xaJ_qR_j",
        "outputId": "d5777c65-15e5-40ff-e367-fe93321da1c0"
      },
      "source": [
        "from google.colab import drive\n",
        "drive.mount('/content/gdrive/')"
      ],
      "execution_count": 1,
      "outputs": [
        {
          "output_type": "stream",
          "text": [
            "Mounted at /content/gdrive/\n"
          ],
          "name": "stdout"
        }
      ]
    },
    {
      "cell_type": "code",
      "metadata": {
        "id": "sYSYUuyDqjix"
      },
      "source": [
        "import pandas as pd\n",
        "import numpy as np"
      ],
      "execution_count": 2,
      "outputs": []
    },
    {
      "cell_type": "code",
      "metadata": {
        "id": "qH51EgDrsDz9"
      },
      "source": [
        "data_df = pd.read_csv('/content/gdrive/MyDrive/creditcard.csv')"
      ],
      "execution_count": 3,
      "outputs": []
    },
    {
      "cell_type": "markdown",
      "metadata": {
        "id": "ORvWBl1rVbeD"
      },
      "source": [
        "## Data preprocessing"
      ]
    },
    {
      "cell_type": "code",
      "metadata": {
        "id": "99jPjBlqC1BD"
      },
      "source": [
        "Q1 = data_df.quantile(0.25)\n",
        "Q3 = data_df.quantile(0.75)"
      ],
      "execution_count": 4,
      "outputs": []
    },
    {
      "cell_type": "code",
      "metadata": {
        "id": "rCi8pFg-bEI0"
      },
      "source": [
        "Q1 = Q1[1:-1]\n",
        "Q3 = Q3[1:-1]\n",
        "IQR = Q3 - Q1"
      ],
      "execution_count": 5,
      "outputs": []
    },
    {
      "cell_type": "code",
      "metadata": {
        "id": "XaVrR7yiZz0x"
      },
      "source": [
        "columns_list = data_df.columns[1:-1]\n",
        "for m in zip(columns_list, Q1, Q3, IQR):\n",
        "  data_df_o_iqr = data_df[(data_df[m[0]] > (m[1] - 1.5 * m[3])) & (data_df[m[0]] < (m[2] + 1.5 * m[3]))]"
      ],
      "execution_count": 7,
      "outputs": []
    },
    {
      "cell_type": "code",
      "metadata": {
        "id": "CLiDEEHlc3Rb"
      },
      "source": [
        "y_iqr = data_df_o_iqr[\"Class\"]\n",
        "X_iqr = data_df_o_iqr.copy().drop(\"Class\",axis=1)"
      ],
      "execution_count": 8,
      "outputs": []
    },
    {
      "cell_type": "code",
      "metadata": {
        "id": "BJynFhEve1AR"
      },
      "source": [
        "print('Original imbalanced dataset shape %s' % Counter(y_iqr))"
      ],
      "execution_count": null,
      "outputs": []
    },
    {
      "cell_type": "markdown",
      "metadata": {
        "id": "WpuIfyuDdiAb"
      },
      "source": [
        "### data balancing:\n",
        "\n",
        "#### ADASYN (Adaptive Synthetic Sampling Method for Imbalanced Data)"
      ]
    },
    {
      "cell_type": "code",
      "metadata": {
        "id": "APiAZVDldgUh"
      },
      "source": [
        "from imblearn.over_sampling import ADASYN\n",
        "from collections import Counter"
      ],
      "execution_count": 11,
      "outputs": []
    },
    {
      "cell_type": "code",
      "metadata": {
        "id": "ZySXtPLEdgjC"
      },
      "source": [
        "ada = ADASYN(random_state=42)\n",
        "X_iqr_ada, y_iqr_ada = ada.fit_resample(X_iqr, y_iqr)"
      ],
      "execution_count": null,
      "outputs": []
    },
    {
      "cell_type": "code",
      "metadata": {
        "colab": {
          "base_uri": "https://localhost:8080/"
        },
        "id": "EnQx-VfqfwTh",
        "outputId": "25e69701-d433-48fe-f1f8-b93bfdaf360d"
      },
      "source": [
        "print('Resampled dataset after ADASYN shape %s' % Counter(y_iqr_ada))"
      ],
      "execution_count": 13,
      "outputs": [
        {
          "output_type": "stream",
          "text": [
            "Resampled dataset after ADASYN shape Counter({0: 252502, 1: 252461})\n"
          ],
          "name": "stdout"
        }
      ]
    },
    {
      "cell_type": "code",
      "metadata": {
        "colab": {
          "base_uri": "https://localhost:8080/"
        },
        "id": "7CkmL6VigHtA",
        "outputId": "d00f1feb-7470-40f5-fd4f-bcc62563abc3"
      },
      "source": [
        "X_iqr_ada.shape"
      ],
      "execution_count": 15,
      "outputs": [
        {
          "output_type": "execute_result",
          "data": {
            "text/plain": [
              "(504963, 30)"
            ]
          },
          "metadata": {
            "tags": []
          },
          "execution_count": 15
        }
      ]
    },
    {
      "cell_type": "code",
      "metadata": {
        "colab": {
          "base_uri": "https://localhost:8080/"
        },
        "id": "A9avyIWagH0v",
        "outputId": "08300f2d-c0ef-4d34-fe1e-8d3029ecf2f3"
      },
      "source": [
        "y_iqr_ada.shape"
      ],
      "execution_count": 16,
      "outputs": [
        {
          "output_type": "execute_result",
          "data": {
            "text/plain": [
              "(504963,)"
            ]
          },
          "metadata": {
            "tags": []
          },
          "execution_count": 16
        }
      ]
    },
    {
      "cell_type": "markdown",
      "metadata": {
        "id": "uipu-qvlHYVn"
      },
      "source": [
        "#### sklearn의 model selection train_test_split\n",
        "\n",
        "shuffle=True설정 후 9:1로 split"
      ]
    },
    {
      "cell_type": "code",
      "metadata": {
        "id": "GgaAZBHZeaKg"
      },
      "source": [
        "from sklearn.model_selection import train_test_split\n",
        "\n",
        "X_train_iqr_ada, X_test_iqr_ada, y_train_iqr_ada, y_test_iqr_ada = train_test_split(X_iqr_ada, y_iqr_ada,\n",
        "    shuffle=True, random_state=42, test_size=0.1)"
      ],
      "execution_count": 17,
      "outputs": []
    },
    {
      "cell_type": "code",
      "metadata": {
        "colab": {
          "base_uri": "https://localhost:8080/"
        },
        "id": "sGU_yMIKG2bN",
        "outputId": "a54aad70-2c2c-4c5e-848f-d65be7560856"
      },
      "source": [
        "X_train_iqr_ada.shape"
      ],
      "execution_count": 18,
      "outputs": [
        {
          "output_type": "execute_result",
          "data": {
            "text/plain": [
              "(454466, 30)"
            ]
          },
          "metadata": {
            "tags": []
          },
          "execution_count": 18
        }
      ]
    },
    {
      "cell_type": "code",
      "metadata": {
        "colab": {
          "base_uri": "https://localhost:8080/"
        },
        "id": "ske5x1DZG2Q0",
        "outputId": "e3164f5b-b671-413c-a369-aff0b243108b"
      },
      "source": [
        "X_test_iqr_ada.shape"
      ],
      "execution_count": 19,
      "outputs": [
        {
          "output_type": "execute_result",
          "data": {
            "text/plain": [
              "(50497, 30)"
            ]
          },
          "metadata": {
            "tags": []
          },
          "execution_count": 19
        }
      ]
    },
    {
      "cell_type": "code",
      "metadata": {
        "colab": {
          "base_uri": "https://localhost:8080/"
        },
        "id": "uXKSIurLG2Gm",
        "outputId": "beb0a344-712b-4050-a83a-bda892733205"
      },
      "source": [
        "y_train_iqr_ada.shape"
      ],
      "execution_count": 20,
      "outputs": [
        {
          "output_type": "execute_result",
          "data": {
            "text/plain": [
              "(454466,)"
            ]
          },
          "metadata": {
            "tags": []
          },
          "execution_count": 20
        }
      ]
    },
    {
      "cell_type": "code",
      "metadata": {
        "colab": {
          "base_uri": "https://localhost:8080/"
        },
        "id": "vyPHSsrMG14o",
        "outputId": "d4e63e51-492d-4a14-c8cf-7cb1841b6ac5"
      },
      "source": [
        "y_test_iqr_ada.shape"
      ],
      "execution_count": 21,
      "outputs": [
        {
          "output_type": "execute_result",
          "data": {
            "text/plain": [
              "(50497,)"
            ]
          },
          "metadata": {
            "tags": []
          },
          "execution_count": 21
        }
      ]
    },
    {
      "cell_type": "markdown",
      "metadata": {
        "id": "CI4C5GEwHicx"
      },
      "source": [
        "## Modeling & Evaluation\n",
        "\n",
        "### 1. Logistic Regression"
      ]
    },
    {
      "cell_type": "code",
      "metadata": {
        "colab": {
          "base_uri": "https://localhost:8080/"
        },
        "id": "vHeKVTllhpze",
        "outputId": "a2c7b522-5307-476d-b71f-9e294cf79faf"
      },
      "source": [
        "from sklearn.linear_model import LogisticRegression\n",
        "log_reg = LogisticRegression(solver=\"lbfgs\", random_state=42)\n",
        "log_reg.fit(X_train_iqr_ada, y_train_iqr_ada)"
      ],
      "execution_count": 22,
      "outputs": [
        {
          "output_type": "execute_result",
          "data": {
            "text/plain": [
              "LogisticRegression(C=1.0, class_weight=None, dual=False, fit_intercept=True,\n",
              "                   intercept_scaling=1, l1_ratio=None, max_iter=100,\n",
              "                   multi_class='auto', n_jobs=None, penalty='l2',\n",
              "                   random_state=42, solver='lbfgs', tol=0.0001, verbose=0,\n",
              "                   warm_start=False)"
            ]
          },
          "metadata": {
            "tags": []
          },
          "execution_count": 22
        }
      ]
    },
    {
      "cell_type": "code",
      "metadata": {
        "colab": {
          "base_uri": "https://localhost:8080/"
        },
        "id": "YTXFJqfchuvA",
        "outputId": "aeaeb1d8-836d-451e-eccd-2bddc208e2ba"
      },
      "source": [
        "y_pred_proba = log_reg.predict_proba(X_test_iqr_ada)\n",
        "\n",
        "y_pred_proba"
      ],
      "execution_count": 23,
      "outputs": [
        {
          "output_type": "execute_result",
          "data": {
            "text/plain": [
              "array([[0.00000000e+00, 1.00000000e+00],\n",
              "       [3.92348279e-06, 9.99996077e-01],\n",
              "       [3.65552033e-12, 1.00000000e+00],\n",
              "       ...,\n",
              "       [9.93159641e-01, 6.84035933e-03],\n",
              "       [1.32544125e-08, 9.99999987e-01],\n",
              "       [2.62006162e-04, 9.99737994e-01]])"
            ]
          },
          "metadata": {
            "tags": []
          },
          "execution_count": 23
        }
      ]
    },
    {
      "cell_type": "code",
      "metadata": {
        "colab": {
          "base_uri": "https://localhost:8080/"
        },
        "id": "rh7rd_fxjOVY",
        "outputId": "1396e370-16e4-4466-da2c-21c1c0fc9cd8"
      },
      "source": [
        "y_pred = log_reg.predict(X_test_iqr_ada)\n",
        "\n",
        "y_pred"
      ],
      "execution_count": 26,
      "outputs": [
        {
          "output_type": "execute_result",
          "data": {
            "text/plain": [
              "array([1, 1, 1, ..., 0, 1, 1])"
            ]
          },
          "metadata": {
            "tags": []
          },
          "execution_count": 26
        }
      ]
    },
    {
      "cell_type": "code",
      "metadata": {
        "colab": {
          "base_uri": "https://localhost:8080/"
        },
        "id": "9sph4RYXkVQK",
        "outputId": "899bb6f5-ff17-434e-f0c8-0d8bd6af7e1c"
      },
      "source": [
        "np.sum(y_test_iqr_ada == y_pred) / len(y_test_iqr_ada) "
      ],
      "execution_count": 28,
      "outputs": [
        {
          "output_type": "execute_result",
          "data": {
            "text/plain": [
              "0.9733251480285957"
            ]
          },
          "metadata": {
            "tags": []
          },
          "execution_count": 28
        }
      ]
    },
    {
      "cell_type": "markdown",
      "metadata": {
        "id": "N5qXyAj2nU21"
      },
      "source": [
        "### 2. AdaBoosting"
      ]
    },
    {
      "cell_type": "code",
      "metadata": {
        "id": "yc2rNOWTmvOC"
      },
      "source": [
        "from sklearn.ensemble import AdaBoostClassifier\n",
        "from sklearn.tree import DecisionTreeClassifier\n",
        "\n",
        "ada_clf = AdaBoostClassifier(\n",
        "    DecisionTreeClassifier(max_depth=1), n_estimators=200,\n",
        "    algorithm=\"SAMME\", learning_rate=0.5, random_state=42)\n",
        "ada_clf.fit(X_train_iqr_ada, y_train_iqr_ada)"
      ],
      "execution_count": null,
      "outputs": []
    },
    {
      "cell_type": "code",
      "metadata": {
        "id": "fnUC3u7VmceJ"
      },
      "source": [
        "y_pred = ada_clf.predict(X_test_iqr_ada)\n",
        "np.sum(y_test_iqr_ada == y_pred) / len(y_test_iqr_ada) "
      ],
      "execution_count": null,
      "outputs": []
    },
    {
      "cell_type": "markdown",
      "metadata": {
        "id": "J5ge8-jCyM7V"
      },
      "source": [
        "### 3. XGBoost\n"
      ]
    },
    {
      "cell_type": "code",
      "metadata": {
        "colab": {
          "base_uri": "https://localhost:8080/"
        },
        "id": "_9Dvk3OjyQVw",
        "outputId": "9ccb3a34-63c1-4835-a60e-0f2877eeeffb"
      },
      "source": [
        "from sklearn.metrics import mean_squared_error\n",
        "try:\n",
        "    import xgboost\n",
        "except ImportError as ex:\n",
        "    print(\"에러: xgboost not installed.\")\n",
        "    xgboost = None\n",
        "\n",
        "if xgboost is not None:  \n",
        "    xgb_reg = xgboost.XGBRegressor(random_state=42)\n",
        "    xgb_reg.fit(X_train_iqr_ada, y_train_iqr_ada)\n",
        "    y_pred_xg = xgb_reg.predict(X_test_iqr_ada)\n",
        "    val_error_xg = mean_squared_error(y_test_iqr_ada, y_pred_xg) \n",
        "    print(\"Validation MSE:\", val_error_xg)"
      ],
      "execution_count": null,
      "outputs": [
        {
          "output_type": "stream",
          "text": [
            "[08:06:04] WARNING: /workspace/src/objective/regression_obj.cu:152: reg:linear is now deprecated in favor of reg:squarederror.\n",
            "Validation MSE: 0.013497367648783948\n"
          ],
          "name": "stdout"
        }
      ]
    },
    {
      "cell_type": "markdown",
      "metadata": {
        "id": "1sBLr63-28BQ"
      },
      "source": [
        "### 4. lightgbm"
      ]
    },
    {
      "cell_type": "code",
      "metadata": {
        "colab": {
          "base_uri": "https://localhost:8080/"
        },
        "id": "vv9E02fGyQvd",
        "outputId": "0baf6845-4eb4-4dd3-c064-7ad8a9617fea"
      },
      "source": [
        "from lightgbm import LGBMRegressor\n",
        "\n",
        "lgb_reg = LGBMRegressor(random_state=42)\n",
        "lgb_reg.fit(X_train_iqr_ada, y_train_iqr_ada)\n",
        "\n",
        "y_pred_lgbm = lgb_reg.predict(X_test_iqr_ada)\n",
        "val_error_lgbm = mean_squared_error(y_test_iqr_ada, y_pred_lgbm)\n",
        "val_error_lgbm"
      ],
      "execution_count": null,
      "outputs": [
        {
          "output_type": "execute_result",
          "data": {
            "text/plain": [
              "0.0024182977222669388"
            ]
          },
          "metadata": {
            "tags": []
          },
          "execution_count": 56
        }
      ]
    }
  ]
}