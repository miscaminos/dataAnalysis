{
 "cells": [
  {
   "cell_type": "markdown",
   "id": "c98322fa",
   "metadata": {},
   "source": [
    "# Credit card fraud detection problem\n",
    "\n",
    "Kaggle dataset & problem description: https://www.kaggle.com/mlg-ulb/creditcardfraud"
   ]
  },
  {
   "cell_type": "markdown",
   "id": "32fb4dd7",
   "metadata": {},
   "source": [
    "## I. Prepare Dataset\n",
    "\n",
    "1. get original data set **data_df**\n",
    "2. filter more important features (based on correlation coefficient with 'Amount' and 'Class' **data_df_s**"
   ]
  },
  {
   "cell_type": "code",
   "execution_count": 1,
   "id": "b139801b",
   "metadata": {},
   "outputs": [
    {
     "name": "stdout",
     "output_type": "stream",
     "text": [
      "<class 'pandas.core.frame.DataFrame'>\n",
      "RangeIndex: 284807 entries, 0 to 284806\n",
      "Data columns (total 31 columns):\n",
      " #   Column  Non-Null Count   Dtype  \n",
      "---  ------  --------------   -----  \n",
      " 0   Time    284807 non-null  float64\n",
      " 1   V1      284807 non-null  float64\n",
      " 2   V2      284807 non-null  float64\n",
      " 3   V3      284807 non-null  float64\n",
      " 4   V4      284807 non-null  float64\n",
      " 5   V5      284807 non-null  float64\n",
      " 6   V6      284807 non-null  float64\n",
      " 7   V7      284807 non-null  float64\n",
      " 8   V8      284807 non-null  float64\n",
      " 9   V9      284807 non-null  float64\n",
      " 10  V10     284807 non-null  float64\n",
      " 11  V11     284807 non-null  float64\n",
      " 12  V12     284807 non-null  float64\n",
      " 13  V13     284807 non-null  float64\n",
      " 14  V14     284807 non-null  float64\n",
      " 15  V15     284807 non-null  float64\n",
      " 16  V16     284807 non-null  float64\n",
      " 17  V17     284807 non-null  float64\n",
      " 18  V18     284807 non-null  float64\n",
      " 19  V19     284807 non-null  float64\n",
      " 20  V20     284807 non-null  float64\n",
      " 21  V21     284807 non-null  float64\n",
      " 22  V22     284807 non-null  float64\n",
      " 23  V23     284807 non-null  float64\n",
      " 24  V24     284807 non-null  float64\n",
      " 25  V25     284807 non-null  float64\n",
      " 26  V26     284807 non-null  float64\n",
      " 27  V27     284807 non-null  float64\n",
      " 28  V28     284807 non-null  float64\n",
      " 29  Amount  284807 non-null  float64\n",
      " 30  Class   284807 non-null  int64  \n",
      "dtypes: float64(30), int64(1)\n",
      "memory usage: 67.4 MB\n"
     ]
    }
   ],
   "source": [
    "import pandas as pd\n",
    "import numpy as np\n",
    "\n",
    "data_df = pd.read_csv('../data/creditcard.csv')\n",
    "\n",
    "data_df.info()"
   ]
  },
  {
   "cell_type": "code",
   "execution_count": 2,
   "id": "f546530f",
   "metadata": {},
   "outputs": [
    {
     "data": {
      "text/html": [
       "<div>\n",
       "<style scoped>\n",
       "    .dataframe tbody tr th:only-of-type {\n",
       "        vertical-align: middle;\n",
       "    }\n",
       "\n",
       "    .dataframe tbody tr th {\n",
       "        vertical-align: top;\n",
       "    }\n",
       "\n",
       "    .dataframe thead th {\n",
       "        text-align: right;\n",
       "    }\n",
       "</style>\n",
       "<table border=\"1\" class=\"dataframe\">\n",
       "  <thead>\n",
       "    <tr style=\"text-align: right;\">\n",
       "      <th></th>\n",
       "      <th>Time</th>\n",
       "      <th>V1</th>\n",
       "      <th>V2</th>\n",
       "      <th>V3</th>\n",
       "      <th>V4</th>\n",
       "      <th>V5</th>\n",
       "      <th>V6</th>\n",
       "      <th>V7</th>\n",
       "      <th>V8</th>\n",
       "      <th>V9</th>\n",
       "      <th>...</th>\n",
       "      <th>V21</th>\n",
       "      <th>V22</th>\n",
       "      <th>V23</th>\n",
       "      <th>V24</th>\n",
       "      <th>V25</th>\n",
       "      <th>V26</th>\n",
       "      <th>V27</th>\n",
       "      <th>V28</th>\n",
       "      <th>Amount</th>\n",
       "      <th>Class</th>\n",
       "    </tr>\n",
       "  </thead>\n",
       "  <tbody>\n",
       "    <tr>\n",
       "      <th>count</th>\n",
       "      <td>284807.000000</td>\n",
       "      <td>2.848070e+05</td>\n",
       "      <td>2.848070e+05</td>\n",
       "      <td>2.848070e+05</td>\n",
       "      <td>2.848070e+05</td>\n",
       "      <td>2.848070e+05</td>\n",
       "      <td>2.848070e+05</td>\n",
       "      <td>2.848070e+05</td>\n",
       "      <td>2.848070e+05</td>\n",
       "      <td>2.848070e+05</td>\n",
       "      <td>...</td>\n",
       "      <td>2.848070e+05</td>\n",
       "      <td>2.848070e+05</td>\n",
       "      <td>2.848070e+05</td>\n",
       "      <td>2.848070e+05</td>\n",
       "      <td>2.848070e+05</td>\n",
       "      <td>2.848070e+05</td>\n",
       "      <td>2.848070e+05</td>\n",
       "      <td>2.848070e+05</td>\n",
       "      <td>284807.000000</td>\n",
       "      <td>284807.000000</td>\n",
       "    </tr>\n",
       "    <tr>\n",
       "      <th>mean</th>\n",
       "      <td>94813.859575</td>\n",
       "      <td>3.918649e-15</td>\n",
       "      <td>5.682686e-16</td>\n",
       "      <td>-8.761736e-15</td>\n",
       "      <td>2.811118e-15</td>\n",
       "      <td>-1.552103e-15</td>\n",
       "      <td>2.040130e-15</td>\n",
       "      <td>-1.698953e-15</td>\n",
       "      <td>-1.893285e-16</td>\n",
       "      <td>-3.147640e-15</td>\n",
       "      <td>...</td>\n",
       "      <td>1.473120e-16</td>\n",
       "      <td>8.042109e-16</td>\n",
       "      <td>5.282512e-16</td>\n",
       "      <td>4.456271e-15</td>\n",
       "      <td>1.426896e-15</td>\n",
       "      <td>1.701640e-15</td>\n",
       "      <td>-3.662252e-16</td>\n",
       "      <td>-1.217809e-16</td>\n",
       "      <td>88.349619</td>\n",
       "      <td>0.001727</td>\n",
       "    </tr>\n",
       "    <tr>\n",
       "      <th>std</th>\n",
       "      <td>47488.145955</td>\n",
       "      <td>1.958696e+00</td>\n",
       "      <td>1.651309e+00</td>\n",
       "      <td>1.516255e+00</td>\n",
       "      <td>1.415869e+00</td>\n",
       "      <td>1.380247e+00</td>\n",
       "      <td>1.332271e+00</td>\n",
       "      <td>1.237094e+00</td>\n",
       "      <td>1.194353e+00</td>\n",
       "      <td>1.098632e+00</td>\n",
       "      <td>...</td>\n",
       "      <td>7.345240e-01</td>\n",
       "      <td>7.257016e-01</td>\n",
       "      <td>6.244603e-01</td>\n",
       "      <td>6.056471e-01</td>\n",
       "      <td>5.212781e-01</td>\n",
       "      <td>4.822270e-01</td>\n",
       "      <td>4.036325e-01</td>\n",
       "      <td>3.300833e-01</td>\n",
       "      <td>250.120109</td>\n",
       "      <td>0.041527</td>\n",
       "    </tr>\n",
       "    <tr>\n",
       "      <th>min</th>\n",
       "      <td>0.000000</td>\n",
       "      <td>-5.640751e+01</td>\n",
       "      <td>-7.271573e+01</td>\n",
       "      <td>-4.832559e+01</td>\n",
       "      <td>-5.683171e+00</td>\n",
       "      <td>-1.137433e+02</td>\n",
       "      <td>-2.616051e+01</td>\n",
       "      <td>-4.355724e+01</td>\n",
       "      <td>-7.321672e+01</td>\n",
       "      <td>-1.343407e+01</td>\n",
       "      <td>...</td>\n",
       "      <td>-3.483038e+01</td>\n",
       "      <td>-1.093314e+01</td>\n",
       "      <td>-4.480774e+01</td>\n",
       "      <td>-2.836627e+00</td>\n",
       "      <td>-1.029540e+01</td>\n",
       "      <td>-2.604551e+00</td>\n",
       "      <td>-2.256568e+01</td>\n",
       "      <td>-1.543008e+01</td>\n",
       "      <td>0.000000</td>\n",
       "      <td>0.000000</td>\n",
       "    </tr>\n",
       "    <tr>\n",
       "      <th>25%</th>\n",
       "      <td>54201.500000</td>\n",
       "      <td>-9.203734e-01</td>\n",
       "      <td>-5.985499e-01</td>\n",
       "      <td>-8.903648e-01</td>\n",
       "      <td>-8.486401e-01</td>\n",
       "      <td>-6.915971e-01</td>\n",
       "      <td>-7.682956e-01</td>\n",
       "      <td>-5.540759e-01</td>\n",
       "      <td>-2.086297e-01</td>\n",
       "      <td>-6.430976e-01</td>\n",
       "      <td>...</td>\n",
       "      <td>-2.283949e-01</td>\n",
       "      <td>-5.423504e-01</td>\n",
       "      <td>-1.618463e-01</td>\n",
       "      <td>-3.545861e-01</td>\n",
       "      <td>-3.171451e-01</td>\n",
       "      <td>-3.269839e-01</td>\n",
       "      <td>-7.083953e-02</td>\n",
       "      <td>-5.295979e-02</td>\n",
       "      <td>5.600000</td>\n",
       "      <td>0.000000</td>\n",
       "    </tr>\n",
       "    <tr>\n",
       "      <th>50%</th>\n",
       "      <td>84692.000000</td>\n",
       "      <td>1.810880e-02</td>\n",
       "      <td>6.548556e-02</td>\n",
       "      <td>1.798463e-01</td>\n",
       "      <td>-1.984653e-02</td>\n",
       "      <td>-5.433583e-02</td>\n",
       "      <td>-2.741871e-01</td>\n",
       "      <td>4.010308e-02</td>\n",
       "      <td>2.235804e-02</td>\n",
       "      <td>-5.142873e-02</td>\n",
       "      <td>...</td>\n",
       "      <td>-2.945017e-02</td>\n",
       "      <td>6.781943e-03</td>\n",
       "      <td>-1.119293e-02</td>\n",
       "      <td>4.097606e-02</td>\n",
       "      <td>1.659350e-02</td>\n",
       "      <td>-5.213911e-02</td>\n",
       "      <td>1.342146e-03</td>\n",
       "      <td>1.124383e-02</td>\n",
       "      <td>22.000000</td>\n",
       "      <td>0.000000</td>\n",
       "    </tr>\n",
       "    <tr>\n",
       "      <th>75%</th>\n",
       "      <td>139320.500000</td>\n",
       "      <td>1.315642e+00</td>\n",
       "      <td>8.037239e-01</td>\n",
       "      <td>1.027196e+00</td>\n",
       "      <td>7.433413e-01</td>\n",
       "      <td>6.119264e-01</td>\n",
       "      <td>3.985649e-01</td>\n",
       "      <td>5.704361e-01</td>\n",
       "      <td>3.273459e-01</td>\n",
       "      <td>5.971390e-01</td>\n",
       "      <td>...</td>\n",
       "      <td>1.863772e-01</td>\n",
       "      <td>5.285536e-01</td>\n",
       "      <td>1.476421e-01</td>\n",
       "      <td>4.395266e-01</td>\n",
       "      <td>3.507156e-01</td>\n",
       "      <td>2.409522e-01</td>\n",
       "      <td>9.104512e-02</td>\n",
       "      <td>7.827995e-02</td>\n",
       "      <td>77.165000</td>\n",
       "      <td>0.000000</td>\n",
       "    </tr>\n",
       "    <tr>\n",
       "      <th>max</th>\n",
       "      <td>172792.000000</td>\n",
       "      <td>2.454930e+00</td>\n",
       "      <td>2.205773e+01</td>\n",
       "      <td>9.382558e+00</td>\n",
       "      <td>1.687534e+01</td>\n",
       "      <td>3.480167e+01</td>\n",
       "      <td>7.330163e+01</td>\n",
       "      <td>1.205895e+02</td>\n",
       "      <td>2.000721e+01</td>\n",
       "      <td>1.559499e+01</td>\n",
       "      <td>...</td>\n",
       "      <td>2.720284e+01</td>\n",
       "      <td>1.050309e+01</td>\n",
       "      <td>2.252841e+01</td>\n",
       "      <td>4.584549e+00</td>\n",
       "      <td>7.519589e+00</td>\n",
       "      <td>3.517346e+00</td>\n",
       "      <td>3.161220e+01</td>\n",
       "      <td>3.384781e+01</td>\n",
       "      <td>25691.160000</td>\n",
       "      <td>1.000000</td>\n",
       "    </tr>\n",
       "  </tbody>\n",
       "</table>\n",
       "<p>8 rows × 31 columns</p>\n",
       "</div>"
      ],
      "text/plain": [
       "                Time            V1            V2            V3            V4  \\\n",
       "count  284807.000000  2.848070e+05  2.848070e+05  2.848070e+05  2.848070e+05   \n",
       "mean    94813.859575  3.918649e-15  5.682686e-16 -8.761736e-15  2.811118e-15   \n",
       "std     47488.145955  1.958696e+00  1.651309e+00  1.516255e+00  1.415869e+00   \n",
       "min         0.000000 -5.640751e+01 -7.271573e+01 -4.832559e+01 -5.683171e+00   \n",
       "25%     54201.500000 -9.203734e-01 -5.985499e-01 -8.903648e-01 -8.486401e-01   \n",
       "50%     84692.000000  1.810880e-02  6.548556e-02  1.798463e-01 -1.984653e-02   \n",
       "75%    139320.500000  1.315642e+00  8.037239e-01  1.027196e+00  7.433413e-01   \n",
       "max    172792.000000  2.454930e+00  2.205773e+01  9.382558e+00  1.687534e+01   \n",
       "\n",
       "                 V5            V6            V7            V8            V9  \\\n",
       "count  2.848070e+05  2.848070e+05  2.848070e+05  2.848070e+05  2.848070e+05   \n",
       "mean  -1.552103e-15  2.040130e-15 -1.698953e-15 -1.893285e-16 -3.147640e-15   \n",
       "std    1.380247e+00  1.332271e+00  1.237094e+00  1.194353e+00  1.098632e+00   \n",
       "min   -1.137433e+02 -2.616051e+01 -4.355724e+01 -7.321672e+01 -1.343407e+01   \n",
       "25%   -6.915971e-01 -7.682956e-01 -5.540759e-01 -2.086297e-01 -6.430976e-01   \n",
       "50%   -5.433583e-02 -2.741871e-01  4.010308e-02  2.235804e-02 -5.142873e-02   \n",
       "75%    6.119264e-01  3.985649e-01  5.704361e-01  3.273459e-01  5.971390e-01   \n",
       "max    3.480167e+01  7.330163e+01  1.205895e+02  2.000721e+01  1.559499e+01   \n",
       "\n",
       "       ...           V21           V22           V23           V24  \\\n",
       "count  ...  2.848070e+05  2.848070e+05  2.848070e+05  2.848070e+05   \n",
       "mean   ...  1.473120e-16  8.042109e-16  5.282512e-16  4.456271e-15   \n",
       "std    ...  7.345240e-01  7.257016e-01  6.244603e-01  6.056471e-01   \n",
       "min    ... -3.483038e+01 -1.093314e+01 -4.480774e+01 -2.836627e+00   \n",
       "25%    ... -2.283949e-01 -5.423504e-01 -1.618463e-01 -3.545861e-01   \n",
       "50%    ... -2.945017e-02  6.781943e-03 -1.119293e-02  4.097606e-02   \n",
       "75%    ...  1.863772e-01  5.285536e-01  1.476421e-01  4.395266e-01   \n",
       "max    ...  2.720284e+01  1.050309e+01  2.252841e+01  4.584549e+00   \n",
       "\n",
       "                V25           V26           V27           V28         Amount  \\\n",
       "count  2.848070e+05  2.848070e+05  2.848070e+05  2.848070e+05  284807.000000   \n",
       "mean   1.426896e-15  1.701640e-15 -3.662252e-16 -1.217809e-16      88.349619   \n",
       "std    5.212781e-01  4.822270e-01  4.036325e-01  3.300833e-01     250.120109   \n",
       "min   -1.029540e+01 -2.604551e+00 -2.256568e+01 -1.543008e+01       0.000000   \n",
       "25%   -3.171451e-01 -3.269839e-01 -7.083953e-02 -5.295979e-02       5.600000   \n",
       "50%    1.659350e-02 -5.213911e-02  1.342146e-03  1.124383e-02      22.000000   \n",
       "75%    3.507156e-01  2.409522e-01  9.104512e-02  7.827995e-02      77.165000   \n",
       "max    7.519589e+00  3.517346e+00  3.161220e+01  3.384781e+01   25691.160000   \n",
       "\n",
       "               Class  \n",
       "count  284807.000000  \n",
       "mean        0.001727  \n",
       "std         0.041527  \n",
       "min         0.000000  \n",
       "25%         0.000000  \n",
       "50%         0.000000  \n",
       "75%         0.000000  \n",
       "max         1.000000  \n",
       "\n",
       "[8 rows x 31 columns]"
      ]
     },
     "execution_count": 2,
     "metadata": {},
     "output_type": "execute_result"
    }
   ],
   "source": [
    "data_df.describe()"
   ]
  },
  {
   "cell_type": "code",
   "execution_count": 3,
   "id": "d66f40cc",
   "metadata": {},
   "outputs": [],
   "source": [
    "selected_variables=[]\n",
    "\n",
    "for col in data_df.columns[:-1]:\n",
    "    if data_df[\"Class\"].corr(data_df[col]) > 0.2 or data_df[\"Class\"].corr(data_df[col]) < -0.2: \n",
    "        selected_variables.append(col)\n",
    "for col in data_df.columns[:-2]:\n",
    "    if data_df[\"Amount\"].corr(data_df[col]) > 0.2 or data_df[\"Amount\"].corr(data_df[col]) < -0.2: \n",
    "        selected_variables.append(col)"
   ]
  },
  {
   "cell_type": "code",
   "execution_count": 4,
   "id": "11b4f1e5",
   "metadata": {},
   "outputs": [
    {
     "data": {
      "text/plain": [
       "['V10', 'V12', 'V14', 'V17', 'V1', 'V2', 'V3', 'V5', 'V6', 'V7', 'V20']"
      ]
     },
     "execution_count": 4,
     "metadata": {},
     "output_type": "execute_result"
    }
   ],
   "source": [
    "selected_variables"
   ]
  },
  {
   "cell_type": "code",
   "execution_count": 5,
   "id": "38fe334a",
   "metadata": {},
   "outputs": [],
   "source": [
    "data_df_s = data_df[['Time','V1', 'V2', 'V3', 'V5', 'V6', 'V7','V10', 'V12', 'V14', 'V17', 'V20','Class']]"
   ]
  },
  {
   "cell_type": "code",
   "execution_count": 6,
   "id": "af2b521e",
   "metadata": {},
   "outputs": [
    {
     "name": "stdout",
     "output_type": "stream",
     "text": [
      "<class 'pandas.core.frame.DataFrame'>\n",
      "RangeIndex: 284807 entries, 0 to 284806\n",
      "Data columns (total 13 columns):\n",
      " #   Column  Non-Null Count   Dtype  \n",
      "---  ------  --------------   -----  \n",
      " 0   Time    284807 non-null  float64\n",
      " 1   V1      284807 non-null  float64\n",
      " 2   V2      284807 non-null  float64\n",
      " 3   V3      284807 non-null  float64\n",
      " 4   V5      284807 non-null  float64\n",
      " 5   V6      284807 non-null  float64\n",
      " 6   V7      284807 non-null  float64\n",
      " 7   V10     284807 non-null  float64\n",
      " 8   V12     284807 non-null  float64\n",
      " 9   V14     284807 non-null  float64\n",
      " 10  V17     284807 non-null  float64\n",
      " 11  V20     284807 non-null  float64\n",
      " 12  Class   284807 non-null  int64  \n",
      "dtypes: float64(12), int64(1)\n",
      "memory usage: 28.2 MB\n"
     ]
    }
   ],
   "source": [
    "data_df_s.info()"
   ]
  },
  {
   "cell_type": "markdown",
   "id": "72385f14",
   "metadata": {},
   "source": [
    "## II. Data Preprocessing\n",
    "\n",
    "The given dataset's variables have been through PCA process already. Therefore additional scaling is not processed.\n",
    "\n",
    "### -Outliers treatment\n",
    "\n",
    "#### 1. z-score treatment"
   ]
  },
  {
   "cell_type": "code",
   "execution_count": 7,
   "id": "fd39815f",
   "metadata": {},
   "outputs": [],
   "source": [
    "from scipy import stats"
   ]
  },
  {
   "cell_type": "code",
   "execution_count": 8,
   "id": "b1529f57",
   "metadata": {},
   "outputs": [],
   "source": [
    "def trim_outlier_z_score(dataframe, threshold):\n",
    "    data_df_z = dataframe.copy().drop(\"Class\",axis=1)\n",
    "    z = np.abs(stats.zscore(data_df_z))\n",
    "    data_df_o_z_trim = data_df_z[(z < threshold).all(axis=1)]\n",
    "    data_df_o_z = data_df_o_z_trim.merge(data_df[\"Class\"],\n",
    "                                         left_index=True, right_index=True)\n",
    "    return data_df_o_z"
   ]
  },
  {
   "cell_type": "code",
   "execution_count": 9,
   "id": "d383111f",
   "metadata": {},
   "outputs": [],
   "source": [
    "data_df_z = trim_outlier_z_score(data_df,3)"
   ]
  },
  {
   "cell_type": "code",
   "execution_count": 10,
   "id": "e5793b40",
   "metadata": {},
   "outputs": [],
   "source": [
    "data_df_s_z = trim_outlier_z_score(data_df_s,3)"
   ]
  },
  {
   "cell_type": "markdown",
   "id": "c353ff57",
   "metadata": {},
   "source": [
    "#### 2. use normal distribution 3-sigma boundary"
   ]
  },
  {
   "cell_type": "code",
   "execution_count": 11,
   "id": "2d7d7930",
   "metadata": {},
   "outputs": [],
   "source": [
    "def trim_outlier_sigma_boundary(dataframe):\n",
    "    threshold_h = []\n",
    "    threshold_l = []\n",
    "    for c in dataframe.columns[:-1]:\n",
    "        threshold_h.append(dataframe[c].mean() + 3*dataframe[c].std())\n",
    "        threshold_l.append(dataframe[c].mean() - 3*dataframe[c].std())\n",
    "    for m in zip(dataframe.columns[:-1], threshold_h, threshold_l):\n",
    "        data_df_o_sigma = \\\n",
    "            dataframe[(dataframe[m[0]] < m[1]) & (dataframe[m[0]] > m[2])]\n",
    "    return data_df_o_sigma"
   ]
  },
  {
   "cell_type": "code",
   "execution_count": 12,
   "id": "961d49fc",
   "metadata": {},
   "outputs": [],
   "source": [
    "data_df_sigma = trim_outlier_sigma_boundary(data_df)"
   ]
  },
  {
   "cell_type": "code",
   "execution_count": 14,
   "id": "db004145",
   "metadata": {},
   "outputs": [],
   "source": [
    "data_df_s_sigma = trim_outlier_sigma_boundary(data_df_s)"
   ]
  },
  {
   "cell_type": "markdown",
   "id": "1f0ca357",
   "metadata": {},
   "source": [
    "#### 3. use IQR score trimming"
   ]
  },
  {
   "cell_type": "code",
   "execution_count": 15,
   "id": "2f00d1f4",
   "metadata": {},
   "outputs": [],
   "source": [
    "def trim_outlier_iqr(dataframe):\n",
    "    Q1 = data_df.quantile(0.25)\n",
    "    Q3 = data_df.quantile(0.75)\n",
    "    Q1 = Q1[:-1];    Q3 = Q3[:-1];    IQR = Q3 - Q1\n",
    "    for m in zip(dataframe.columns[:-1], Q1, Q3, IQR):\n",
    "        data_df_o_iqr = \\\n",
    "        data_df[(data_df[m[0]] > (m[1] - 1.5 * m[3])) & (data_df[m[0]] < (m[2] + 1.5 * m[3]))]\n",
    "    return data_df_o_iqr"
   ]
  },
  {
   "cell_type": "code",
   "execution_count": 16,
   "id": "8956aa9a",
   "metadata": {},
   "outputs": [],
   "source": [
    "data_df_iqr = trim_outlier_iqr(data_df)"
   ]
  },
  {
   "cell_type": "code",
   "execution_count": 17,
   "id": "471dfca6",
   "metadata": {},
   "outputs": [],
   "source": [
    "data_df_s_iqr = trim_outlier_iqr(data_df_s)"
   ]
  },
  {
   "cell_type": "markdown",
   "id": "1959218b",
   "metadata": {},
   "source": [
    "### -Data scaling\n",
    "\n",
    "#### input-target dataset split & standard normalization"
   ]
  },
  {
   "cell_type": "code",
   "execution_count": 18,
   "id": "81c2cdff",
   "metadata": {},
   "outputs": [],
   "source": [
    "from sklearn.preprocessing import StandardScaler\n",
    "\n",
    "def input_target_split_scaling(dataframe):\n",
    "    y = dataframe[\"Class\"]\n",
    "    X = dataframe.copy().drop(\"Class\",axis=1)\n",
    "    scaler = StandardScaler()\n",
    "    X_scaled = scaler.fit_transform(X)\n",
    "    return X_scaled, y"
   ]
  },
  {
   "cell_type": "markdown",
   "id": "899a5ebf",
   "metadata": {},
   "source": [
    "### -Data balancing\n",
    "#### 1. SMOTE(Synthetic Minority Oversampling Technique) & RandomUnderSampling\n",
    "\n",
    "Use RandomUnderSampler for undersampling of majority class \n",
    "and use SMOTE for oversampling of minority class samples"
   ]
  },
  {
   "cell_type": "code",
   "execution_count": 19,
   "id": "75efb666",
   "metadata": {},
   "outputs": [],
   "source": [
    "from imblearn.over_sampling import SMOTE\n",
    "from imblearn.under_sampling import RandomUnderSampler\n",
    "from imblearn.pipeline import Pipeline\n",
    "from collections import Counter"
   ]
  },
  {
   "cell_type": "code",
   "execution_count": 20,
   "id": "4e0cb0bd",
   "metadata": {},
   "outputs": [],
   "source": [
    "def SMOTE_RandomUnderSampling(input_data, target_data):\n",
    "    counter = Counter(target_data)\n",
    "    print(\"before balancing: \",counter)\n",
    "\n",
    "    over = SMOTE(sampling_strategy=0.1)\n",
    "    under = RandomUnderSampler(sampling_strategy=0.8)\n",
    "    steps = [('o', over), ('u', under)]\n",
    "    pipeline = Pipeline(steps=steps)\n",
    "    X_balanced, y_balanced = pipeline.fit_resample(input_data, target_data)\n",
    "    \n",
    "    counter = Counter(y_balanced)\n",
    "    print(\"after balancing: \", counter)\n",
    "    return X_balanced, y_balanced"
   ]
  },
  {
   "cell_type": "markdown",
   "id": "ab9e3ed8",
   "metadata": {},
   "source": [
    "#### 2. ADASYN (Adaptive Synthetic Sampling Method for Imbalanced Data)\n"
   ]
  },
  {
   "cell_type": "code",
   "execution_count": 21,
   "id": "ad909bdf",
   "metadata": {},
   "outputs": [],
   "source": [
    "from imblearn.over_sampling import ADASYN\n",
    "from collections import Counter"
   ]
  },
  {
   "cell_type": "code",
   "execution_count": 22,
   "id": "8e641d1c",
   "metadata": {},
   "outputs": [],
   "source": [
    "def ADASYN_balance(input_data, target_data):\n",
    "    counter = Counter(target_data)\n",
    "    print(\"before balancing: \",counter)\n",
    "    \n",
    "    ada = ADASYN(random_state=42)\n",
    "    X_ada, y_ada = ada.fit_resample(input_data, target_data)\n",
    "    \n",
    "    counter = Counter(y_ada)\n",
    "    print(\"after balancing: \", counter)\n",
    "    return X_ada, y_ada"
   ]
  },
  {
   "cell_type": "markdown",
   "id": "63991bb3",
   "metadata": {},
   "source": [
    "### -train_test_split\n",
    "\n",
    "sklearn의 model selection train_test split - shuffle=True설정 후 9:1로 split"
   ]
  },
  {
   "cell_type": "code",
   "execution_count": 23,
   "id": "8bd61aff",
   "metadata": {},
   "outputs": [],
   "source": [
    "from sklearn.model_selection import train_test_split"
   ]
  },
  {
   "cell_type": "markdown",
   "id": "fbbe027c",
   "metadata": {},
   "source": [
    "### Getting training data\n",
    "#### case1: outliers not trimmed "
   ]
  },
  {
   "cell_type": "code",
   "execution_count": 24,
   "id": "4415555f",
   "metadata": {
    "scrolled": true
   },
   "outputs": [
    {
     "name": "stdout",
     "output_type": "stream",
     "text": [
      "before balancing:  Counter({0: 284315, 1: 492})\n",
      "after balancing:  Counter({0: 35538, 1: 28431})\n"
     ]
    }
   ],
   "source": [
    "#outlier-none & balancing-SMOTE:\n",
    "\n",
    "X, y = input_target_split_scaling(data_df)\n",
    "\n",
    "X_b1, y_b1 = SMOTE_RandomUnderSampling(X, y)"
   ]
  },
  {
   "cell_type": "code",
   "execution_count": 25,
   "id": "ff9595e0",
   "metadata": {},
   "outputs": [],
   "source": [
    "#SMOTE\n",
    "X_b1_train, X_b1_test, y_b1_train, y_b1_test = \\\n",
    "train_test_split(X_b1, y_b1, shuffle=True, random_state=42, test_size=0.1)"
   ]
  },
  {
   "cell_type": "code",
   "execution_count": 26,
   "id": "55d494f2",
   "metadata": {},
   "outputs": [
    {
     "name": "stdout",
     "output_type": "stream",
     "text": [
      "(57572, 30)\n",
      "(6397, 30)\n",
      "(57572,)\n",
      "(6397,)\n"
     ]
    }
   ],
   "source": [
    "print(X_b1_train.shape)\n",
    "print(X_b1_test.shape)\n",
    "print(y_b1_train.shape)\n",
    "print(y_b1_test.shape)"
   ]
  },
  {
   "cell_type": "code",
   "execution_count": 27,
   "id": "a4eebc9c",
   "metadata": {},
   "outputs": [
    {
     "name": "stdout",
     "output_type": "stream",
     "text": [
      "before balancing:  Counter({0: 284315, 1: 492})\n",
      "after balancing:  Counter({0: 35538, 1: 28431})\n"
     ]
    }
   ],
   "source": [
    "#outlier-none & balancing-SMOTE & selected:\n",
    "\n",
    "X_s, y_s = input_target_split_scaling(data_df_s)\n",
    "\n",
    "X_b_s1, y_b_s1 = SMOTE_RandomUnderSampling(X_s, y_s)"
   ]
  },
  {
   "cell_type": "code",
   "execution_count": 28,
   "id": "3c2953a1",
   "metadata": {},
   "outputs": [],
   "source": [
    "#SMOTE - selected variables\n",
    "X_b_s1_train, X_b_s1_test, y_b_s1_train, y_b_s1_test = \\\n",
    "train_test_split(X_b_s1, y_b_s1, shuffle=True, random_state=42, test_size=0.1)"
   ]
  },
  {
   "cell_type": "code",
   "execution_count": 29,
   "id": "0cb101cf",
   "metadata": {},
   "outputs": [
    {
     "name": "stdout",
     "output_type": "stream",
     "text": [
      "(57572, 12)\n",
      "(6397, 12)\n",
      "(57572,)\n",
      "(6397,)\n"
     ]
    }
   ],
   "source": [
    "print(X_b_s1_train.shape)\n",
    "print(X_b_s1_test.shape)\n",
    "print(y_b_s1_train.shape)\n",
    "print(y_b_s1_test.shape)"
   ]
  },
  {
   "cell_type": "code",
   "execution_count": 30,
   "id": "699051d7",
   "metadata": {},
   "outputs": [
    {
     "name": "stdout",
     "output_type": "stream",
     "text": [
      "before balancing:  Counter({0: 284315, 1: 492})\n",
      "after balancing:  Counter({0: 284315, 1: 284313})\n"
     ]
    }
   ],
   "source": [
    "#outlier-none & balancing-ADASYN:\n",
    "\n",
    "X, y = input_target_split_scaling(data_df)\n",
    "\n",
    "X_b, y_b = ADASYN_balance(X, y)"
   ]
  },
  {
   "cell_type": "code",
   "execution_count": 31,
   "id": "7b51c839",
   "metadata": {},
   "outputs": [],
   "source": [
    "#ADASYN\n",
    "X_b_train, X_b_test, y_b_train, y_b_test = \\\n",
    "train_test_split(X_b, y_b, shuffle=True, random_state=42, test_size=0.1)"
   ]
  },
  {
   "cell_type": "code",
   "execution_count": 32,
   "id": "2289389b",
   "metadata": {},
   "outputs": [
    {
     "name": "stdout",
     "output_type": "stream",
     "text": [
      "(511765, 30)\n",
      "(56863, 30)\n",
      "(511765,)\n",
      "(56863,)\n"
     ]
    }
   ],
   "source": [
    "print(X_b_train.shape)\n",
    "print(X_b_test.shape)\n",
    "print(y_b_train.shape)\n",
    "print(y_b_test.shape)"
   ]
  },
  {
   "cell_type": "code",
   "execution_count": 33,
   "id": "8da20173",
   "metadata": {},
   "outputs": [
    {
     "name": "stdout",
     "output_type": "stream",
     "text": [
      "before balancing:  Counter({0: 284315, 1: 492})\n",
      "after balancing:  Counter({1: 284356, 0: 284315})\n"
     ]
    }
   ],
   "source": [
    "#outlier-none & balancing-ADASYN & selected:\n",
    "\n",
    "X_s, y_s = input_target_split_scaling(data_df_s)\n",
    "\n",
    "X_b_s, y_b_s = ADASYN_balance(X_s, y_s)"
   ]
  },
  {
   "cell_type": "code",
   "execution_count": 34,
   "id": "6d96034e",
   "metadata": {},
   "outputs": [],
   "source": [
    "#ADASYN - selected variables\n",
    "X_b_s_train, X_b_s_test, y_b_s_train, y_b_s_test = \\\n",
    "train_test_split(X_b_s, y_b_s, shuffle=True, random_state=42, test_size=0.1)"
   ]
  },
  {
   "cell_type": "code",
   "execution_count": 35,
   "id": "4c60e61d",
   "metadata": {},
   "outputs": [
    {
     "name": "stdout",
     "output_type": "stream",
     "text": [
      "(511803, 12)\n",
      "(56868, 12)\n",
      "(511803,)\n",
      "(56868,)\n"
     ]
    }
   ],
   "source": [
    "print(X_b_s_train.shape)\n",
    "print(X_b_s_test.shape)\n",
    "print(y_b_s_train.shape)\n",
    "print(y_b_s_test.shape)"
   ]
  },
  {
   "cell_type": "markdown",
   "id": "5fd7879c",
   "metadata": {},
   "source": [
    "#### case2: outliers trimmed by z-score"
   ]
  },
  {
   "cell_type": "code",
   "execution_count": 36,
   "id": "2d897e61",
   "metadata": {
    "scrolled": true
   },
   "outputs": [
    {
     "name": "stdout",
     "output_type": "stream",
     "text": [
      "before balancing:  Counter({0: 246943, 1: 48})\n",
      "after balancing:  Counter({0: 30867, 1: 24694})\n"
     ]
    }
   ],
   "source": [
    "#outlier-z-score & balancing-SMOTE:\n",
    "\n",
    "X_z, y_z = input_target_split_scaling(data_df_z)\n",
    "\n",
    "X_b_z1, y_b_z1 = SMOTE_RandomUnderSampling(X_z, y_z)"
   ]
  },
  {
   "cell_type": "code",
   "execution_count": 37,
   "id": "28036d8a",
   "metadata": {},
   "outputs": [],
   "source": [
    "#SMOTE\n",
    "X_b_z1_train, X_b_z1_test, y_b_z1_train, y_b_z1_test = \\\n",
    "train_test_split(X_b_z1, y_b_z1, shuffle=True, random_state=42, test_size=0.1)"
   ]
  },
  {
   "cell_type": "code",
   "execution_count": 38,
   "id": "a823c9d0",
   "metadata": {},
   "outputs": [
    {
     "name": "stdout",
     "output_type": "stream",
     "text": [
      "(50004, 30)\n",
      "(5557, 30)\n",
      "(50004,)\n",
      "(5557,)\n"
     ]
    }
   ],
   "source": [
    "print(X_b_z1_train.shape)\n",
    "print(X_b_z1_test.shape)\n",
    "print(y_b_z1_train.shape)\n",
    "print(y_b_z1_test.shape)"
   ]
  },
  {
   "cell_type": "code",
   "execution_count": 39,
   "id": "808db2d3",
   "metadata": {},
   "outputs": [
    {
     "name": "stdout",
     "output_type": "stream",
     "text": [
      "before balancing:  Counter({0: 265924, 1: 58})\n",
      "after balancing:  Counter({0: 33240, 1: 26592})\n"
     ]
    }
   ],
   "source": [
    "#outlier-z-score & balancing-SMOTE & selected:\n",
    "\n",
    "X_s_z, y_s_z = input_target_split_scaling(data_df_s_z)\n",
    "\n",
    "X_b_s_z1, y_b_s_z1 = SMOTE_RandomUnderSampling(X_s_z, y_s_z)"
   ]
  },
  {
   "cell_type": "code",
   "execution_count": 40,
   "id": "d86b1d1d",
   "metadata": {},
   "outputs": [],
   "source": [
    "#SMOTE - selected variables\n",
    "X_b_s_z1_train, X_b_s_z1_test, y_b_s_z1_train, y_b_s_z1_test = \\\n",
    "train_test_split(X_b_s_z1, y_b_s_z1, shuffle=True, random_state=42, test_size=0.1)"
   ]
  },
  {
   "cell_type": "code",
   "execution_count": 41,
   "id": "a7aa33d4",
   "metadata": {},
   "outputs": [
    {
     "name": "stdout",
     "output_type": "stream",
     "text": [
      "(53848, 12)\n",
      "(5984, 12)\n",
      "(53848,)\n",
      "(5984,)\n"
     ]
    }
   ],
   "source": [
    "print(X_b_s_z1_train.shape)\n",
    "print(X_b_s_z1_test.shape)\n",
    "print(y_b_s_z1_train.shape)\n",
    "print(y_b_s_z1_test.shape)"
   ]
  },
  {
   "cell_type": "code",
   "execution_count": 42,
   "id": "2aeae814",
   "metadata": {},
   "outputs": [
    {
     "name": "stdout",
     "output_type": "stream",
     "text": [
      "before balancing:  Counter({0: 246943, 1: 48})\n",
      "after balancing:  Counter({1: 246944, 0: 246943})\n"
     ]
    }
   ],
   "source": [
    "#outlier-z-score & balancing-ADASYN:\n",
    "\n",
    "X_z, y_z = input_target_split_scaling(data_df_z)\n",
    "\n",
    "X_b_z, y_b_z = ADASYN_balance(X_z, y_z )"
   ]
  },
  {
   "cell_type": "code",
   "execution_count": 43,
   "id": "3e1b9fbc",
   "metadata": {},
   "outputs": [],
   "source": [
    "#ADASYN\n",
    "X_b_z_train, X_b_z_test, y_b_z_train, y_b_z_test = \\\n",
    "train_test_split(X_b_z, y_b_z, shuffle=True, random_state=42, test_size=0.1)"
   ]
  },
  {
   "cell_type": "code",
   "execution_count": 44,
   "id": "375747d1",
   "metadata": {},
   "outputs": [
    {
     "name": "stdout",
     "output_type": "stream",
     "text": [
      "(444498, 30)\n",
      "(49389, 30)\n",
      "(444498,)\n",
      "(49389,)\n"
     ]
    }
   ],
   "source": [
    "print(X_b_z_train.shape)\n",
    "print(X_b_z_test.shape)\n",
    "print(y_b_z_train.shape)\n",
    "print(y_b_z_test.shape)"
   ]
  },
  {
   "cell_type": "code",
   "execution_count": 45,
   "id": "7e562d8e",
   "metadata": {},
   "outputs": [
    {
     "name": "stdout",
     "output_type": "stream",
     "text": [
      "before balancing:  Counter({0: 265924, 1: 58})\n",
      "after balancing:  Counter({0: 265924, 1: 265911})\n"
     ]
    }
   ],
   "source": [
    "#outlier-z-score & balancing-ADASYN & selected:\n",
    "\n",
    "X_s_z, y_s_z = input_target_split_scaling(data_df_s_z)\n",
    "\n",
    "X_b_s_z, y_b_s_z = ADASYN_balance(X_s_z, y_s_z)"
   ]
  },
  {
   "cell_type": "code",
   "execution_count": 46,
   "id": "ba2faf28",
   "metadata": {},
   "outputs": [],
   "source": [
    "#ADASYN - selected variables\n",
    "X_b_s_z_train, X_b_s_z_test, y_b_s_z_train, y_b_s_z_test = \\\n",
    "train_test_split(X_b_s_z, y_b_s_z, shuffle=True, random_state=42, test_size=0.1)"
   ]
  },
  {
   "cell_type": "code",
   "execution_count": 47,
   "id": "f0e70c1a",
   "metadata": {},
   "outputs": [
    {
     "name": "stdout",
     "output_type": "stream",
     "text": [
      "(478651, 12)\n",
      "(53184, 12)\n",
      "(478651,)\n",
      "(53184,)\n"
     ]
    }
   ],
   "source": [
    "print(X_b_s_z_train.shape)\n",
    "print(X_b_s_z_test.shape)\n",
    "print(y_b_s_z_train.shape)\n",
    "print(y_b_s_z_test.shape)"
   ]
  },
  {
   "cell_type": "markdown",
   "id": "e7d1ef4d",
   "metadata": {},
   "source": [
    "#### case3. outliers trimmed by 3-sigma boundary"
   ]
  },
  {
   "cell_type": "code",
   "execution_count": 48,
   "id": "d1d5aeb7",
   "metadata": {},
   "outputs": [
    {
     "name": "stdout",
     "output_type": "stream",
     "text": [
      "before balancing:  Counter({0: 280250, 1: 481})\n",
      "after balancing:  Counter({0: 35031, 1: 28025})\n"
     ]
    }
   ],
   "source": [
    "#outlier-3sigma & balancing-SMOTE:\n",
    "\n",
    "X_sigma, y_sigma = input_target_split_scaling(data_df_sigma)\n",
    "\n",
    "X_b_sigma1, y_b_sigma1 = SMOTE_RandomUnderSampling(X_sigma, y_sigma)"
   ]
  },
  {
   "cell_type": "code",
   "execution_count": 49,
   "id": "92ad33d1",
   "metadata": {},
   "outputs": [],
   "source": [
    "#SMOTE\n",
    "X_b_sigma1_train, X_b_sigma1_test, y_b_sigma1_train, y_b_sigma1_test = \\\n",
    "train_test_split(X_b_sigma1, y_b_sigma1, shuffle=True, random_state=42, test_size=0.1)"
   ]
  },
  {
   "cell_type": "code",
   "execution_count": 50,
   "id": "5fe8de88",
   "metadata": {},
   "outputs": [
    {
     "name": "stdout",
     "output_type": "stream",
     "text": [
      "(56750, 30)\n",
      "(6306, 30)\n",
      "(56750,)\n",
      "(6306,)\n"
     ]
    }
   ],
   "source": [
    "print(X_b_sigma1_train.shape)\n",
    "print(X_b_sigma1_test.shape)\n",
    "print(y_b_sigma1_train.shape)\n",
    "print(y_b_sigma1_test.shape)"
   ]
  },
  {
   "cell_type": "code",
   "execution_count": 51,
   "id": "5dc8bc9e",
   "metadata": {},
   "outputs": [
    {
     "name": "stdout",
     "output_type": "stream",
     "text": [
      "before balancing:  Counter({0: 279703, 1: 459})\n",
      "after balancing:  Counter({0: 34962, 1: 27970})\n"
     ]
    }
   ],
   "source": [
    "#outlier-3sigma & balancing-SMOTE & selected:\n",
    "\n",
    "X_s_sigma, y_s_sigma = input_target_split_scaling(data_df_s_sigma)\n",
    "\n",
    "X_b_s_sigma1, y_b_s_sigma1 = SMOTE_RandomUnderSampling(X_s_sigma, y_s_sigma)"
   ]
  },
  {
   "cell_type": "code",
   "execution_count": 52,
   "id": "d7e957eb",
   "metadata": {},
   "outputs": [],
   "source": [
    "#SMOTE - selected variables\n",
    "X_b_s_sigma1_train, X_b_s_sigma1_test, y_b_s_sigma1_train, y_b_s_sigma1_test = \\\n",
    "train_test_split(X_b_s_sigma1, y_b_s_sigma1, shuffle=True, random_state=42, test_size=0.1)"
   ]
  },
  {
   "cell_type": "code",
   "execution_count": 53,
   "id": "f132598f",
   "metadata": {},
   "outputs": [
    {
     "name": "stdout",
     "output_type": "stream",
     "text": [
      "(56638, 12)\n",
      "(6294, 12)\n",
      "(56638,)\n",
      "(6294,)\n"
     ]
    }
   ],
   "source": [
    "print(X_b_s_sigma1_train.shape)\n",
    "print(X_b_s_sigma1_test.shape)\n",
    "print(y_b_s_sigma1_train.shape)\n",
    "print(y_b_s_sigma1_test.shape)"
   ]
  },
  {
   "cell_type": "code",
   "execution_count": 54,
   "id": "e5c48531",
   "metadata": {},
   "outputs": [
    {
     "name": "stdout",
     "output_type": "stream",
     "text": [
      "before balancing:  Counter({0: 280250, 1: 481})\n",
      "after balancing:  Counter({0: 280250, 1: 280228})\n"
     ]
    }
   ],
   "source": [
    "#outlier-sigma & balancing-ADASYN:\n",
    "\n",
    "X_sigma, y_sigma = input_target_split_scaling(data_df_sigma)\n",
    "\n",
    "X_b_sigma, y_b_sigma = ADASYN_balance(X_sigma, y_sigma)"
   ]
  },
  {
   "cell_type": "code",
   "execution_count": 55,
   "id": "85e4e7b7",
   "metadata": {},
   "outputs": [],
   "source": [
    "#ADASYN\n",
    "X_b_sigma_train, X_b_sigma_test, y_b_sigma_train, y_b_sigma_test = \\\n",
    "train_test_split(X_b_sigma, y_b_sigma, shuffle=True, random_state=42, test_size=0.1)"
   ]
  },
  {
   "cell_type": "code",
   "execution_count": 56,
   "id": "d21466a3",
   "metadata": {},
   "outputs": [
    {
     "name": "stdout",
     "output_type": "stream",
     "text": [
      "(504430, 30)\n",
      "(56048, 30)\n",
      "(504430,)\n",
      "(56048,)\n"
     ]
    }
   ],
   "source": [
    "print(X_b_sigma_train.shape)\n",
    "print(X_b_sigma_test.shape)\n",
    "print(y_b_sigma_train.shape)\n",
    "print(y_b_sigma_test.shape)"
   ]
  },
  {
   "cell_type": "code",
   "execution_count": 57,
   "id": "f24cd201",
   "metadata": {},
   "outputs": [
    {
     "name": "stdout",
     "output_type": "stream",
     "text": [
      "before balancing:  Counter({0: 279703, 1: 459})\n",
      "after balancing:  Counter({1: 279741, 0: 279703})\n"
     ]
    }
   ],
   "source": [
    "#outlier-sigma & balancing-ADASYN & selected:\n",
    "\n",
    "X_s_sigma, y_s_sigma = input_target_split_scaling(data_df_s_sigma)\n",
    "\n",
    "X_b_s_sigma, y_b_s_sigma = ADASYN_balance(X_s_sigma, y_s_sigma)"
   ]
  },
  {
   "cell_type": "code",
   "execution_count": 58,
   "id": "3e625778",
   "metadata": {},
   "outputs": [],
   "source": [
    "#ADASYN - selected variables\n",
    "X_b_s_sigma_train, X_b_s_sigma_test, y_b_s_sigma_train, y_b_s_sigma_test = \\\n",
    "train_test_split(X_b_s_sigma, y_b_s_sigma, shuffle=True, random_state=42, test_size=0.1)"
   ]
  },
  {
   "cell_type": "code",
   "execution_count": 59,
   "id": "e509a9f1",
   "metadata": {},
   "outputs": [
    {
     "name": "stdout",
     "output_type": "stream",
     "text": [
      "(503499, 12)\n",
      "(55945, 12)\n",
      "(503499,)\n",
      "(55945,)\n"
     ]
    }
   ],
   "source": [
    "print(X_b_s_sigma_train.shape)\n",
    "print(X_b_s_sigma_test.shape)\n",
    "print(y_b_s_sigma_train.shape)\n",
    "print(y_b_s_sigma_test.shape)"
   ]
  },
  {
   "cell_type": "markdown",
   "id": "1fc8f38e",
   "metadata": {},
   "source": [
    "#### case4. outliers trimmed based on IQR"
   ]
  },
  {
   "cell_type": "code",
   "execution_count": 60,
   "id": "8ba1a06c",
   "metadata": {},
   "outputs": [
    {
     "name": "stdout",
     "output_type": "stream",
     "text": [
      "before balancing:  Counter({0: 252502, 1: 401})\n",
      "after balancing:  Counter({0: 31562, 1: 25250})\n"
     ]
    }
   ],
   "source": [
    "#outlier-iqr & balancing-SMOTE:\n",
    "\n",
    "X_iqr, y_iqr = input_target_split_scaling(data_df_iqr)\n",
    "\n",
    "X_b_iqr1, y_b_iqr1 = SMOTE_RandomUnderSampling(X_iqr, y_iqr)"
   ]
  },
  {
   "cell_type": "code",
   "execution_count": 61,
   "id": "fd163bd0",
   "metadata": {},
   "outputs": [],
   "source": [
    "#SMOTE\n",
    "X_b_iqr1_train, X_b_iqr1_test, y_b_iqr1_train, y_b_iqr1_test = \\\n",
    "train_test_split(X_b_iqr1, y_b_iqr1, shuffle=True, random_state=42, test_size=0.1)"
   ]
  },
  {
   "cell_type": "code",
   "execution_count": 62,
   "id": "8afb8f7c",
   "metadata": {},
   "outputs": [
    {
     "name": "stdout",
     "output_type": "stream",
     "text": [
      "(51130, 30)\n",
      "(5682, 30)\n",
      "(51130,)\n",
      "(5682,)\n"
     ]
    }
   ],
   "source": [
    "print(X_b_iqr1_train.shape)\n",
    "print(X_b_iqr1_test.shape)\n",
    "print(y_b_iqr1_train.shape)\n",
    "print(y_b_iqr1_test.shape)"
   ]
  },
  {
   "cell_type": "code",
   "execution_count": 63,
   "id": "b8652ee5",
   "metadata": {},
   "outputs": [
    {
     "name": "stdout",
     "output_type": "stream",
     "text": [
      "before balancing:  Counter({0: 281564, 1: 472})\n",
      "after balancing:  Counter({0: 35195, 1: 28156})\n"
     ]
    }
   ],
   "source": [
    "#outlier-iqr & balancing-SMOTE & selected:\n",
    "\n",
    "X_s_iqr, y_s_iqr = input_target_split_scaling(data_df_s_iqr)\n",
    "\n",
    "X_b_s_iqr1, y_b_s_iqr1 = SMOTE_RandomUnderSampling(X_s_iqr, y_s_iqr)"
   ]
  },
  {
   "cell_type": "code",
   "execution_count": 64,
   "id": "4741b340",
   "metadata": {},
   "outputs": [],
   "source": [
    "#SMOTE - selected variables\n",
    "X_b_s_iqr1_train, X_b_s_iqr1_test, y_b_s_iqr1_train, y_b_s_iqr1_test = \\\n",
    "train_test_split(X_b_s_iqr1, y_b_s_iqr1, shuffle=True, random_state=42, test_size=0.1)"
   ]
  },
  {
   "cell_type": "code",
   "execution_count": 65,
   "id": "1512fb64",
   "metadata": {},
   "outputs": [
    {
     "name": "stdout",
     "output_type": "stream",
     "text": [
      "(57015, 30)\n",
      "(6336, 30)\n",
      "(57015,)\n",
      "(6336,)\n"
     ]
    }
   ],
   "source": [
    "print(X_b_s_iqr1_train.shape)\n",
    "print(X_b_s_iqr1_test.shape)\n",
    "print(y_b_s_iqr1_train.shape)\n",
    "print(y_b_s_iqr1_test.shape)"
   ]
  },
  {
   "cell_type": "code",
   "execution_count": 66,
   "id": "912a353f",
   "metadata": {},
   "outputs": [
    {
     "name": "stdout",
     "output_type": "stream",
     "text": [
      "before balancing:  Counter({0: 252502, 1: 401})\n",
      "after balancing:  Counter({1: 252529, 0: 252502})\n"
     ]
    }
   ],
   "source": [
    "#outlier-iqr & balancing-ADASYN:\n",
    "\n",
    "X_iqr, y_iqr = input_target_split_scaling(data_df_iqr)\n",
    "\n",
    "X_b_iqr, y_b_iqr = ADASYN_balance(X_iqr, y_iqr)"
   ]
  },
  {
   "cell_type": "code",
   "execution_count": 67,
   "id": "f8592b4e",
   "metadata": {},
   "outputs": [],
   "source": [
    "#ADASYN\n",
    "X_b_iqr_train, X_b_iqr_test, y_b_iqr_train, y_b_iqr_test = \\\n",
    "train_test_split(X_b_iqr, y_b_iqr, shuffle=True, random_state=42, test_size=0.1)"
   ]
  },
  {
   "cell_type": "code",
   "execution_count": 68,
   "id": "28db915a",
   "metadata": {},
   "outputs": [
    {
     "name": "stdout",
     "output_type": "stream",
     "text": [
      "(454527, 30)\n",
      "(50504, 30)\n",
      "(454527,)\n",
      "(50504,)\n"
     ]
    }
   ],
   "source": [
    "print(X_b_iqr_train.shape)\n",
    "print(X_b_iqr_test.shape)\n",
    "print(y_b_iqr_train.shape)\n",
    "print(y_b_iqr_test.shape)"
   ]
  },
  {
   "cell_type": "code",
   "execution_count": 69,
   "id": "c109cbdc",
   "metadata": {},
   "outputs": [
    {
     "name": "stdout",
     "output_type": "stream",
     "text": [
      "before balancing:  Counter({0: 281564, 1: 472})\n",
      "after balancing:  Counter({1: 281612, 0: 281564})\n"
     ]
    }
   ],
   "source": [
    "#outlier-iqr & balancing-ADASYN & selected:\n",
    "\n",
    "X_s_iqr, y_s_iqr = input_target_split_scaling(data_df_s_iqr)\n",
    "\n",
    "X_b_s_iqr, y_b_s_iqr = ADASYN_balance(X_s_iqr, y_s_iqr)"
   ]
  },
  {
   "cell_type": "code",
   "execution_count": 70,
   "id": "7fcac3fb",
   "metadata": {},
   "outputs": [],
   "source": [
    "#ADASYN- selected variables\n",
    "X_b_s_iqr_train, X_b_s_iqr_test, y_b_s_iqr_train, y_b_s_iqr_test = \\\n",
    "train_test_split(X_b_s_iqr, y_b_s_iqr, shuffle=True, random_state=42, test_size=0.1)"
   ]
  },
  {
   "cell_type": "code",
   "execution_count": 71,
   "id": "f890abc4",
   "metadata": {},
   "outputs": [
    {
     "name": "stdout",
     "output_type": "stream",
     "text": [
      "(506858, 30)\n",
      "(56318, 30)\n",
      "(506858,)\n",
      "(56318,)\n"
     ]
    }
   ],
   "source": [
    "print(X_b_s_iqr_train.shape)\n",
    "print(X_b_s_iqr_test.shape)\n",
    "print(y_b_s_iqr_train.shape)\n",
    "print(y_b_s_iqr_test.shape)"
   ]
  },
  {
   "cell_type": "markdown",
   "id": "da6f60ae",
   "metadata": {},
   "source": [
    "## III. Modeling & Evaluation\n",
    "\n",
    "### 1. SGDClassifier"
   ]
  },
  {
   "cell_type": "code",
   "execution_count": null,
   "id": "d1dc4079",
   "metadata": {},
   "outputs": [],
   "source": [
    "from sklearn.linear_model import SGDClassifier\n",
    "from sklearn.model_selection import cross_val_score\n",
    "\n",
    "from sklearn.metrics import confusion_matrix \n",
    "from sklearn.model_selection import cross_val_predict\n",
    "from sklearn.metrics import precision_score, recall_score, f1_score\n",
    "\n",
    "sgd_clf = SGDClassifier(max_iter=5000, tol=1e-3, random_state=42)\n",
    "sgd_clf.fit(X_b_train, y_b_train)\n",
    "cross_val_score(sgd_clf, X_b_train, y_b_train, cv=3, scoring=\"accuracy\")"
   ]
  },
  {
   "cell_type": "code",
   "execution_count": null,
   "id": "8b7be04a",
   "metadata": {},
   "outputs": [],
   "source": [
    "sgd_clf_s = SGDClassifier(max_iter=5000, tol=1e-3, random_state=42)\n",
    "sgd_clf_s.fit(X_b_s_train, y_b_s_train)\n",
    "cross_val_score(sgd_clf_s, X_b_s_train, y_b_s_train, cv=3, scoring=\"accuracy\")"
   ]
  },
  {
   "cell_type": "code",
   "execution_count": null,
   "id": "ec59ff54",
   "metadata": {},
   "outputs": [],
   "source": [
    "y_pred = cross_val_predict(sgd_clf, X_b_test, y_b_test, cv=3)\n",
    "\n",
    "#confusion matrix\n",
    "cm = confusion_matrix(y_b_test, y_pred)\n",
    "\n",
    "#정밀도\n",
    "#TP/(FP+TP) FP가 큰 경우라서 정밀도가 낮음\n",
    "precision = precision_score(y_b_test, y_pred)\n",
    "\n",
    "#재현율\n",
    "#TP/(FN+TP)\n",
    "recall = recall_score(y_b_test, y_pred)\n",
    "\n",
    "#f1_score\n",
    "f1score = f1_score(y_b_test, y_pred)\n",
    "\n",
    "print(cm)\n",
    "print(precision)\n",
    "print(recall)\n",
    "print(f1score)"
   ]
  },
  {
   "cell_type": "code",
   "execution_count": null,
   "id": "85866dc0",
   "metadata": {},
   "outputs": [],
   "source": [
    "y_s_pred = cross_val_predict(sgd_clf_s, X_b_s_test, y_b_s_test, cv=3)\n",
    "\n",
    "#confusion matrix\n",
    "cm_s = confusion_matrix(y_b_s_test, y_s_pred)\n",
    "\n",
    "#정밀도\n",
    "#TP/(FP+TP) FP가 큰 경우라서 정밀도가 낮음\n",
    "precision_s = precision_score(y_b_s_test, y_s_pred)\n",
    "\n",
    "#재현율\n",
    "#TP/(FN+TP)\n",
    "recall_s = recall_score(y_b_s_test, y_s_pred)\n",
    "\n",
    "#f1_score\n",
    "f1score_s = f1_score(y_b_s_test, y_s_pred)\n",
    "\n",
    "print(cm_s)\n",
    "print(precision_s)\n",
    "print(recall_s)\n",
    "print(f1score_s)"
   ]
  },
  {
   "cell_type": "code",
   "execution_count": null,
   "id": "0571147b",
   "metadata": {},
   "outputs": [],
   "source": [
    "sgd_clf = SGDClassifier(max_iter=5000, tol=1e-3, random_state=42)\n",
    "sgd_clf.fit(X_b1_train, y_b1_train)\n",
    "cross_val_score(sgd_clf, X_b1_train, y_b1_train, cv=3, scoring=\"accuracy\")\n",
    "y_pred = cross_val_predict(sgd_clf, X_b1_test, y_b1_test, cv=3)\n",
    "\n",
    "#confusion matrix\n",
    "cm = confusion_matrix(y_b1_test, y_pred)\n",
    "\n",
    "#정밀도\n",
    "#TP/(FP+TP) FP가 큰 경우라서 정밀도가 낮음\n",
    "precision = precision_score(y_b1_test, y_pred)\n",
    "\n",
    "#재현율\n",
    "#TP/(FN+TP)\n",
    "recall = recall_score(y_b1_test, y_pred)\n",
    "\n",
    "#f1_score\n",
    "f1score = f1_score(y_b1_test, y_pred)\n",
    "\n",
    "print(cm)\n",
    "print(precision)\n",
    "print(recall)\n",
    "print(f1score)"
   ]
  },
  {
   "cell_type": "code",
   "execution_count": null,
   "id": "d936f5a3",
   "metadata": {},
   "outputs": [],
   "source": [
    "sgd_clf_s = SGDClassifier(max_iter=5000, tol=1e-3, random_state=42)\n",
    "sgd_clf_s.fit(X_b_s1_train, y_b_s1_train)\n",
    "cross_val_score(sgd_clf_s, X_b_s1_train, y_b_s1_train, cv=3, scoring=\"accuracy\")\n",
    "y_s_pred = cross_val_predict(sgd_clf_s, X_b_s1_test, y_b_s1_test, cv=3)\n",
    "\n",
    "#confusion matrix\n",
    "cm_s = confusion_matrix(y_b_s1_test, y_s_pred)\n",
    "\n",
    "#정밀도\n",
    "#TP/(FP+TP) FP가 큰 경우라서 정밀도가 낮음\n",
    "precision_s = precision_score(y_b_s1_test, y_s_pred)\n",
    "\n",
    "#재현율\n",
    "#TP/(FN+TP)\n",
    "recall_s = recall_score(y_b_s1_test, y_s_pred)\n",
    "\n",
    "#f1_score\n",
    "f1score_s = f1_score(y_b_s1_test, y_s_pred)\n",
    "\n",
    "print(cm_s)\n",
    "print(precision_s)\n",
    "print(recall_s)\n",
    "print(f1score_s)"
   ]
  },
  {
   "cell_type": "markdown",
   "id": "63777e49",
   "metadata": {},
   "source": [
    "### 2. Logistic Regression"
   ]
  },
  {
   "cell_type": "code",
   "execution_count": 76,
   "id": "afe8e055",
   "metadata": {},
   "outputs": [],
   "source": [
    "from sklearn.linear_model import LogisticRegression\n",
    "\n",
    "from sklearn.model_selection import StratifiedKFold\n",
    "from sklearn.model_selection import GridSearchCV\n",
    "\n",
    "from sklearn.metrics import confusion_matrix\n",
    "from sklearn.metrics import accuracy_score"
   ]
  },
  {
   "cell_type": "code",
   "execution_count": 77,
   "id": "ba8aad8f",
   "metadata": {},
   "outputs": [],
   "source": [
    "def logistic_regression(input_train, input_test, target_train, target_test):\n",
    "    log_reg = LogisticRegression(solver=\"lbfgs\", random_state=42, max_iter=1000)\n",
    "    log_reg.fit(input_train, target_train)\n",
    "    \n",
    "    y_cross_pred = cross_val_predict(log_reg, input_test, target_test, cv=3)\n",
    "    cm = confusion_matrix(target_test, y_cross_pred)\n",
    "    \n",
    "    return cm"
   ]
  },
  {
   "cell_type": "code",
   "execution_count": 86,
   "id": "d811f4d4",
   "metadata": {},
   "outputs": [],
   "source": [
    "def logistic_regression_tuned(input_train, input_test, target_train, target_test):\n",
    "    param_grid = [{'penalty' : ['none', 'l2']},\n",
    "                  {'penalty' : ['elasticnet'], 'l1_ratio' : [0.5,0.25,0.75], 'solver' : ['saga']},\n",
    "                  {'penalty' : ['l1'], 'solver' : ['saga']}]\n",
    "    cross_validation = StratifiedKFold(n_splits=5)\n",
    "    \n",
    "    log_reg = LogisticRegression(random_state=42, max_iter = 1000)\n",
    "    log_reg_grid = GridSearchCV(log_reg, param_grid, cv=cross_validation, scoring='accuracy')\n",
    "    log_reg_grid.fit(input_train, target_train)\n",
    "    \n",
    "    result = pd.DataFrame(log_reg_grid.cv_results_)\n",
    "    print(result)\n",
    "    \n",
    "    log_reg_model = log_reg_grid.best_estimator_\n",
    "    y_pred = log_reg_model.predict(input_test)\n",
    "    cm = confusion_matrix(target_test, y_pred)\n",
    "    \n",
    "    return cm"
   ]
  },
  {
   "cell_type": "code",
   "execution_count": 79,
   "id": "7ca4fa6b",
   "metadata": {},
   "outputs": [],
   "source": [
    "def evaluation_score(cm):\n",
    "    accuracy = (cm[0,0] + cm[1,1]) / (cm[0,0]+cm[1,0]+cm[0,1]+cm[1,1])\n",
    "    error_rate = 1-accuracy\n",
    "    specificity = cm[1,1] / (cm[0,1] + cm[1,1])\n",
    "    recall = cm[0,0] / (cm[0,0] + cm[1,0])\n",
    "    precision = cm[0,0] / (cm[0,0] + cm[0,1])\n",
    "    f1_score = 2 * (precision*recall) / (precision+recall)\n",
    "    \n",
    "    score_array = np.array([round(accuracy,6), round(error_rate,6), round(specificity,6), round(recall,6), round(precision,6), round(f1_score,6)])\n",
    "    \n",
    "    return score_array"
   ]
  },
  {
   "cell_type": "code",
   "execution_count": null,
   "id": "6e5f8b11",
   "metadata": {},
   "outputs": [],
   "source": []
  }
 ],
 "metadata": {
  "kernelspec": {
   "display_name": "miniprojects",
   "language": "python",
   "name": "miniprojects"
  },
  "language_info": {
   "codemirror_mode": {
    "name": "ipython",
    "version": 3
   },
   "file_extension": ".py",
   "mimetype": "text/x-python",
   "name": "python",
   "nbconvert_exporter": "python",
   "pygments_lexer": "ipython3",
   "version": "3.9.5"
  }
 },
 "nbformat": 4,
 "nbformat_minor": 5
}
