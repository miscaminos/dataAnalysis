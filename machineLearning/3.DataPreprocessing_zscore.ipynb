{
 "cells": [
  {
   "cell_type": "markdown",
   "id": "0dc75bf9",
   "metadata": {},
   "source": [
    "## 표준점수 \n",
    "\n",
    "- 데이터 전처리를 할때 표준점수로 데이터의 scale을 변환할 수 있다.\n",
    "- 더 적절한 데이터의 형태로 전처리 과정을 거친 데이터를 사용해야 올바른 결과를 도출할 수 있다.\n",
    "\n",
    "참고 link: https://statistics.laerd.com/statistical-guides/standard-score.php"
   ]
  },
  {
   "cell_type": "code",
   "execution_count": 1,
   "id": "3b22c16e",
   "metadata": {},
   "outputs": [],
   "source": [
    "fish_length = [25.4, 26.3, 26.5, 29.0, 29.0, 29.7, 29.7, 30.0, 30.0, 30.7, 31.0, 31.0, \n",
    "                31.5, 32.0, 32.0, 32.0, 33.0, 33.0, 33.5, 33.5, 34.0, 34.0, 34.5, 35.0, \n",
    "                35.0, 35.0, 35.0, 36.0, 36.0, 37.0, 38.5, 38.5, 39.5, 41.0, 41.0, 9.8, \n",
    "                10.5, 10.6, 11.0, 11.2, 11.3, 11.8, 11.8, 12.0, 12.2, 12.4, 13.0, 14.3, 15.0]\n",
    "fish_weight = [242.0, 290.0, 340.0, 363.0, 430.0, 450.0, 500.0, 390.0, 450.0, 500.0, 475.0, 500.0, \n",
    "                500.0, 340.0, 600.0, 600.0, 700.0, 700.0, 610.0, 650.0, 575.0, 685.0, 620.0, 680.0, \n",
    "                700.0, 725.0, 720.0, 714.0, 850.0, 1000.0, 920.0, 955.0, 925.0, 975.0, 950.0, 6.7, \n",
    "                7.5, 7.0, 9.7, 9.8, 8.7, 10.0, 9.9, 9.8, 12.2, 13.4, 12.2, 19.7, 19.9]"
   ]
  },
  {
   "cell_type": "markdown",
   "id": "7ef6fcbc",
   "metadata": {},
   "source": [
    "### numpy의 column_stack()메소드 활용\n",
    "- 데이터 리스트를 세로로 세워서 나란히 연결한다.\n",
    "- 연결 할 리스트를 tuple로 전달해서 전달 할 값이 바뀌지 않도록 한다.\n",
    "\n",
    "**note:**\n",
    "- zip()으로는 리스트를 반환해준다(이전에는 리스트안의 리스트를 사용했다)\n",
    "- column_stack()은 array(배열)를 반환해준다. (리스트안에 다른 차원의 row들이 있는것이다.) 다차원의 data를 다룰때에는 배열의 데이터 구조로 변환을 해서 데이터를 다루어야한다."
   ]
  },
  {
   "cell_type": "code",
   "execution_count": 2,
   "id": "4adab8a9",
   "metadata": {},
   "outputs": [
    {
     "data": {
      "text/plain": [
       "array([[1, 4],\n",
       "       [2, 5],\n",
       "       [3, 6]])"
      ]
     },
     "execution_count": 2,
     "metadata": {},
     "output_type": "execute_result"
    }
   ],
   "source": [
    "import numpy as np\n",
    "\n",
    "arr1 = [1,2,3]\n",
    "arr2 = [4,5,6]\n",
    "arr_pair = (arr1, arr2)\n",
    "np.column_stack(arr_pair)"
   ]
  },
  {
   "cell_type": "code",
   "execution_count": 3,
   "id": "8a9e7493",
   "metadata": {},
   "outputs": [
    {
     "name": "stdout",
     "output_type": "stream",
     "text": [
      "[[ 25.4 242. ]\n",
      " [ 26.3 290. ]\n",
      " [ 26.5 340. ]\n",
      " [ 29.  363. ]\n",
      " [ 29.  430. ]]\n"
     ]
    }
   ],
   "source": [
    "fish_data = np.column_stack((fish_length, fish_weight))\n",
    "print(fish_data[:5])"
   ]
  },
  {
   "cell_type": "markdown",
   "id": "76e4f420",
   "metadata": {},
   "source": [
    "### np.ones(), np.zeros(), np.concatenate() 활용\n",
    "\n",
    "타깃 데이터는 np.ones()와 np.zeros()를 사용해서 1과 0으로만 구성된 데이터 배열을 만들 수 있다.(1이 35개인 배열과 0이 14개인 배열)\n",
    "\n",
    "왜 넘파이 배열을 사용하는가?\n",
    "\n",
    "- 데이터가 커질수록 넘파이 배열을 사용해야지 더 빠르게 데이터를 다룰 수 있고, 데이터 분석에 알맞게 최적화되어 있다.\n",
    "\n",
    "생성된 두 배열은 np.concatenate() 함수에 튜플로 전달하여 연결한다."
   ]
  },
  {
   "cell_type": "code",
   "execution_count": 4,
   "id": "3b3c529b",
   "metadata": {},
   "outputs": [
    {
     "name": "stdout",
     "output_type": "stream",
     "text": [
      "[1. 1. 1. 1. 1.]\n"
     ]
    }
   ],
   "source": [
    "print(np.ones(5))"
   ]
  },
  {
   "cell_type": "code",
   "execution_count": 5,
   "id": "d53bb3c0",
   "metadata": {},
   "outputs": [
    {
     "name": "stdout",
     "output_type": "stream",
     "text": [
      "[1. 1. 1. 1. 1. 1. 1. 1. 1. 1. 1. 1. 1. 1. 1. 1. 1. 1. 1. 1. 1. 1. 1. 1.\n",
      " 1. 1. 1. 1. 1. 1. 1. 1. 1. 1. 1. 0. 0. 0. 0. 0. 0. 0. 0. 0. 0. 0. 0. 0.\n",
      " 0.]\n"
     ]
    }
   ],
   "source": [
    "fish_target = np.concatenate((np.ones(35),np.zeros(14)))\n",
    "print(fish_target)"
   ]
  },
  {
   "cell_type": "markdown",
   "id": "e195ec71",
   "metadata": {},
   "source": [
    "### train_test_split()메소드 활용\n",
    "\n",
    "train_test_split()메소드는 scikit-Learn의 utility tool중 하나이다. \n",
    "\n",
    "데이터를 훈련세트와 테스트세트로 나누어준다. (e.g., fish_data, fish_target 2개의 배열을 전달하면 2개씩 총 4개의 배열이 반환된다.)\n",
    "\n",
    "배열을 비율에 맞게 훈련세트와 테스트 세트로 나누어 준다.(기본적으로 25%를 테스트 세트로 나눈다. (but 퍼센트 변경가능))\n",
    "\n",
    "**random_state:** \n",
    "\n",
    "random state 매개변수는 앞전에 사용했던 np.random.seed()와 같은 역할을 한다. \n",
    "\n",
    "**stratify:**\n",
    "\n",
    "샘플링 편향이 나타나지 않토록 stratify 매개변수에 타킷 데이터를 전달하면 해당 타겟 데이터내의 클래스 비율에 맞게 데이터를 나누어준다. 훈련데이터가 작거나, 샘플개수가 적을때 유용하다."
   ]
  },
  {
   "cell_type": "code",
   "execution_count": 6,
   "id": "e0f832f0",
   "metadata": {},
   "outputs": [
    {
     "name": "stdout",
     "output_type": "stream",
     "text": [
      "[0. 0. 1. 0. 1. 0. 1. 1. 1. 1. 1. 1. 1.]\n"
     ]
    }
   ],
   "source": [
    "from sklearn.model_selection import train_test_split\n",
    "\n",
    "train_input, test_input, train_target, test_target = train_test_split(fish_data, fish_target, \n",
    "                                                                      stratify=fish_target, random_state=42)\n",
    "\n",
    "print(test_target)"
   ]
  },
  {
   "cell_type": "code",
   "execution_count": 7,
   "id": "8b259ca6",
   "metadata": {},
   "outputs": [
    {
     "data": {
      "text/plain": [
       "((36, 2), (36,))"
      ]
     },
     "execution_count": 7,
     "metadata": {},
     "output_type": "execute_result"
    }
   ],
   "source": [
    "train_input.shape, train_target.shape #모델 훈련할때에(fit) 사용 할 데이터 (49개중 36개가 선택되었다)"
   ]
  },
  {
   "cell_type": "code",
   "execution_count": 8,
   "id": "f72877c0",
   "metadata": {},
   "outputs": [
    {
     "data": {
      "text/plain": [
       "((13, 2), (13,))"
      ]
     },
     "execution_count": 8,
     "metadata": {},
     "output_type": "execute_result"
    }
   ],
   "source": [
    "test_input.shape, test_target.shape #모델을 이용 및 평가 시(score) 사용 할 데이터 (49개중 13개가 선택되었다)"
   ]
  },
  {
   "cell_type": "markdown",
   "id": "b172aa27",
   "metadata": {},
   "source": [
    "## 훈련과 테스트 데이터의 전처리\n",
    "\n",
    "### (1) 잘못된 결과를 주는 case 구현해보기\n",
    "\n",
    "- k-최근접 이웃을 훈련하고 테스트 데이터로 모델을 평가 한다.\n",
    "- length = 25, weight = 150인 도미인지 알고있는 샘플 생선을 모델로 예측을 해보면:\n",
    "    - score() 정확도가 1.0으로 매우 높음에도 불구하고,\n",
    "    - 결과가 도미가 아닌 빙어로 잘못된 결과가 나오는것이 확인된다."
   ]
  },
  {
   "cell_type": "code",
   "execution_count": 9,
   "id": "4c63208c",
   "metadata": {},
   "outputs": [
    {
     "data": {
      "text/plain": [
       "1.0"
      ]
     },
     "execution_count": 9,
     "metadata": {},
     "output_type": "execute_result"
    }
   ],
   "source": [
    "from sklearn.neighbors import KNeighborsClassifier\n",
    "\n",
    "kn = KNeighborsClassifier()\n",
    "kn.fit(train_input, train_target)\n",
    "kn.score(test_input, test_target)"
   ]
  },
  {
   "cell_type": "code",
   "execution_count": 10,
   "id": "af45334c",
   "metadata": {},
   "outputs": [
    {
     "name": "stdout",
     "output_type": "stream",
     "text": [
      "[0.]\n"
     ]
    }
   ],
   "source": [
    "print(kn.predict([[25,150]])) # 결과가  도미(=1)이 아닌, 0(=빙어)이 나왔다. 모델이 틀리게 예측했다."
   ]
  },
  {
   "cell_type": "markdown",
   "id": "a50a5312",
   "metadata": {},
   "source": [
    "scatterplot으로 샘플 (25, 150)이 어디에 위치하는지 확인해본다.\n",
    "\n",
    "이 샘플은 오른쪽 위로 뻗어있는 다른 도미데이터에 더 가깝다. 근데 결과는 아래 낮게 깔린 빙어데이터에 가깝다고 판단했다."
   ]
  },
  {
   "cell_type": "code",
   "execution_count": 11,
   "id": "f7a77181",
   "metadata": {},
   "outputs": [
    {
     "data": {
      "image/png": "[encoded data removed]",
      "text/plain": [
       "<Figure size 432x288 with 1 Axes>"
      ]
     },
     "metadata": {
      "needs_background": "light"
     },
     "output_type": "display_data"
    }
   ],
   "source": [
    "import matplotlib.pyplot as plt\n",
    "\n",
    "plt.scatter(train_input[:,0], train_input[:,1]) #훈련데이터\n",
    "plt.scatter(25, 150, marker='^') #예측할 샘플(도미)\n",
    "plt.xlabel('length')\n",
    "plt.ylabel('weight')\n",
    "plt.show()"
   ]
  },
  {
   "cell_type": "markdown",
   "id": "40a0daa2",
   "metadata": {},
   "source": [
    "### 이웃이 무엇이였길래 잘못된 결과가 나온것인가?\n",
    "#### kneighbors() 메소드로 확인한다:\n",
    "\n",
    "kneighbors(샘플 데이터) : 샘플에서 가장 가까운 이웃들(기본 5개)까지의 거리(distances)와 해당 이웃들의 인덱스를 반환해준다."
   ]
  },
  {
   "cell_type": "code",
   "execution_count": 12,
   "id": "46bfb36b",
   "metadata": {},
   "outputs": [
    {
     "name": "stdout",
     "output_type": "stream",
     "text": [
      "[[ 92.00086956 130.48375378 130.73859415 138.32150953 138.39320793]]\n",
      "[[21 33 19 30  1]]\n"
     ]
    }
   ],
   "source": [
    "distances, indexes = kn.kneighbors([[25, 150]]) \n",
    "print(distances)\n",
    "print(indexes)"
   ]
  },
  {
   "cell_type": "code",
   "execution_count": 13,
   "id": "cb6f197b",
   "metadata": {},
   "outputs": [
    {
     "data": {
      "image/png": "[encoded data removed]",
      "text/plain": [
       "<Figure size 432x288 with 1 Axes>"
      ]
     },
     "metadata": {
      "needs_background": "light"
     },
     "output_type": "display_data"
    }
   ],
   "source": [
    "plt.scatter(train_input[: ,0], train_input[: ,1])\n",
    "plt.scatter(25, 150, marker ='^') #'^'는 세모 모양\n",
    "plt.scatter(train_input[indexes,0], train_input[indexes,1], marker='D') #'D'는 다이아몬드 모양\n",
    "plt.xlabel('length')\n",
    "plt.ylabel('weight')\n",
    "\n",
    "plt.show()"
   ]
  },
  {
   "cell_type": "markdown",
   "id": "ceb93302",
   "metadata": {},
   "source": [
    "kneighbors() 함수로 찾은 indexes에 해당하는 train_input data들 5개중, 4개가 빙어이고, 1개만 도미이다.\n",
    "\n",
    "distances에서 확인되는 거리값은 빙어들보다 도미와 훨씬 더 가깝지만,\n",
    "kneighbors로 찾은 이웃 5개의 4개가 빙어 이므로 결과가 빙어(=0)이 나왔던것이다.\n",
    "\n",
    "다음과 같이 실제 값을 확인:"
   ]
  },
  {
   "cell_type": "code",
   "execution_count": 14,
   "id": "4efa5938",
   "metadata": {},
   "outputs": [
    {
     "name": "stdout",
     "output_type": "stream",
     "text": [
      "[[[ 25.4 242. ]\n",
      "  [ 15.   19.9]\n",
      "  [ 14.3  19.7]\n",
      "  [ 13.   12.2]\n",
      "  [ 12.2  12.2]]]\n"
     ]
    }
   ],
   "source": [
    "print(train_input[indexes])"
   ]
  },
  {
   "cell_type": "code",
   "execution_count": 15,
   "id": "b345cdbd",
   "metadata": {},
   "outputs": [
    {
     "name": "stdout",
     "output_type": "stream",
     "text": [
      "[[1. 0. 0. 0. 0.]]\n"
     ]
    }
   ],
   "source": [
    "print(train_target[indexes])"
   ]
  },
  {
   "cell_type": "code",
   "execution_count": 16,
   "id": "b9a58f42",
   "metadata": {},
   "outputs": [
    {
     "name": "stdout",
     "output_type": "stream",
     "text": [
      "[[ 92.00086956 130.48375378 130.73859415 138.32150953 138.39320793]]\n"
     ]
    }
   ],
   "source": [
    "print(distances)"
   ]
  },
  {
   "cell_type": "markdown",
   "id": "087b07a2",
   "metadata": {},
   "source": [
    "(length)x-axis는 scaled in units of 5, (weight)y-axis는 scaled in units of 200. 주어진 데이터에서는 weight의 값의 변동이 length의 값의 변동보다 훨~씬 더 크다. **\"데이터(특성) 간의 scale이(범위가) 다르다.\"**\n",
    "\n",
    "#### xlim()으로 scatterplot을 다시 x,y동일한 scale로 그려보기:\n",
    "\n",
    "xlim(0,1000)으로 x축을 y축의 범위와 비슷한 수준으로 지정하여 다시 scatterplot을 그려본다.\n",
    "\n",
    "\n",
    "**\"kNN는 거리기반의 algorithm이다\"** \n",
    "\n",
    "weight 특성의 영향으로 거의 dominant하며, length 특성은 거의 반영되지 않고있었다.\n",
    "(Majorly, y값이 결과 (0 or 1)을 결정하는데에 반영됨) \n",
    "\n",
    "\n",
    "dominant한 weight특성이 우선 고려되어 weight scale에서 가장 가까운 거리의 이웃을 고려하다보니, length가 도미에 가까운 샘플을 예측해도 빙어라는 결과가 나왔던것이다."
   ]
  },
  {
   "cell_type": "code",
   "execution_count": 15,
   "id": "2d3c264a",
   "metadata": {},
   "outputs": [
    {
     "data": {
      "image/png": "[encoded data removed]",
      "text/plain": [
       "<Figure size 432x288 with 1 Axes>"
      ]
     },
     "metadata": {
      "needs_background": "light"
     },
     "output_type": "display_data"
    }
   ],
   "source": [
    "plt.scatter(train_input[: ,0], train_input[: ,1])\n",
    "plt.scatter(25, 150, marker ='^') #'^'는 세모 모양\n",
    "plt.scatter(train_input[indexes,0], train_input[indexes,1], marker='D') #'D'는 다이아몬드 모양\n",
    "plt.xlim((0,1000))\n",
    "plt.xlabel('length')\n",
    "plt.ylabel('weight')\n",
    "\n",
    "plt.show()"
   ]
  },
  {
   "cell_type": "markdown",
   "id": "ada92c19",
   "metadata": {},
   "source": [
    "### (2) 전처리된 데이터로 정확한 결과를 주는 case 구현해보기\n",
    "\n",
    "### 표준점수\n",
    "\n",
    "#### 표준점수를 사용해서 각 특성의 scale 차이를 고려하도록 데이터를 전처리해야한다. \n",
    "\n",
    "- 데이터 특성의 스케일이 다를때 가장 널리 사용되는 전처리 작업- 표준 점수(standard z score)\n",
    "  \n",
    "  - [표준점수] = 원본 데이터에서 평균을 빼고 표준편차로 나눈 값 (numpy를 사용해서 데이터 배열에 broadcasting해서 표준점수를 계산한다)\n",
    "  \n",
    "  \n",
    "- Z점수라고도 부르는 표준점수는 각각의 데이터 값이 동일한 기준에서 몇배의 표준편차만큼 떨어져 있는지를 나타낸다. 이를 통해 실제 특성값의 크기와 상관없이 동일한 조건으로 비교할 수 있다."
   ]
  },
  {
   "cell_type": "code",
   "execution_count": 17,
   "id": "fd99584c",
   "metadata": {},
   "outputs": [
    {
     "name": "stdout",
     "output_type": "stream",
     "text": [
      "[ 27.29722222 454.09722222]\n",
      "[  9.98244253 323.29893931]\n"
     ]
    }
   ],
   "source": [
    "#column별로 평균을 구하기위해 axis=0 (아래로 내려가는 방향)\n",
    "mean = np.mean(train_input, axis=0)\n",
    "std = np.std(train_input, axis=0)\n",
    "\n",
    "print(mean) #평균\n",
    "print(std) #표준편차"
   ]
  },
  {
   "cell_type": "code",
   "execution_count": 18,
   "id": "1eef77ef",
   "metadata": {},
   "outputs": [
    {
     "data": {
      "text/plain": [
       "array([[ 0.24070039,  0.14198246],\n",
       "       [-1.51237757, -1.36683783],\n",
       "       [ 0.5712808 ,  0.76060496],\n",
       "       [-1.60253587, -1.37766373],\n",
       "       [ 1.22242404,  1.45655528],\n",
       "       [ 0.17057727, -0.07453542],\n",
       "       [ 0.87180845,  0.80390854],\n",
       "       [ 0.87180845,  1.22457184],\n",
       "       [ 0.37092904,  0.06465464],\n",
       "       [ 0.77163257,  0.82246721],\n",
       "       [ 0.97198434,  1.68853872],\n",
       "       [-1.61255346, -1.3742613 ],\n",
       "       [ 0.72154463,  0.51315596],\n",
       "       [-1.53241275, -1.3742613 ],\n",
       "       [ 0.17057727, -0.28177396],\n",
       "       [ 0.5712808 ,  0.76060496],\n",
       "       [ 0.34087627,  0.14198246],\n",
       "       [ 1.12224816,  1.54934866],\n",
       "       [ 0.62136874,  0.60594934],\n",
       "       [-1.30200822, -1.34363949],\n",
       "       [ 0.42101698,  0.14198246],\n",
       "       [-0.19005591, -0.65604058],\n",
       "       [-1.75279969, -1.38384995],\n",
       "       [ 0.47110492,  0.45129371],\n",
       "       [-1.68267658, -1.38137546],\n",
       "       [ 0.62136874,  0.48222484],\n",
       "       [-1.67265899, -1.38292202],\n",
       "       [ 0.77163257,  0.76060496],\n",
       "       [ 0.47110492,  0.45129371],\n",
       "       [ 0.77163257,  0.83793278],\n",
       "       [-1.43223687, -1.36683783],\n",
       "       [ 0.27075315, -0.01267317],\n",
       "       [ 0.47110492, -0.35291555],\n",
       "       [-1.2318851 , -1.34302087],\n",
       "       [ 0.27075315, -0.19825992],\n",
       "       [ 1.37268787,  1.61121091]])"
      ]
     },
     "execution_count": 18,
     "metadata": {},
     "output_type": "execute_result"
    }
   ],
   "source": [
    "#boradcasting\n",
    "train_scaled = (train_input - mean)/std\n",
    "train_scaled"
   ]
  },
  {
   "cell_type": "markdown",
   "id": "c8548f8a",
   "metadata": {},
   "source": [
    "### 전처리된 데이터로 모델을 훈련\n",
    "\n",
    "표준점수로 변환한 train_scaled와 샘플 생선(length=20, weight=150)로 산점도를 그린다.\n",
    "\n",
    "샘플도 표준 점수로 변환하여 사용한다."
   ]
  },
  {
   "cell_type": "code",
   "execution_count": 19,
   "id": "f360da93",
   "metadata": {},
   "outputs": [
    {
     "data": {
      "text/plain": [
       "array([-0.23012627, -0.94060693])"
      ]
     },
     "execution_count": 19,
     "metadata": {},
     "output_type": "execute_result"
    }
   ],
   "source": [
    "#샘플도 표준점수로 계산\n",
    "sample = ([25, 150] - mean)/std\n",
    "sample"
   ]
  },
  {
   "cell_type": "code",
   "execution_count": 20,
   "id": "7aae83f8",
   "metadata": {},
   "outputs": [
    {
     "data": {
      "image/png": "[encoded data removed]",
      "text/plain": [
       "<Figure size 432x288 with 1 Axes>"
      ]
     },
     "metadata": {
      "needs_background": "light"
     },
     "output_type": "display_data"
    }
   ],
   "source": [
    "plt.scatter(train_scaled[:,0], train_scaled[:,1])\n",
    "plt.scatter(sample[0], sample[1], marker='^')\n",
    "plt.xlabel('length')\n",
    "plt.ylabel('weight')\n",
    "plt.show()"
   ]
  },
  {
   "cell_type": "code",
   "execution_count": 21,
   "id": "589d7786",
   "metadata": {},
   "outputs": [
    {
     "data": {
      "text/plain": [
       "KNeighborsClassifier()"
      ]
     },
     "execution_count": 21,
     "metadata": {},
     "output_type": "execute_result"
    }
   ],
   "source": [
    "#표준점수로 변환한 데이터로 k-최근접 이웃 모델을 다시 훈련한다.\n",
    "kn.fit(train_scaled, train_target)"
   ]
  },
  {
   "cell_type": "code",
   "execution_count": 22,
   "id": "67612caf",
   "metadata": {},
   "outputs": [],
   "source": [
    "#테스트 세트도 표준점수로 변환한다.\n",
    "test_scaled = (test_input - mean)/std"
   ]
  },
  {
   "cell_type": "code",
   "execution_count": 23,
   "id": "bc248623",
   "metadata": {},
   "outputs": [
    {
     "data": {
      "text/plain": [
       "1.0"
      ]
     },
     "execution_count": 23,
     "metadata": {},
     "output_type": "execute_result"
    }
   ],
   "source": [
    "#모델의 정확도 평가 \n",
    "kn.score(test_scaled, test_target)"
   ]
  },
  {
   "cell_type": "code",
   "execution_count": 24,
   "id": "83bad161",
   "metadata": {},
   "outputs": [
    {
     "name": "stdout",
     "output_type": "stream",
     "text": [
      "[1.]\n"
     ]
    }
   ],
   "source": [
    "#샘플을 사용해서 모델을 예측한다.\n",
    "print(kn.predict([sample])) #도미로 예측된다 : CORRECT!"
   ]
  },
  {
   "cell_type": "markdown",
   "id": "548c92b8",
   "metadata": {},
   "source": [
    "### kneighbors()\n",
    "\n",
    "kneighbors()로 확인하면 표준점수로 전처리된 데이터를 사용한 경우, 이웃들이 도미쪽에 있고, 샘플의 예측 결과는 정확하게 도미가 나오는것을 확인 할 수 있다."
   ]
  },
  {
   "cell_type": "code",
   "execution_count": 25,
   "id": "132a5bef",
   "metadata": {},
   "outputs": [
    {
     "data": {
      "image/png": "[encoded data removed]",
      "text/plain": [
       "<Figure size 432x288 with 1 Axes>"
      ]
     },
     "metadata": {
      "needs_background": "light"
     },
     "output_type": "display_data"
    }
   ],
   "source": [
    "#kneighbors()로 이웃을 구하여 산점도로 확인한다.\n",
    "distances, indexes = kn.kneighbors([sample])\n",
    "\n",
    "plt.scatter(train_scaled[:,0], train_scaled[:,1])\n",
    "plt.scatter(sample[0], sample[1], marker='^')\n",
    "plt.scatter(train_scaled[indexes,0], train_scaled[indexes,1], marker='D')\n",
    "plt.xlabel('length')\n",
    "plt.ylabel('weight')\n",
    "plt.show()"
   ]
  },
  {
   "cell_type": "code",
   "execution_count": 26,
   "id": "7c4d11e3",
   "metadata": {},
   "outputs": [
    {
     "data": {
      "text/plain": [
       "array([[[-0.19005591, -0.65604058],\n",
       "        [ 0.17057727, -0.28177396],\n",
       "        [ 0.27075315, -0.19825992],\n",
       "        [ 0.47110492, -0.35291555],\n",
       "        [ 0.17057727, -0.07453542]]])"
      ]
     },
     "execution_count": 26,
     "metadata": {},
     "output_type": "execute_result"
    }
   ],
   "source": [
    "train_scaled[indexes] #diamond shaped dots"
   ]
  },
  {
   "cell_type": "code",
   "execution_count": 27,
   "id": "9e6c7a7b",
   "metadata": {},
   "outputs": [
    {
     "data": {
      "text/plain": [
       "array([[1., 1., 1., 1., 1.]])"
      ]
     },
     "execution_count": 27,
     "metadata": {},
     "output_type": "execute_result"
    }
   ],
   "source": [
    "train_target[indexes] #kneighbor로 선정된 이웃들이 도미이다."
   ]
  }
 ],
 "metadata": {
  "kernelspec": {
   "display_name": "pydata",
   "language": "python",
   "name": "pydata"
  },
  "language_info": {
   "codemirror_mode": {
    "name": "ipython",
    "version": 3
   },
   "file_extension": ".py",
   "mimetype": "text/x-python",
   "name": "python",
   "nbconvert_exporter": "python",
   "pygments_lexer": "ipython3",
   "version": "3.7.10"
  }
 },
 "nbformat": 4,
 "nbformat_minor": 5
}
